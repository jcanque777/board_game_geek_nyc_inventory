{
 "cells": [
  {
   "cell_type": "code",
   "execution_count": 1,
   "metadata": {},
   "outputs": [],
   "source": [
    "from selenium.webdriver.support import expected_conditions as EC\n",
    "from selenium.common.exceptions import TimeoutException\n",
    "from selenium.webdriver.support.ui import WebDriverWait\n",
    "from selenium.webdriver.common.keys import Keys\n",
    "from selenium.webdriver.common.by import By\n",
    "from selenium import webdriver\n",
    "\n",
    "from bs4 import BeautifulSoup \n",
    "import requests \n",
    "\n",
    "from tqdm import tnrange, tqdm_notebook as tqdm\n",
    "import time\n",
    "import random\n",
    "from copy import deepcopy\n",
    "\n",
    "import pickle"
   ]
  },
  {
   "cell_type": "code",
   "execution_count": 2,
   "metadata": {},
   "outputs": [],
   "source": [
    "import pandas as pd\n",
    "import numpy as np"
   ]
  },
  {
   "cell_type": "code",
   "execution_count": 206,
   "metadata": {},
   "outputs": [],
   "source": [
    "driver = webdriver.Chrome() #browser should be named driver in the future, common coding etiquette"
   ]
  },
  {
   "cell_type": "code",
   "execution_count": 207,
   "metadata": {},
   "outputs": [],
   "source": [
    "driver.get('https://boardgamegeek.com/geeklist/198692/nyc-flea-market-trade-list/page/1')"
   ]
  },
  {
   "cell_type": "code",
   "execution_count": 9,
   "metadata": {},
   "outputs": [],
   "source": [
    "boxes = driver.find_elements_by_class_name('mb5')"
   ]
  },
  {
   "cell_type": "code",
   "execution_count": 12,
   "metadata": {},
   "outputs": [
    {
     "data": {
      "text/plain": [
       "'1. Board Game: Administration [Average Rating:7.00 Unranked]'"
      ]
     },
     "execution_count": 12,
     "metadata": {},
     "output_type": "execute_result"
    }
   ],
   "source": [
    "boxes[0].find_element_by_class_name('geeklist_item_title').text"
   ]
  },
  {
   "cell_type": "code",
   "execution_count": null,
   "metadata": {},
   "outputs": [],
   "source": []
  },
  {
   "cell_type": "markdown",
   "metadata": {},
   "source": [
    "# Scrape NYC Sales"
   ]
  },
  {
   "cell_type": "markdown",
   "metadata": {},
   "source": [
    "## Link To Game"
   ]
  },
  {
   "cell_type": "code",
   "execution_count": 31,
   "metadata": {},
   "outputs": [
    {
     "data": {
      "text/plain": [
       "'https://boardgamegeek.com/geeklist/198692/item/4237577#item4237577'"
      ]
     },
     "execution_count": 31,
     "metadata": {},
     "output_type": "execute_result"
    }
   ],
   "source": [
    "boxes[0].find_element_by_tag_name('a').get_attribute('href')"
   ]
  },
  {
   "cell_type": "markdown",
   "metadata": {},
   "source": [
    "## Name"
   ]
  },
  {
   "cell_type": "code",
   "execution_count": null,
   "metadata": {},
   "outputs": [],
   "source": []
  },
  {
   "cell_type": "code",
   "execution_count": 97,
   "metadata": {},
   "outputs": [
    {
     "data": {
      "text/plain": [
       "'Arraial'"
      ]
     },
     "execution_count": 97,
     "metadata": {},
     "output_type": "execute_result"
    }
   ],
   "source": [
    "boxes[6].find_elements_by_tag_name('a')[1].text"
   ]
  },
  {
   "cell_type": "code",
   "execution_count": 39,
   "metadata": {},
   "outputs": [
    {
     "name": "stdout",
     "output_type": "stream",
     "text": [
      "0 https://boardgamegeek.com/geeklist/198692/item/7218270#item7218270\n",
      "1 https://boardgamegeek.com/boardgame/246150/arraial\n",
      "2 https://boardgamegeek.com/browse/boardgame?rank=3311#3311\n",
      "3 https://boardgamegeek.com/image/4089634/arraial\n",
      "4 https://boardgamegeek.com/user/brendan126\n",
      "5 https://boardgamegeek.com/users?country=United%20States\n",
      "6 https://boardgamegeek.com/geekmail/compose?touser=brendan126\n",
      "7 javascript://\n",
      "8 https://boardgamegeek.com/user/brendan126\n",
      "9 https://boardgamegeek.com/microbadge/40144\n",
      "10 https://boardgamegeek.com/microbadge/2834\n",
      "11 https://boardgamegeek.com/microbadge/25384\n",
      "12 https://boardgamegeek.com/microbadge/42591\n",
      "13 https://boardgamegeek.com/microbadge/42681\n",
      "14 https://boardgamegeek.com/login\n",
      "15 https://boardgamegeek.com/login\n",
      "16 https://boardgamegeek.com/login\n",
      "17 https://boardgamegeek.com/login\n",
      "18 https://boardgamegeek.com/login\n",
      "19 https://boardgamegeek.com/geeklist/198692/item/7218270#item7218270\n",
      "20 javascript://\n",
      "21 javascript://\n",
      "22 javascript://\n",
      "23 None\n",
      "24 None\n",
      "25 None\n"
     ]
    }
   ],
   "source": [
    "count= 0 \n",
    "for i in boxes[6].find_elements_by_tag_name('a'):\n",
    "    print(count, i.get_attribute('href'))\n",
    "    count+=1"
   ]
  },
  {
   "cell_type": "markdown",
   "metadata": {},
   "source": [
    "## Link to listing"
   ]
  },
  {
   "cell_type": "code",
   "execution_count": 44,
   "metadata": {},
   "outputs": [
    {
     "data": {
      "text/plain": [
       "'https://boardgamegeek.com/geeklist/198692/item/7218270#item7218270'"
      ]
     },
     "execution_count": 44,
     "metadata": {},
     "output_type": "execute_result"
    }
   ],
   "source": [
    "boxes[6].find_elements_by_tag_name('a')[0].get_attribute('href')"
   ]
  },
  {
   "cell_type": "markdown",
   "metadata": {},
   "source": [
    "## Link to Game"
   ]
  },
  {
   "cell_type": "code",
   "execution_count": 43,
   "metadata": {},
   "outputs": [
    {
     "data": {
      "text/plain": [
       "'https://boardgamegeek.com/boardgame/246150/arraial'"
      ]
     },
     "execution_count": 43,
     "metadata": {},
     "output_type": "execute_result"
    }
   ],
   "source": [
    "boxes[6].find_elements_by_tag_name('a')[1].get_attribute('href')"
   ]
  },
  {
   "cell_type": "markdown",
   "metadata": {},
   "source": [
    "## Average Rating"
   ]
  },
  {
   "cell_type": "code",
   "execution_count": 71,
   "metadata": {},
   "outputs": [
    {
     "data": {
      "text/plain": [
       "'[Average Rating:8.84 Overall Rank:1]'"
      ]
     },
     "execution_count": 71,
     "metadata": {},
     "output_type": "execute_result"
    }
   ],
   "source": [
    "# Average Rating\n",
    "boxes[3].find_element_by_class_name('sf').text"
   ]
  },
  {
   "cell_type": "markdown",
   "metadata": {},
   "source": [
    "## Overall Game Ranking"
   ]
  },
  {
   "cell_type": "code",
   "execution_count": 70,
   "metadata": {},
   "outputs": [
    {
     "data": {
      "text/plain": [
       "'1'"
      ]
     },
     "execution_count": 70,
     "metadata": {},
     "output_type": "execute_result"
    }
   ],
   "source": [
    "# Overall Rating\n",
    "boxes[3].find_element_by_class_name('sf').find_element_by_tag_name('a').text"
   ]
  },
  {
   "cell_type": "markdown",
   "metadata": {},
   "source": [
    "## Seller"
   ]
  },
  {
   "cell_type": "code",
   "execution_count": 74,
   "metadata": {},
   "outputs": [
    {
     "data": {
      "text/plain": [
       "'brendan126'"
      ]
     },
     "execution_count": 74,
     "metadata": {},
     "output_type": "execute_result"
    }
   ],
   "source": [
    "boxes[6].find_elements_by_tag_name('a')[4].text"
   ]
  },
  {
   "cell_type": "markdown",
   "metadata": {},
   "source": [
    "## Comments"
   ]
  },
  {
   "cell_type": "code",
   "execution_count": 84,
   "metadata": {},
   "outputs": [
    {
     "data": {
      "text/plain": [
       "\"This is not a game listing.\\n\\nAdd a comment here to list games you are highly interested in picking up but are not posted.\\n---\\n\\nIt is recommended and easiest to subscribe to the full geeklist.\\n\\nIf you don't want to subscribe to the full list, subscribe to this specific item to receive notification about games people looking to pick up. Don't forget to subscribe to specific items you want to keep an eye on.\""
      ]
     },
     "execution_count": 84,
     "metadata": {},
     "output_type": "execute_result"
    }
   ],
   "source": [
    "boxes[2].find_element_by_class_name('doubleright').text"
   ]
  },
  {
   "cell_type": "markdown",
   "metadata": {},
   "source": [
    "## Last Edited"
   ]
  },
  {
   "cell_type": "code",
   "execution_count": 87,
   "metadata": {},
   "outputs": [
    {
     "data": {
      "text/plain": [
       "'Edited Sun Nov 1, 2015 9:39 pm\\nPosted Sun Oct 25, 2015 8:12 pm\\nSubscribe \\nComment Die Rolls'"
      ]
     },
     "execution_count": 87,
     "metadata": {},
     "output_type": "execute_result"
    }
   ],
   "source": [
    "boxes[2].find_element_by_class_name('information').text"
   ]
  },
  {
   "cell_type": "code",
   "execution_count": null,
   "metadata": {},
   "outputs": [],
   "source": []
  },
  {
   "cell_type": "markdown",
   "metadata": {},
   "source": [
    "## Create Functions"
   ]
  },
  {
   "cell_type": "code",
   "execution_count": null,
   "metadata": {},
   "outputs": [],
   "source": []
  },
  {
   "cell_type": "code",
   "execution_count": 149,
   "metadata": {},
   "outputs": [],
   "source": [
    "boxes = driver.find_elements_by_class_name('mb5')"
   ]
  },
  {
   "cell_type": "code",
   "execution_count": 205,
   "metadata": {},
   "outputs": [],
   "source": [
    "games = []"
   ]
  },
  {
   "cell_type": "code",
   "execution_count": 166,
   "metadata": {},
   "outputs": [],
   "source": [
    "time.sleep(random.choice(sequence))"
   ]
  },
  {
   "cell_type": "code",
   "execution_count": 170,
   "metadata": {},
   "outputs": [],
   "source": [
    "def get_games(driver):\n",
    "    sequence = [x/10 for x in range(10, 20)]\n",
    "    time.sleep(random.choice(sequence))\n",
    "    boxes = driver.find_elements_by_class_name('mb5')\n",
    "    \n",
    "    for i in boxes:\n",
    "        game_features = {}\n",
    "        game_features['name'] = i.find_elements_by_tag_name('a')[1].text\n",
    "        try:\n",
    "            game_features['board_game_link'] = i.find_elements_by_tag_name('a')[1].get_attribute('href')\n",
    "        except: \n",
    "            game_features['board_game_link'] = None\n",
    "\n",
    "        try:\n",
    "            game_features['board_game_listing'] = i.find_elements_by_tag_name('a')[0].get_attribute('href')\n",
    "        except:\n",
    "            game_features['board_game_listing'] = None\n",
    "\n",
    "        # Average Rating\n",
    "        try:\n",
    "            game_features['avg_rating'] = i.find_element_by_class_name('sf').text\n",
    "        except:\n",
    "            game_features['avg_rating'] = None\n",
    "\n",
    "        try:\n",
    "            game_features['overall_ranking'] = i.find_element_by_class_name('sf').find_element_by_tag_name('a').text\n",
    "        except:\n",
    "            game_features['overall_ranking'] = None\n",
    "\n",
    "        try:\n",
    "            game_features['seller'] = i.find_elements_by_tag_name('a')[4].text\n",
    "        except:\n",
    "            game_features['seller'] = None\n",
    "\n",
    "        try:\n",
    "            game_features['comments'] = i.find_element_by_class_name('doubleright').text\n",
    "        except:\n",
    "            game_features['comments'] = None\n",
    "\n",
    "\n",
    "        try:\n",
    "            game_features['last_edited'] = i.find_element_by_class_name('information').text\n",
    "        except:\n",
    "            game_features['last_edited'] = None\n",
    "        games.append(game_features)"
   ]
  },
  {
   "cell_type": "code",
   "execution_count": 380,
   "metadata": {
    "scrolled": true
   },
   "outputs": [
    {
     "data": {
      "application/vnd.jupyter.widget-view+json": {
       "model_id": "ef2740a276164349af1963d85c5bf27e",
       "version_major": 2,
       "version_minor": 0
      },
      "text/plain": [
       "HBox(children=(IntProgress(value=0, max=3), HTML(value='')))"
      ]
     },
     "metadata": {},
     "output_type": "display_data"
    },
    {
     "data": {
      "application/vnd.jupyter.widget-view+json": {
       "model_id": "61668a5f877841f3ab6730d98633afa6",
       "version_major": 2,
       "version_minor": 0
      },
      "text/plain": [
       "HBox(children=(IntProgress(value=0, max=25), HTML(value='')))"
      ]
     },
     "metadata": {},
     "output_type": "display_data"
    },
    {
     "name": "stdout",
     "output_type": "stream",
     "text": [
      "\n"
     ]
    },
    {
     "data": {
      "application/vnd.jupyter.widget-view+json": {
       "model_id": "643b3d13c694460db8985ec31a589264",
       "version_major": 2,
       "version_minor": 0
      },
      "text/plain": [
       "HBox(children=(IntProgress(value=0, max=25), HTML(value='')))"
      ]
     },
     "metadata": {},
     "output_type": "display_data"
    },
    {
     "name": "stdout",
     "output_type": "stream",
     "text": [
      "\n"
     ]
    },
    {
     "data": {
      "application/vnd.jupyter.widget-view+json": {
       "model_id": "858b0334871b4652813f7b8b1bc0867d",
       "version_major": 2,
       "version_minor": 0
      },
      "text/plain": [
       "HBox(children=(IntProgress(value=0, max=2), HTML(value='')))"
      ]
     },
     "metadata": {},
     "output_type": "display_data"
    },
    {
     "name": "stdout",
     "output_type": "stream",
     "text": [
      "\n"
     ]
    },
    {
     "ename": "NoSuchElementException",
     "evalue": "Message: no such element: Unable to locate element: {\"method\":\"xpath\",\"selector\":\"//*[@title=\"next page\"]\"}\n  (Session info: chrome=80.0.3987.122)\n",
     "output_type": "error",
     "traceback": [
      "\u001b[0;31m---------------------------------------------------------------------------\u001b[0m",
      "\u001b[0;31mNoSuchElementException\u001b[0m                    Traceback (most recent call last)",
      "\u001b[0;32m<ipython-input-380-9fcd8df23b38>\u001b[0m in \u001b[0;36m<module>\u001b[0;34m\u001b[0m\n\u001b[1;32m     49\u001b[0m     \u001b[0;32mtry\u001b[0m\u001b[0;34m:\u001b[0m\u001b[0;34m\u001b[0m\u001b[0;34m\u001b[0m\u001b[0m\n\u001b[0;32m---> 50\u001b[0;31m         \u001b[0mlink\u001b[0m \u001b[0;34m=\u001b[0m \u001b[0mdriver\u001b[0m\u001b[0;34m.\u001b[0m\u001b[0mfind_element_by_link_text\u001b[0m\u001b[0;34m(\u001b[0m\u001b[0;34m'Next »'\u001b[0m\u001b[0;34m)\u001b[0m\u001b[0;34m\u001b[0m\u001b[0;34m\u001b[0m\u001b[0m\n\u001b[0m\u001b[1;32m     51\u001b[0m         \u001b[0mlink\u001b[0m\u001b[0;34m.\u001b[0m\u001b[0mclick\u001b[0m\u001b[0;34m(\u001b[0m\u001b[0;34m)\u001b[0m\u001b[0;34m\u001b[0m\u001b[0;34m\u001b[0m\u001b[0m\n",
      "\u001b[0;32m~/opt/anaconda3/lib/python3.7/site-packages/selenium/webdriver/remote/webdriver.py\u001b[0m in \u001b[0;36mfind_element_by_link_text\u001b[0;34m(self, link_text)\u001b[0m\n\u001b[1;32m    427\u001b[0m         \"\"\"\n\u001b[0;32m--> 428\u001b[0;31m         \u001b[0;32mreturn\u001b[0m \u001b[0mself\u001b[0m\u001b[0;34m.\u001b[0m\u001b[0mfind_element\u001b[0m\u001b[0;34m(\u001b[0m\u001b[0mby\u001b[0m\u001b[0;34m=\u001b[0m\u001b[0mBy\u001b[0m\u001b[0;34m.\u001b[0m\u001b[0mLINK_TEXT\u001b[0m\u001b[0;34m,\u001b[0m \u001b[0mvalue\u001b[0m\u001b[0;34m=\u001b[0m\u001b[0mlink_text\u001b[0m\u001b[0;34m)\u001b[0m\u001b[0;34m\u001b[0m\u001b[0;34m\u001b[0m\u001b[0m\n\u001b[0m\u001b[1;32m    429\u001b[0m \u001b[0;34m\u001b[0m\u001b[0m\n",
      "\u001b[0;32m~/opt/anaconda3/lib/python3.7/site-packages/selenium/webdriver/remote/webdriver.py\u001b[0m in \u001b[0;36mfind_element\u001b[0;34m(self, by, value)\u001b[0m\n\u001b[1;32m    977\u001b[0m             \u001b[0;34m'using'\u001b[0m\u001b[0;34m:\u001b[0m \u001b[0mby\u001b[0m\u001b[0;34m,\u001b[0m\u001b[0;34m\u001b[0m\u001b[0;34m\u001b[0m\u001b[0m\n\u001b[0;32m--> 978\u001b[0;31m             'value': value})['value']\n\u001b[0m\u001b[1;32m    979\u001b[0m \u001b[0;34m\u001b[0m\u001b[0m\n",
      "\u001b[0;32m~/opt/anaconda3/lib/python3.7/site-packages/selenium/webdriver/remote/webdriver.py\u001b[0m in \u001b[0;36mexecute\u001b[0;34m(self, driver_command, params)\u001b[0m\n\u001b[1;32m    320\u001b[0m         \u001b[0;32mif\u001b[0m \u001b[0mresponse\u001b[0m\u001b[0;34m:\u001b[0m\u001b[0;34m\u001b[0m\u001b[0;34m\u001b[0m\u001b[0m\n\u001b[0;32m--> 321\u001b[0;31m             \u001b[0mself\u001b[0m\u001b[0;34m.\u001b[0m\u001b[0merror_handler\u001b[0m\u001b[0;34m.\u001b[0m\u001b[0mcheck_response\u001b[0m\u001b[0;34m(\u001b[0m\u001b[0mresponse\u001b[0m\u001b[0;34m)\u001b[0m\u001b[0;34m\u001b[0m\u001b[0;34m\u001b[0m\u001b[0m\n\u001b[0m\u001b[1;32m    322\u001b[0m             response['value'] = self._unwrap_value(\n",
      "\u001b[0;32m~/opt/anaconda3/lib/python3.7/site-packages/selenium/webdriver/remote/errorhandler.py\u001b[0m in \u001b[0;36mcheck_response\u001b[0;34m(self, response)\u001b[0m\n\u001b[1;32m    241\u001b[0m             \u001b[0;32mraise\u001b[0m \u001b[0mexception_class\u001b[0m\u001b[0;34m(\u001b[0m\u001b[0mmessage\u001b[0m\u001b[0;34m,\u001b[0m \u001b[0mscreen\u001b[0m\u001b[0;34m,\u001b[0m \u001b[0mstacktrace\u001b[0m\u001b[0;34m,\u001b[0m \u001b[0malert_text\u001b[0m\u001b[0;34m)\u001b[0m\u001b[0;34m\u001b[0m\u001b[0;34m\u001b[0m\u001b[0m\n\u001b[0;32m--> 242\u001b[0;31m         \u001b[0;32mraise\u001b[0m \u001b[0mexception_class\u001b[0m\u001b[0;34m(\u001b[0m\u001b[0mmessage\u001b[0m\u001b[0;34m,\u001b[0m \u001b[0mscreen\u001b[0m\u001b[0;34m,\u001b[0m \u001b[0mstacktrace\u001b[0m\u001b[0;34m)\u001b[0m\u001b[0;34m\u001b[0m\u001b[0;34m\u001b[0m\u001b[0m\n\u001b[0m\u001b[1;32m    243\u001b[0m \u001b[0;34m\u001b[0m\u001b[0m\n",
      "\u001b[0;31mNoSuchElementException\u001b[0m: Message: no such element: Unable to locate element: {\"method\":\"link text\",\"selector\":\"Next »\"}\n  (Session info: chrome=80.0.3987.122)\n",
      "\nDuring handling of the above exception, another exception occurred:\n",
      "\u001b[0;31mNoSuchElementException\u001b[0m                    Traceback (most recent call last)",
      "\u001b[0;32m<ipython-input-380-9fcd8df23b38>\u001b[0m in \u001b[0;36m<module>\u001b[0;34m\u001b[0m\n\u001b[1;32m     52\u001b[0m         \u001b[0mtime\u001b[0m\u001b[0;34m.\u001b[0m\u001b[0msleep\u001b[0m\u001b[0;34m(\u001b[0m\u001b[0mrandom\u001b[0m\u001b[0;34m.\u001b[0m\u001b[0mchoice\u001b[0m\u001b[0;34m(\u001b[0m\u001b[0msequence\u001b[0m\u001b[0;34m)\u001b[0m\u001b[0;34m)\u001b[0m\u001b[0;34m\u001b[0m\u001b[0;34m\u001b[0m\u001b[0m\n\u001b[1;32m     53\u001b[0m     \u001b[0;32mexcept\u001b[0m\u001b[0;34m:\u001b[0m\u001b[0;34m\u001b[0m\u001b[0;34m\u001b[0m\u001b[0m\n\u001b[0;32m---> 54\u001b[0;31m         \u001b[0mj\u001b[0m \u001b[0;34m=\u001b[0m \u001b[0mdriver\u001b[0m\u001b[0;34m.\u001b[0m\u001b[0mfind_element_by_xpath\u001b[0m\u001b[0;34m(\u001b[0m\u001b[0;34m'//*[@title=\"next page\"]'\u001b[0m\u001b[0;34m)\u001b[0m\u001b[0;34m\u001b[0m\u001b[0;34m\u001b[0m\u001b[0m\n\u001b[0m\u001b[1;32m     55\u001b[0m         \u001b[0mj\u001b[0m\u001b[0;34m.\u001b[0m\u001b[0mget_attribute\u001b[0m\u001b[0;34m(\u001b[0m\u001b[0;34m'href'\u001b[0m\u001b[0;34m)\u001b[0m\u001b[0;34m\u001b[0m\u001b[0;34m\u001b[0m\u001b[0m\n\u001b[1;32m     56\u001b[0m         \u001b[0mdriver\u001b[0m\u001b[0;34m.\u001b[0m\u001b[0mget\u001b[0m\u001b[0;34m(\u001b[0m\u001b[0mj\u001b[0m\u001b[0;34m.\u001b[0m\u001b[0mget_attribute\u001b[0m\u001b[0;34m(\u001b[0m\u001b[0;34m'href'\u001b[0m\u001b[0;34m)\u001b[0m\u001b[0;34m)\u001b[0m\u001b[0;34m\u001b[0m\u001b[0;34m\u001b[0m\u001b[0m\n",
      "\u001b[0;32m~/opt/anaconda3/lib/python3.7/site-packages/selenium/webdriver/remote/webdriver.py\u001b[0m in \u001b[0;36mfind_element_by_xpath\u001b[0;34m(self, xpath)\u001b[0m\n\u001b[1;32m    392\u001b[0m             \u001b[0melement\u001b[0m \u001b[0;34m=\u001b[0m \u001b[0mdriver\u001b[0m\u001b[0;34m.\u001b[0m\u001b[0mfind_element_by_xpath\u001b[0m\u001b[0;34m(\u001b[0m\u001b[0;34m'//div/td[1]'\u001b[0m\u001b[0;34m)\u001b[0m\u001b[0;34m\u001b[0m\u001b[0;34m\u001b[0m\u001b[0m\n\u001b[1;32m    393\u001b[0m         \"\"\"\n\u001b[0;32m--> 394\u001b[0;31m         \u001b[0;32mreturn\u001b[0m \u001b[0mself\u001b[0m\u001b[0;34m.\u001b[0m\u001b[0mfind_element\u001b[0m\u001b[0;34m(\u001b[0m\u001b[0mby\u001b[0m\u001b[0;34m=\u001b[0m\u001b[0mBy\u001b[0m\u001b[0;34m.\u001b[0m\u001b[0mXPATH\u001b[0m\u001b[0;34m,\u001b[0m \u001b[0mvalue\u001b[0m\u001b[0;34m=\u001b[0m\u001b[0mxpath\u001b[0m\u001b[0;34m)\u001b[0m\u001b[0;34m\u001b[0m\u001b[0;34m\u001b[0m\u001b[0m\n\u001b[0m\u001b[1;32m    395\u001b[0m \u001b[0;34m\u001b[0m\u001b[0m\n\u001b[1;32m    396\u001b[0m     \u001b[0;32mdef\u001b[0m \u001b[0mfind_elements_by_xpath\u001b[0m\u001b[0;34m(\u001b[0m\u001b[0mself\u001b[0m\u001b[0;34m,\u001b[0m \u001b[0mxpath\u001b[0m\u001b[0;34m)\u001b[0m\u001b[0;34m:\u001b[0m\u001b[0;34m\u001b[0m\u001b[0;34m\u001b[0m\u001b[0m\n",
      "\u001b[0;32m~/opt/anaconda3/lib/python3.7/site-packages/selenium/webdriver/remote/webdriver.py\u001b[0m in \u001b[0;36mfind_element\u001b[0;34m(self, by, value)\u001b[0m\n\u001b[1;32m    976\u001b[0m         return self.execute(Command.FIND_ELEMENT, {\n\u001b[1;32m    977\u001b[0m             \u001b[0;34m'using'\u001b[0m\u001b[0;34m:\u001b[0m \u001b[0mby\u001b[0m\u001b[0;34m,\u001b[0m\u001b[0;34m\u001b[0m\u001b[0;34m\u001b[0m\u001b[0m\n\u001b[0;32m--> 978\u001b[0;31m             'value': value})['value']\n\u001b[0m\u001b[1;32m    979\u001b[0m \u001b[0;34m\u001b[0m\u001b[0m\n\u001b[1;32m    980\u001b[0m     \u001b[0;32mdef\u001b[0m \u001b[0mfind_elements\u001b[0m\u001b[0;34m(\u001b[0m\u001b[0mself\u001b[0m\u001b[0;34m,\u001b[0m \u001b[0mby\u001b[0m\u001b[0;34m=\u001b[0m\u001b[0mBy\u001b[0m\u001b[0;34m.\u001b[0m\u001b[0mID\u001b[0m\u001b[0;34m,\u001b[0m \u001b[0mvalue\u001b[0m\u001b[0;34m=\u001b[0m\u001b[0;32mNone\u001b[0m\u001b[0;34m)\u001b[0m\u001b[0;34m:\u001b[0m\u001b[0;34m\u001b[0m\u001b[0;34m\u001b[0m\u001b[0m\n",
      "\u001b[0;32m~/opt/anaconda3/lib/python3.7/site-packages/selenium/webdriver/remote/webdriver.py\u001b[0m in \u001b[0;36mexecute\u001b[0;34m(self, driver_command, params)\u001b[0m\n\u001b[1;32m    319\u001b[0m         \u001b[0mresponse\u001b[0m \u001b[0;34m=\u001b[0m \u001b[0mself\u001b[0m\u001b[0;34m.\u001b[0m\u001b[0mcommand_executor\u001b[0m\u001b[0;34m.\u001b[0m\u001b[0mexecute\u001b[0m\u001b[0;34m(\u001b[0m\u001b[0mdriver_command\u001b[0m\u001b[0;34m,\u001b[0m \u001b[0mparams\u001b[0m\u001b[0;34m)\u001b[0m\u001b[0;34m\u001b[0m\u001b[0;34m\u001b[0m\u001b[0m\n\u001b[1;32m    320\u001b[0m         \u001b[0;32mif\u001b[0m \u001b[0mresponse\u001b[0m\u001b[0;34m:\u001b[0m\u001b[0;34m\u001b[0m\u001b[0;34m\u001b[0m\u001b[0m\n\u001b[0;32m--> 321\u001b[0;31m             \u001b[0mself\u001b[0m\u001b[0;34m.\u001b[0m\u001b[0merror_handler\u001b[0m\u001b[0;34m.\u001b[0m\u001b[0mcheck_response\u001b[0m\u001b[0;34m(\u001b[0m\u001b[0mresponse\u001b[0m\u001b[0;34m)\u001b[0m\u001b[0;34m\u001b[0m\u001b[0;34m\u001b[0m\u001b[0m\n\u001b[0m\u001b[1;32m    322\u001b[0m             response['value'] = self._unwrap_value(\n\u001b[1;32m    323\u001b[0m                 response.get('value', None))\n",
      "\u001b[0;32m~/opt/anaconda3/lib/python3.7/site-packages/selenium/webdriver/remote/errorhandler.py\u001b[0m in \u001b[0;36mcheck_response\u001b[0;34m(self, response)\u001b[0m\n\u001b[1;32m    240\u001b[0m                 \u001b[0malert_text\u001b[0m \u001b[0;34m=\u001b[0m \u001b[0mvalue\u001b[0m\u001b[0;34m[\u001b[0m\u001b[0;34m'alert'\u001b[0m\u001b[0;34m]\u001b[0m\u001b[0;34m.\u001b[0m\u001b[0mget\u001b[0m\u001b[0;34m(\u001b[0m\u001b[0;34m'text'\u001b[0m\u001b[0;34m)\u001b[0m\u001b[0;34m\u001b[0m\u001b[0;34m\u001b[0m\u001b[0m\n\u001b[1;32m    241\u001b[0m             \u001b[0;32mraise\u001b[0m \u001b[0mexception_class\u001b[0m\u001b[0;34m(\u001b[0m\u001b[0mmessage\u001b[0m\u001b[0;34m,\u001b[0m \u001b[0mscreen\u001b[0m\u001b[0;34m,\u001b[0m \u001b[0mstacktrace\u001b[0m\u001b[0;34m,\u001b[0m \u001b[0malert_text\u001b[0m\u001b[0;34m)\u001b[0m\u001b[0;34m\u001b[0m\u001b[0;34m\u001b[0m\u001b[0m\n\u001b[0;32m--> 242\u001b[0;31m         \u001b[0;32mraise\u001b[0m \u001b[0mexception_class\u001b[0m\u001b[0;34m(\u001b[0m\u001b[0mmessage\u001b[0m\u001b[0;34m,\u001b[0m \u001b[0mscreen\u001b[0m\u001b[0;34m,\u001b[0m \u001b[0mstacktrace\u001b[0m\u001b[0;34m)\u001b[0m\u001b[0;34m\u001b[0m\u001b[0;34m\u001b[0m\u001b[0m\n\u001b[0m\u001b[1;32m    243\u001b[0m \u001b[0;34m\u001b[0m\u001b[0m\n\u001b[1;32m    244\u001b[0m     \u001b[0;32mdef\u001b[0m \u001b[0m_value_or_default\u001b[0m\u001b[0;34m(\u001b[0m\u001b[0mself\u001b[0m\u001b[0;34m,\u001b[0m \u001b[0mobj\u001b[0m\u001b[0;34m,\u001b[0m \u001b[0mkey\u001b[0m\u001b[0;34m,\u001b[0m \u001b[0mdefault\u001b[0m\u001b[0;34m)\u001b[0m\u001b[0;34m:\u001b[0m\u001b[0;34m\u001b[0m\u001b[0;34m\u001b[0m\u001b[0m\n",
      "\u001b[0;31mNoSuchElementException\u001b[0m: Message: no such element: Unable to locate element: {\"method\":\"xpath\",\"selector\":\"//*[@title=\"next page\"]\"}\n  (Session info: chrome=80.0.3987.122)\n"
     ]
    }
   ],
   "source": [
    "count = 0\n",
    "for i in tqdm(range(3)):\n",
    "    sequence = [x/10 for x in range(10, 20)]\n",
    "    time.sleep(random.choice(sequence))\n",
    "    boxes = driver.find_elements_by_class_name('mb5')\n",
    "    \n",
    "    for i in tqdm(boxes):\n",
    "        game_features = {}\n",
    "        game_features['name'] = i.find_elements_by_tag_name('a')[1].text\n",
    "        try:\n",
    "            game_features['board_game_link'] = i.find_elements_by_tag_name('a')[1].get_attribute('href')\n",
    "        except: \n",
    "            game_features['board_game_link'] = None\n",
    "\n",
    "        try:\n",
    "            game_features['board_game_listing'] = i.find_elements_by_tag_name('a')[0].get_attribute('href')\n",
    "        except:\n",
    "            game_features['board_game_listing'] = None\n",
    "\n",
    "        # Average Rating\n",
    "        try:\n",
    "            game_features['avg_rating'] = i.find_element_by_class_name('sf').text\n",
    "        except:\n",
    "            game_features['avg_rating'] = None\n",
    "\n",
    "        try:\n",
    "            game_features['overall_ranking'] = i.find_element_by_class_name('sf').find_element_by_tag_name('a').text\n",
    "        except:\n",
    "            game_features['overall_ranking'] = None\n",
    "\n",
    "        try:\n",
    "            game_features['seller'] = i.find_elements_by_tag_name('a')[4].text\n",
    "        except:\n",
    "            game_features['seller'] = None\n",
    "\n",
    "        try:\n",
    "            game_features['comments'] = i.find_element_by_class_name('doubleright').text\n",
    "        except:\n",
    "            game_features['comments'] = None\n",
    "\n",
    "\n",
    "        try:\n",
    "            game_features['last_edited'] = i.find_element_by_class_name('information').text\n",
    "        except:\n",
    "            game_features['last_edited'] = None\n",
    "        games.append(game_features)\n",
    "    \n",
    "    #click ntext\n",
    "    try: \n",
    "        link = driver.find_element_by_link_text('Next »')\n",
    "        link.click()\n",
    "        time.sleep(random.choice(sequence))\n",
    "    except:\n",
    "        j = driver.find_element_by_xpath('//*[@title=\"next page\"]')\n",
    "        j.get_attribute('href')\n",
    "        driver.get(j.get_attribute('href'))\n",
    "        time.sleep(random.choice(sequence))"
   ]
  },
  {
   "cell_type": "code",
   "execution_count": 187,
   "metadata": {},
   "outputs": [],
   "source": [
    "j = driver.find_element_by_xpath('//*[@title=\"next page\"]')\n",
    "\n",
    "j.get_attribute('href')\n",
    "\n",
    "driver.get(j.get_attribute('href'))"
   ]
  },
  {
   "cell_type": "code",
   "execution_count": 381,
   "metadata": {},
   "outputs": [
    {
     "data": {
      "text/plain": [
       "518"
      ]
     },
     "execution_count": 381,
     "metadata": {},
     "output_type": "execute_result"
    }
   ],
   "source": [
    "len(games)"
   ]
  },
  {
   "cell_type": "code",
   "execution_count": 433,
   "metadata": {},
   "outputs": [],
   "source": [
    "df = pd.DataFrame(games)"
   ]
  },
  {
   "cell_type": "code",
   "execution_count": 382,
   "metadata": {},
   "outputs": [
    {
     "data": {
      "text/plain": [
       "420"
      ]
     },
     "execution_count": 382,
     "metadata": {},
     "output_type": "execute_result"
    }
   ],
   "source": [
    "len(df['board_game_listing'].unique())"
   ]
  },
  {
   "cell_type": "code",
   "execution_count": 384,
   "metadata": {
    "collapsed": true
   },
   "outputs": [
    {
     "data": {
      "text/html": [
       "<div>\n",
       "<style scoped>\n",
       "    .dataframe tbody tr th:only-of-type {\n",
       "        vertical-align: middle;\n",
       "    }\n",
       "\n",
       "    .dataframe tbody tr th {\n",
       "        vertical-align: top;\n",
       "    }\n",
       "\n",
       "    .dataframe thead th {\n",
       "        text-align: right;\n",
       "    }\n",
       "</style>\n",
       "<table border=\"1\" class=\"dataframe\">\n",
       "  <thead>\n",
       "    <tr style=\"text-align: right;\">\n",
       "      <th></th>\n",
       "      <th>name</th>\n",
       "      <th>board_game_link</th>\n",
       "      <th>board_game_listing</th>\n",
       "      <th>avg_rating</th>\n",
       "      <th>overall_ranking</th>\n",
       "      <th>seller</th>\n",
       "      <th>comments</th>\n",
       "      <th>last_edited</th>\n",
       "    </tr>\n",
       "  </thead>\n",
       "  <tbody>\n",
       "    <tr>\n",
       "      <td>0</td>\n",
       "      <td>Administration</td>\n",
       "      <td>https://boardgamegeek.com/boardgame/159345/adm...</td>\n",
       "      <td>https://boardgamegeek.com/geeklist/198692/item...</td>\n",
       "      <td>[Average Rating:7.00 Unranked]</td>\n",
       "      <td>None</td>\n",
       "      <td></td>\n",
       "      <td>This is not a game listing.\\n\\nNotifications c...</td>\n",
       "      <td>Edited Sun Nov 1, 2015 9:28 pm\\nPosted Sun Oct...</td>\n",
       "    </tr>\n",
       "    <tr>\n",
       "      <td>1</td>\n",
       "      <td>Super Sale</td>\n",
       "      <td>https://boardgamegeek.com/boardgame/29249/supe...</td>\n",
       "      <td>https://boardgamegeek.com/geeklist/198692/item...</td>\n",
       "      <td>[Average Rating:2.00 Unranked]</td>\n",
       "      <td>None</td>\n",
       "      <td></td>\n",
       "      <td>This is not a game listing.\\n\\nAdd a comment h...</td>\n",
       "      <td>Edited Wed Dec 20, 2017 6:43 pm\\nPosted Sun Oc...</td>\n",
       "    </tr>\n",
       "    <tr>\n",
       "      <td>2</td>\n",
       "      <td>Shut Up &amp; Take My Money!</td>\n",
       "      <td>https://boardgamegeek.com/boardgame/164601/shu...</td>\n",
       "      <td>https://boardgamegeek.com/geeklist/198692/item...</td>\n",
       "      <td>[Average Rating:7.00 Unranked]</td>\n",
       "      <td>None</td>\n",
       "      <td></td>\n",
       "      <td>This is not a game listing.\\n\\nAdd a comment h...</td>\n",
       "      <td>Edited Sun Nov 1, 2015 9:39 pm\\nPosted Sun Oct...</td>\n",
       "    </tr>\n",
       "    <tr>\n",
       "      <td>3</td>\n",
       "      <td>Gloomhaven</td>\n",
       "      <td>https://boardgamegeek.com/boardgame/174430/glo...</td>\n",
       "      <td>https://boardgamegeek.com/geeklist/198692/item...</td>\n",
       "      <td>[Average Rating:8.84 Overall Rank:1]</td>\n",
       "      <td>1</td>\n",
       "      <td>yetiboy</td>\n",
       "      <td>Gloomhaven Everything Bundle: 220$ Like new : ...</td>\n",
       "      <td>Edited Wed Jan 8, 2020 1:41 am\\nPosted Sun Sep...</td>\n",
       "    </tr>\n",
       "    <tr>\n",
       "      <td>4</td>\n",
       "      <td>Zombies!!!</td>\n",
       "      <td>https://boardgamegeek.com/boardgame/2471/zombies</td>\n",
       "      <td>https://boardgamegeek.com/geeklist/198692/item...</td>\n",
       "      <td>[Average Rating:5.82 Overall Rank:5708]</td>\n",
       "      <td>5708</td>\n",
       "      <td>horsethiefbandit</td>\n",
       "      <td>Good used condition, $10 $5. Pickup in Union S...</td>\n",
       "      <td>Edited Wed Jan 22, 2020 5:22 pm\\nPosted Tue Se...</td>\n",
       "    </tr>\n",
       "    <tr>\n",
       "      <td>...</td>\n",
       "      <td>...</td>\n",
       "      <td>...</td>\n",
       "      <td>...</td>\n",
       "      <td>...</td>\n",
       "      <td>...</td>\n",
       "      <td>...</td>\n",
       "      <td>...</td>\n",
       "      <td>...</td>\n",
       "    </tr>\n",
       "    <tr>\n",
       "      <td>513</td>\n",
       "      <td>The Battle for Hill 218</td>\n",
       "      <td>https://boardgamegeek.com/boardgame/32484/batt...</td>\n",
       "      <td>https://boardgamegeek.com/geeklist/198692/item...</td>\n",
       "      <td>[Average Rating:6.64 Overall Rank:1841]</td>\n",
       "      <td>1841</td>\n",
       "      <td>Eric615</td>\n",
       "      <td>$10 - box very slightly worn; cards in perfect...</td>\n",
       "      <td>Posted Thu Feb 27, 2020 5:26 pm\\nSubscribe \\nC...</td>\n",
       "    </tr>\n",
       "    <tr>\n",
       "      <td>514</td>\n",
       "      <td>Lost Legacy: The Starship</td>\n",
       "      <td>https://boardgamegeek.com/boardgame/158339/los...</td>\n",
       "      <td>https://boardgamegeek.com/geeklist/198692/item...</td>\n",
       "      <td>[Average Rating:6.64 Overall Rank:1575]</td>\n",
       "      <td>1575</td>\n",
       "      <td>Eric615</td>\n",
       "      <td>+ Lost Legacy: Flying Garden\\n\\n$10 for the pa...</td>\n",
       "      <td>Posted Thu Feb 27, 2020 5:33 pm\\nSubscribe \\nC...</td>\n",
       "    </tr>\n",
       "    <tr>\n",
       "      <td>515</td>\n",
       "      <td>Exploding Kittens</td>\n",
       "      <td>https://boardgamegeek.com/boardgame/172225/exp...</td>\n",
       "      <td>https://boardgamegeek.com/geeklist/198692/item...</td>\n",
       "      <td>[Average Rating:5.99 Overall Rank:3509]</td>\n",
       "      <td>3509</td>\n",
       "      <td>Eric615</td>\n",
       "      <td>$5 - great condition; played only a couple o’ ...</td>\n",
       "      <td>Posted Thu Feb 27, 2020 5:43 pm\\nSubscribe \\nC...</td>\n",
       "    </tr>\n",
       "    <tr>\n",
       "      <td>516</td>\n",
       "      <td>Gloom</td>\n",
       "      <td>https://boardgamegeek.com/boardgame/12692/gloom</td>\n",
       "      <td>https://boardgamegeek.com/geeklist/198692/item...</td>\n",
       "      <td>[Average Rating:6.35 Overall Rank:1655]</td>\n",
       "      <td>1655</td>\n",
       "      <td>Eric615</td>\n",
       "      <td>$5 - great condition; never played\\n\\nMeet in ...</td>\n",
       "      <td>Posted Thu Feb 27, 2020 5:47 pm\\nSubscribe \\nC...</td>\n",
       "    </tr>\n",
       "    <tr>\n",
       "      <td>517</td>\n",
       "      <td>Karuba</td>\n",
       "      <td>https://boardgamegeek.com/boardgame/183251/karuba</td>\n",
       "      <td>https://boardgamegeek.com/geeklist/198692/item...</td>\n",
       "      <td>[Average Rating:7.21 Overall Rank:439]</td>\n",
       "      <td>439</td>\n",
       "      <td>Eric615</td>\n",
       "      <td>$20 - great condition\\n\\nMeet in Lower East Si...</td>\n",
       "      <td>Posted Thu Feb 27, 2020 8:13 pm\\nSubscribe \\nC...</td>\n",
       "    </tr>\n",
       "  </tbody>\n",
       "</table>\n",
       "<p>518 rows × 8 columns</p>\n",
       "</div>"
      ],
      "text/plain": [
       "                          name  \\\n",
       "0               Administration   \n",
       "1                   Super Sale   \n",
       "2     Shut Up & Take My Money!   \n",
       "3                   Gloomhaven   \n",
       "4                   Zombies!!!   \n",
       "..                         ...   \n",
       "513    The Battle for Hill 218   \n",
       "514  Lost Legacy: The Starship   \n",
       "515          Exploding Kittens   \n",
       "516                      Gloom   \n",
       "517                     Karuba   \n",
       "\n",
       "                                       board_game_link  \\\n",
       "0    https://boardgamegeek.com/boardgame/159345/adm...   \n",
       "1    https://boardgamegeek.com/boardgame/29249/supe...   \n",
       "2    https://boardgamegeek.com/boardgame/164601/shu...   \n",
       "3    https://boardgamegeek.com/boardgame/174430/glo...   \n",
       "4     https://boardgamegeek.com/boardgame/2471/zombies   \n",
       "..                                                 ...   \n",
       "513  https://boardgamegeek.com/boardgame/32484/batt...   \n",
       "514  https://boardgamegeek.com/boardgame/158339/los...   \n",
       "515  https://boardgamegeek.com/boardgame/172225/exp...   \n",
       "516    https://boardgamegeek.com/boardgame/12692/gloom   \n",
       "517  https://boardgamegeek.com/boardgame/183251/karuba   \n",
       "\n",
       "                                    board_game_listing  \\\n",
       "0    https://boardgamegeek.com/geeklist/198692/item...   \n",
       "1    https://boardgamegeek.com/geeklist/198692/item...   \n",
       "2    https://boardgamegeek.com/geeklist/198692/item...   \n",
       "3    https://boardgamegeek.com/geeklist/198692/item...   \n",
       "4    https://boardgamegeek.com/geeklist/198692/item...   \n",
       "..                                                 ...   \n",
       "513  https://boardgamegeek.com/geeklist/198692/item...   \n",
       "514  https://boardgamegeek.com/geeklist/198692/item...   \n",
       "515  https://boardgamegeek.com/geeklist/198692/item...   \n",
       "516  https://boardgamegeek.com/geeklist/198692/item...   \n",
       "517  https://boardgamegeek.com/geeklist/198692/item...   \n",
       "\n",
       "                                  avg_rating overall_ranking  \\\n",
       "0             [Average Rating:7.00 Unranked]            None   \n",
       "1             [Average Rating:2.00 Unranked]            None   \n",
       "2             [Average Rating:7.00 Unranked]            None   \n",
       "3       [Average Rating:8.84 Overall Rank:1]               1   \n",
       "4    [Average Rating:5.82 Overall Rank:5708]            5708   \n",
       "..                                       ...             ...   \n",
       "513  [Average Rating:6.64 Overall Rank:1841]            1841   \n",
       "514  [Average Rating:6.64 Overall Rank:1575]            1575   \n",
       "515  [Average Rating:5.99 Overall Rank:3509]            3509   \n",
       "516  [Average Rating:6.35 Overall Rank:1655]            1655   \n",
       "517   [Average Rating:7.21 Overall Rank:439]             439   \n",
       "\n",
       "               seller                                           comments  \\\n",
       "0                      This is not a game listing.\\n\\nNotifications c...   \n",
       "1                      This is not a game listing.\\n\\nAdd a comment h...   \n",
       "2                      This is not a game listing.\\n\\nAdd a comment h...   \n",
       "3             yetiboy  Gloomhaven Everything Bundle: 220$ Like new : ...   \n",
       "4    horsethiefbandit  Good used condition, $10 $5. Pickup in Union S...   \n",
       "..                ...                                                ...   \n",
       "513           Eric615  $10 - box very slightly worn; cards in perfect...   \n",
       "514           Eric615  + Lost Legacy: Flying Garden\\n\\n$10 for the pa...   \n",
       "515           Eric615  $5 - great condition; played only a couple o’ ...   \n",
       "516           Eric615  $5 - great condition; never played\\n\\nMeet in ...   \n",
       "517           Eric615  $20 - great condition\\n\\nMeet in Lower East Si...   \n",
       "\n",
       "                                           last_edited  \n",
       "0    Edited Sun Nov 1, 2015 9:28 pm\\nPosted Sun Oct...  \n",
       "1    Edited Wed Dec 20, 2017 6:43 pm\\nPosted Sun Oc...  \n",
       "2    Edited Sun Nov 1, 2015 9:39 pm\\nPosted Sun Oct...  \n",
       "3    Edited Wed Jan 8, 2020 1:41 am\\nPosted Sun Sep...  \n",
       "4    Edited Wed Jan 22, 2020 5:22 pm\\nPosted Tue Se...  \n",
       "..                                                 ...  \n",
       "513  Posted Thu Feb 27, 2020 5:26 pm\\nSubscribe \\nC...  \n",
       "514  Posted Thu Feb 27, 2020 5:33 pm\\nSubscribe \\nC...  \n",
       "515  Posted Thu Feb 27, 2020 5:43 pm\\nSubscribe \\nC...  \n",
       "516  Posted Thu Feb 27, 2020 5:47 pm\\nSubscribe \\nC...  \n",
       "517  Posted Thu Feb 27, 2020 8:13 pm\\nSubscribe \\nC...  \n",
       "\n",
       "[518 rows x 8 columns]"
      ]
     },
     "execution_count": 384,
     "metadata": {},
     "output_type": "execute_result"
    }
   ],
   "source": [
    "df"
   ]
  },
  {
   "cell_type": "code",
   "execution_count": null,
   "metadata": {},
   "outputs": [],
   "source": []
  },
  {
   "cell_type": "code",
   "execution_count": null,
   "metadata": {},
   "outputs": [],
   "source": []
  },
  {
   "cell_type": "code",
   "execution_count": 140,
   "metadata": {},
   "outputs": [],
   "source": [
    "sequence = [x/10 for x in range(10, 20)]"
   ]
  },
  {
   "cell_type": "code",
   "execution_count": 141,
   "metadata": {},
   "outputs": [
    {
     "data": {
      "application/vnd.jupyter.widget-view+json": {
       "model_id": "8e5d131c952949899e60e67a413dab67",
       "version_major": 2,
       "version_minor": 0
      },
      "text/plain": [
       "HBox(children=(IntProgress(value=1, bar_style='info', max=1), HTML(value='')))"
      ]
     },
     "metadata": {},
     "output_type": "display_data"
    },
    {
     "name": "stdout",
     "output_type": "stream",
     "text": [
      "\n"
     ]
    }
   ],
   "source": [
    "for j in tqdm(driver.find_elements_by_class_name('next')):\n",
    "    if j.text == 'Next':\n",
    "        next_button = j\n",
    "        try:\n",
    "            next_button.click()\n",
    "            time.sleep(random.choice(sequence))\n",
    "        except:\n",
    "            pass\n",
    "\n",
    "        break"
   ]
  },
  {
   "cell_type": "code",
   "execution_count": null,
   "metadata": {},
   "outputs": [],
   "source": []
  },
  {
   "cell_type": "code",
   "execution_count": null,
   "metadata": {},
   "outputs": [],
   "source": []
  },
  {
   "cell_type": "code",
   "execution_count": null,
   "metadata": {},
   "outputs": [],
   "source": []
  },
  {
   "cell_type": "code",
   "execution_count": null,
   "metadata": {},
   "outputs": [],
   "source": [
    "driver.find_element_by_class_name('next page')"
   ]
  },
  {
   "cell_type": "code",
   "execution_count": 136,
   "metadata": {},
   "outputs": [],
   "source": [
    "driver.find_element_by_link_text('Next »').click()"
   ]
  },
  {
   "cell_type": "code",
   "execution_count": null,
   "metadata": {},
   "outputs": [],
   "source": []
  },
  {
   "cell_type": "markdown",
   "metadata": {},
   "source": [
    "Name\n",
    "Link to listing\n",
    "Link to game\n",
    "Average Rating\n",
    "Seller\n",
    "Overall Rank\n",
    "Comments\n",
    "Last Edited\n",
    "\n",
    "What do we need?\n"
   ]
  },
  {
   "cell_type": "code",
   "execution_count": null,
   "metadata": {},
   "outputs": [],
   "source": []
  },
  {
   "cell_type": "code",
   "execution_count": null,
   "metadata": {},
   "outputs": [],
   "source": []
  },
  {
   "cell_type": "markdown",
   "metadata": {},
   "source": [
    "# Scrape BGG Game Page"
   ]
  },
  {
   "cell_type": "code",
   "execution_count": 4,
   "metadata": {},
   "outputs": [],
   "source": [
    "driver = webdriver.Chrome() #browser should be named driver in the future, common coding etiquette"
   ]
  },
  {
   "cell_type": "code",
   "execution_count": 5,
   "metadata": {},
   "outputs": [],
   "source": [
    "driver.get('https://boardgamegeek.com/boardgame/286096/tapestry')"
   ]
  },
  {
   "cell_type": "markdown",
   "metadata": {},
   "source": [
    "## Rank Number"
   ]
  },
  {
   "cell_type": "code",
   "execution_count": 14,
   "metadata": {},
   "outputs": [
    {
     "data": {
      "text/plain": [
       "[<selenium.webdriver.remote.webelement.WebElement (session=\"0b80348e5670ffd707743fe18547b1fd\", element=\"a28f4a3d-8d5e-4d9c-a0ed-37c5cc4d1648\")>,\n",
       " <selenium.webdriver.remote.webelement.WebElement (session=\"0b80348e5670ffd707743fe18547b1fd\", element=\"c113b604-2592-4674-9603-fa1c8126a7a3\")>]"
      ]
     },
     "execution_count": 14,
     "metadata": {},
     "output_type": "execute_result"
    }
   ],
   "source": [
    "driver.find_elements_by_class_name('ranks')"
   ]
  },
  {
   "cell_type": "code",
   "execution_count": 15,
   "metadata": {},
   "outputs": [
    {
     "data": {
      "text/plain": [
       "'OVERALL 267'"
      ]
     },
     "execution_count": 15,
     "metadata": {},
     "output_type": "execute_result"
    }
   ],
   "source": [
    "driver.find_elements_by_class_name('ranks')[0].text"
   ]
  },
  {
   "cell_type": "code",
   "execution_count": 16,
   "metadata": {},
   "outputs": [
    {
     "data": {
      "text/plain": [
       "'STRATEGY 185'"
      ]
     },
     "execution_count": 16,
     "metadata": {},
     "output_type": "execute_result"
    }
   ],
   "source": [
    "driver.find_elements_by_class_name('ranks')[1].text"
   ]
  },
  {
   "cell_type": "markdown",
   "metadata": {},
   "source": [
    "## Name"
   ]
  },
  {
   "cell_type": "code",
   "execution_count": 65,
   "metadata": {},
   "outputs": [
    {
     "data": {
      "text/plain": [
       "<selenium.webdriver.remote.webelement.WebElement (session=\"0b80348e5670ffd707743fe18547b1fd\", element=\"82b7e5bf-1a4c-4b82-accf-958354ea9541\")>"
      ]
     },
     "execution_count": 65,
     "metadata": {},
     "output_type": "execute_result"
    }
   ],
   "source": [
    "driver.find_element_by_class_name('game-header-title-info')"
   ]
  },
  {
   "cell_type": "code",
   "execution_count": null,
   "metadata": {},
   "outputs": [],
   "source": []
  },
  {
   "cell_type": "code",
   "execution_count": null,
   "metadata": {},
   "outputs": [],
   "source": []
  },
  {
   "cell_type": "code",
   "execution_count": 64,
   "metadata": {},
   "outputs": [
    {
     "data": {
      "text/plain": [
       "'https://boardgamegeek.com/browse/boardgame'"
      ]
     },
     "execution_count": 64,
     "metadata": {},
     "output_type": "execute_result"
    }
   ],
   "source": [
    "driver.find_element_by_css_selector('a.ng-binding').attribute('href')"
   ]
  },
  {
   "cell_type": "code",
   "execution_count": 55,
   "metadata": {},
   "outputs": [
    {
     "data": {
      "text/plain": [
       "''"
      ]
     },
     "execution_count": 55,
     "metadata": {},
     "output_type": "execute_result"
    }
   ],
   "source": [
    "driver.find_element_by_class_name('game').text"
   ]
  },
  {
   "cell_type": "code",
   "execution_count": 50,
   "metadata": {},
   "outputs": [
    {
     "ename": "NoSuchElementException",
     "evalue": "Message: no such element: Unable to locate element: {\"method\":\"css selector\",\"selector\":\".ng-binding\"}\n  (Session info: chrome=80.0.3987.122)\n",
     "output_type": "error",
     "traceback": [
      "\u001b[0;31m---------------------------------------------------------------------------\u001b[0m",
      "\u001b[0;31mNoSuchElementException\u001b[0m                    Traceback (most recent call last)",
      "\u001b[0;32m<ipython-input-50-1a1c89736fc0>\u001b[0m in \u001b[0;36m<module>\u001b[0;34m\u001b[0m\n\u001b[0;32m----> 1\u001b[0;31m \u001b[0mdriver\u001b[0m\u001b[0;34m.\u001b[0m\u001b[0mfind_element_by_class_name\u001b[0m\u001b[0;34m(\u001b[0m\u001b[0;34m'game-header-title'\u001b[0m\u001b[0;34m)\u001b[0m\u001b[0;34m.\u001b[0m\u001b[0mfind_element_by_class_name\u001b[0m\u001b[0;34m(\u001b[0m\u001b[0;34m'ng-binding'\u001b[0m\u001b[0;34m)\u001b[0m\u001b[0;34m.\u001b[0m\u001b[0mtext\u001b[0m\u001b[0;34m\u001b[0m\u001b[0;34m\u001b[0m\u001b[0m\n\u001b[0m",
      "\u001b[0;32m~/opt/anaconda3/lib/python3.7/site-packages/selenium/webdriver/remote/webelement.py\u001b[0m in \u001b[0;36mfind_element_by_class_name\u001b[0;34m(self, name)\u001b[0m\n\u001b[1;32m    396\u001b[0m             \u001b[0melement\u001b[0m \u001b[0;34m=\u001b[0m \u001b[0melement\u001b[0m\u001b[0;34m.\u001b[0m\u001b[0mfind_element_by_class_name\u001b[0m\u001b[0;34m(\u001b[0m\u001b[0;34m'foo'\u001b[0m\u001b[0;34m)\u001b[0m\u001b[0;34m\u001b[0m\u001b[0;34m\u001b[0m\u001b[0m\n\u001b[1;32m    397\u001b[0m         \"\"\"\n\u001b[0;32m--> 398\u001b[0;31m         \u001b[0;32mreturn\u001b[0m \u001b[0mself\u001b[0m\u001b[0;34m.\u001b[0m\u001b[0mfind_element\u001b[0m\u001b[0;34m(\u001b[0m\u001b[0mby\u001b[0m\u001b[0;34m=\u001b[0m\u001b[0mBy\u001b[0m\u001b[0;34m.\u001b[0m\u001b[0mCLASS_NAME\u001b[0m\u001b[0;34m,\u001b[0m \u001b[0mvalue\u001b[0m\u001b[0;34m=\u001b[0m\u001b[0mname\u001b[0m\u001b[0;34m)\u001b[0m\u001b[0;34m\u001b[0m\u001b[0;34m\u001b[0m\u001b[0m\n\u001b[0m\u001b[1;32m    399\u001b[0m \u001b[0;34m\u001b[0m\u001b[0m\n\u001b[1;32m    400\u001b[0m     \u001b[0;32mdef\u001b[0m \u001b[0mfind_elements_by_class_name\u001b[0m\u001b[0;34m(\u001b[0m\u001b[0mself\u001b[0m\u001b[0;34m,\u001b[0m \u001b[0mname\u001b[0m\u001b[0;34m)\u001b[0m\u001b[0;34m:\u001b[0m\u001b[0;34m\u001b[0m\u001b[0;34m\u001b[0m\u001b[0m\n",
      "\u001b[0;32m~/opt/anaconda3/lib/python3.7/site-packages/selenium/webdriver/remote/webelement.py\u001b[0m in \u001b[0;36mfind_element\u001b[0;34m(self, by, value)\u001b[0m\n\u001b[1;32m    657\u001b[0m \u001b[0;34m\u001b[0m\u001b[0m\n\u001b[1;32m    658\u001b[0m         return self._execute(Command.FIND_CHILD_ELEMENT,\n\u001b[0;32m--> 659\u001b[0;31m                              {\"using\": by, \"value\": value})['value']\n\u001b[0m\u001b[1;32m    660\u001b[0m \u001b[0;34m\u001b[0m\u001b[0m\n\u001b[1;32m    661\u001b[0m     \u001b[0;32mdef\u001b[0m \u001b[0mfind_elements\u001b[0m\u001b[0;34m(\u001b[0m\u001b[0mself\u001b[0m\u001b[0;34m,\u001b[0m \u001b[0mby\u001b[0m\u001b[0;34m=\u001b[0m\u001b[0mBy\u001b[0m\u001b[0;34m.\u001b[0m\u001b[0mID\u001b[0m\u001b[0;34m,\u001b[0m \u001b[0mvalue\u001b[0m\u001b[0;34m=\u001b[0m\u001b[0;32mNone\u001b[0m\u001b[0;34m)\u001b[0m\u001b[0;34m:\u001b[0m\u001b[0;34m\u001b[0m\u001b[0;34m\u001b[0m\u001b[0m\n",
      "\u001b[0;32m~/opt/anaconda3/lib/python3.7/site-packages/selenium/webdriver/remote/webelement.py\u001b[0m in \u001b[0;36m_execute\u001b[0;34m(self, command, params)\u001b[0m\n\u001b[1;32m    631\u001b[0m             \u001b[0mparams\u001b[0m \u001b[0;34m=\u001b[0m \u001b[0;34m{\u001b[0m\u001b[0;34m}\u001b[0m\u001b[0;34m\u001b[0m\u001b[0;34m\u001b[0m\u001b[0m\n\u001b[1;32m    632\u001b[0m         \u001b[0mparams\u001b[0m\u001b[0;34m[\u001b[0m\u001b[0;34m'id'\u001b[0m\u001b[0;34m]\u001b[0m \u001b[0;34m=\u001b[0m \u001b[0mself\u001b[0m\u001b[0;34m.\u001b[0m\u001b[0m_id\u001b[0m\u001b[0;34m\u001b[0m\u001b[0;34m\u001b[0m\u001b[0m\n\u001b[0;32m--> 633\u001b[0;31m         \u001b[0;32mreturn\u001b[0m \u001b[0mself\u001b[0m\u001b[0;34m.\u001b[0m\u001b[0m_parent\u001b[0m\u001b[0;34m.\u001b[0m\u001b[0mexecute\u001b[0m\u001b[0;34m(\u001b[0m\u001b[0mcommand\u001b[0m\u001b[0;34m,\u001b[0m \u001b[0mparams\u001b[0m\u001b[0;34m)\u001b[0m\u001b[0;34m\u001b[0m\u001b[0;34m\u001b[0m\u001b[0m\n\u001b[0m\u001b[1;32m    634\u001b[0m \u001b[0;34m\u001b[0m\u001b[0m\n\u001b[1;32m    635\u001b[0m     \u001b[0;32mdef\u001b[0m \u001b[0mfind_element\u001b[0m\u001b[0;34m(\u001b[0m\u001b[0mself\u001b[0m\u001b[0;34m,\u001b[0m \u001b[0mby\u001b[0m\u001b[0;34m=\u001b[0m\u001b[0mBy\u001b[0m\u001b[0;34m.\u001b[0m\u001b[0mID\u001b[0m\u001b[0;34m,\u001b[0m \u001b[0mvalue\u001b[0m\u001b[0;34m=\u001b[0m\u001b[0;32mNone\u001b[0m\u001b[0;34m)\u001b[0m\u001b[0;34m:\u001b[0m\u001b[0;34m\u001b[0m\u001b[0;34m\u001b[0m\u001b[0m\n",
      "\u001b[0;32m~/opt/anaconda3/lib/python3.7/site-packages/selenium/webdriver/remote/webdriver.py\u001b[0m in \u001b[0;36mexecute\u001b[0;34m(self, driver_command, params)\u001b[0m\n\u001b[1;32m    319\u001b[0m         \u001b[0mresponse\u001b[0m \u001b[0;34m=\u001b[0m \u001b[0mself\u001b[0m\u001b[0;34m.\u001b[0m\u001b[0mcommand_executor\u001b[0m\u001b[0;34m.\u001b[0m\u001b[0mexecute\u001b[0m\u001b[0;34m(\u001b[0m\u001b[0mdriver_command\u001b[0m\u001b[0;34m,\u001b[0m \u001b[0mparams\u001b[0m\u001b[0;34m)\u001b[0m\u001b[0;34m\u001b[0m\u001b[0;34m\u001b[0m\u001b[0m\n\u001b[1;32m    320\u001b[0m         \u001b[0;32mif\u001b[0m \u001b[0mresponse\u001b[0m\u001b[0;34m:\u001b[0m\u001b[0;34m\u001b[0m\u001b[0;34m\u001b[0m\u001b[0m\n\u001b[0;32m--> 321\u001b[0;31m             \u001b[0mself\u001b[0m\u001b[0;34m.\u001b[0m\u001b[0merror_handler\u001b[0m\u001b[0;34m.\u001b[0m\u001b[0mcheck_response\u001b[0m\u001b[0;34m(\u001b[0m\u001b[0mresponse\u001b[0m\u001b[0;34m)\u001b[0m\u001b[0;34m\u001b[0m\u001b[0;34m\u001b[0m\u001b[0m\n\u001b[0m\u001b[1;32m    322\u001b[0m             response['value'] = self._unwrap_value(\n\u001b[1;32m    323\u001b[0m                 response.get('value', None))\n",
      "\u001b[0;32m~/opt/anaconda3/lib/python3.7/site-packages/selenium/webdriver/remote/errorhandler.py\u001b[0m in \u001b[0;36mcheck_response\u001b[0;34m(self, response)\u001b[0m\n\u001b[1;32m    240\u001b[0m                 \u001b[0malert_text\u001b[0m \u001b[0;34m=\u001b[0m \u001b[0mvalue\u001b[0m\u001b[0;34m[\u001b[0m\u001b[0;34m'alert'\u001b[0m\u001b[0;34m]\u001b[0m\u001b[0;34m.\u001b[0m\u001b[0mget\u001b[0m\u001b[0;34m(\u001b[0m\u001b[0;34m'text'\u001b[0m\u001b[0;34m)\u001b[0m\u001b[0;34m\u001b[0m\u001b[0;34m\u001b[0m\u001b[0m\n\u001b[1;32m    241\u001b[0m             \u001b[0;32mraise\u001b[0m \u001b[0mexception_class\u001b[0m\u001b[0;34m(\u001b[0m\u001b[0mmessage\u001b[0m\u001b[0;34m,\u001b[0m \u001b[0mscreen\u001b[0m\u001b[0;34m,\u001b[0m \u001b[0mstacktrace\u001b[0m\u001b[0;34m,\u001b[0m \u001b[0malert_text\u001b[0m\u001b[0;34m)\u001b[0m\u001b[0;34m\u001b[0m\u001b[0;34m\u001b[0m\u001b[0m\n\u001b[0;32m--> 242\u001b[0;31m         \u001b[0;32mraise\u001b[0m \u001b[0mexception_class\u001b[0m\u001b[0;34m(\u001b[0m\u001b[0mmessage\u001b[0m\u001b[0;34m,\u001b[0m \u001b[0mscreen\u001b[0m\u001b[0;34m,\u001b[0m \u001b[0mstacktrace\u001b[0m\u001b[0;34m)\u001b[0m\u001b[0;34m\u001b[0m\u001b[0;34m\u001b[0m\u001b[0m\n\u001b[0m\u001b[1;32m    243\u001b[0m \u001b[0;34m\u001b[0m\u001b[0m\n\u001b[1;32m    244\u001b[0m     \u001b[0;32mdef\u001b[0m \u001b[0m_value_or_default\u001b[0m\u001b[0;34m(\u001b[0m\u001b[0mself\u001b[0m\u001b[0;34m,\u001b[0m \u001b[0mobj\u001b[0m\u001b[0;34m,\u001b[0m \u001b[0mkey\u001b[0m\u001b[0;34m,\u001b[0m \u001b[0mdefault\u001b[0m\u001b[0;34m)\u001b[0m\u001b[0;34m:\u001b[0m\u001b[0;34m\u001b[0m\u001b[0;34m\u001b[0m\u001b[0m\n",
      "\u001b[0;31mNoSuchElementException\u001b[0m: Message: no such element: Unable to locate element: {\"method\":\"css selector\",\"selector\":\".ng-binding\"}\n  (Session info: chrome=80.0.3987.122)\n"
     ]
    }
   ],
   "source": [
    "driver.find_element_by_class_name('game-header-title').find_element_by_class_name('ng-binding').text"
   ]
  },
  {
   "cell_type": "code",
   "execution_count": 47,
   "metadata": {},
   "outputs": [
    {
     "data": {
      "text/plain": [
       "''"
      ]
     },
     "execution_count": 47,
     "metadata": {},
     "output_type": "execute_result"
    }
   ],
   "source": [
    "driver.find_element_by_css_selector(\"a[ui-sref='geekitem.overview']\").text"
   ]
  },
  {
   "cell_type": "code",
   "execution_count": 51,
   "metadata": {},
   "outputs": [
    {
     "data": {
      "text/plain": [
       "''"
      ]
     },
     "execution_count": 51,
     "metadata": {},
     "output_type": "execute_result"
    }
   ],
   "source": [
    "driver.find_element_by_class_name('game-header-title').find_element_by_tag_name('h1').text"
   ]
  },
  {
   "cell_type": "code",
   "execution_count": 44,
   "metadata": {},
   "outputs": [
    {
     "ename": "NoSuchElementException",
     "evalue": "Message: no such element: Unable to locate element: {\"method\":\"css selector\",\"selector\":\".geekitem.overview\"}\n  (Session info: chrome=80.0.3987.122)\n",
     "output_type": "error",
     "traceback": [
      "\u001b[0;31m---------------------------------------------------------------------------\u001b[0m",
      "\u001b[0;31mNoSuchElementException\u001b[0m                    Traceback (most recent call last)",
      "\u001b[0;32m<ipython-input-44-5387ad3804c6>\u001b[0m in \u001b[0;36m<module>\u001b[0;34m\u001b[0m\n\u001b[0;32m----> 1\u001b[0;31m \u001b[0mdriver\u001b[0m\u001b[0;34m.\u001b[0m\u001b[0mfind_element_by_class_name\u001b[0m\u001b[0;34m(\u001b[0m\u001b[0;34m'geekitem.overview'\u001b[0m\u001b[0;34m)\u001b[0m\u001b[0;34m\u001b[0m\u001b[0;34m\u001b[0m\u001b[0m\n\u001b[0m",
      "\u001b[0;32m~/opt/anaconda3/lib/python3.7/site-packages/selenium/webdriver/remote/webdriver.py\u001b[0m in \u001b[0;36mfind_element_by_class_name\u001b[0;34m(self, name)\u001b[0m\n\u001b[1;32m    562\u001b[0m             \u001b[0melement\u001b[0m \u001b[0;34m=\u001b[0m \u001b[0mdriver\u001b[0m\u001b[0;34m.\u001b[0m\u001b[0mfind_element_by_class_name\u001b[0m\u001b[0;34m(\u001b[0m\u001b[0;34m'foo'\u001b[0m\u001b[0;34m)\u001b[0m\u001b[0;34m\u001b[0m\u001b[0;34m\u001b[0m\u001b[0m\n\u001b[1;32m    563\u001b[0m         \"\"\"\n\u001b[0;32m--> 564\u001b[0;31m         \u001b[0;32mreturn\u001b[0m \u001b[0mself\u001b[0m\u001b[0;34m.\u001b[0m\u001b[0mfind_element\u001b[0m\u001b[0;34m(\u001b[0m\u001b[0mby\u001b[0m\u001b[0;34m=\u001b[0m\u001b[0mBy\u001b[0m\u001b[0;34m.\u001b[0m\u001b[0mCLASS_NAME\u001b[0m\u001b[0;34m,\u001b[0m \u001b[0mvalue\u001b[0m\u001b[0;34m=\u001b[0m\u001b[0mname\u001b[0m\u001b[0;34m)\u001b[0m\u001b[0;34m\u001b[0m\u001b[0;34m\u001b[0m\u001b[0m\n\u001b[0m\u001b[1;32m    565\u001b[0m \u001b[0;34m\u001b[0m\u001b[0m\n\u001b[1;32m    566\u001b[0m     \u001b[0;32mdef\u001b[0m \u001b[0mfind_elements_by_class_name\u001b[0m\u001b[0;34m(\u001b[0m\u001b[0mself\u001b[0m\u001b[0;34m,\u001b[0m \u001b[0mname\u001b[0m\u001b[0;34m)\u001b[0m\u001b[0;34m:\u001b[0m\u001b[0;34m\u001b[0m\u001b[0;34m\u001b[0m\u001b[0m\n",
      "\u001b[0;32m~/opt/anaconda3/lib/python3.7/site-packages/selenium/webdriver/remote/webdriver.py\u001b[0m in \u001b[0;36mfind_element\u001b[0;34m(self, by, value)\u001b[0m\n\u001b[1;32m    976\u001b[0m         return self.execute(Command.FIND_ELEMENT, {\n\u001b[1;32m    977\u001b[0m             \u001b[0;34m'using'\u001b[0m\u001b[0;34m:\u001b[0m \u001b[0mby\u001b[0m\u001b[0;34m,\u001b[0m\u001b[0;34m\u001b[0m\u001b[0;34m\u001b[0m\u001b[0m\n\u001b[0;32m--> 978\u001b[0;31m             'value': value})['value']\n\u001b[0m\u001b[1;32m    979\u001b[0m \u001b[0;34m\u001b[0m\u001b[0m\n\u001b[1;32m    980\u001b[0m     \u001b[0;32mdef\u001b[0m \u001b[0mfind_elements\u001b[0m\u001b[0;34m(\u001b[0m\u001b[0mself\u001b[0m\u001b[0;34m,\u001b[0m \u001b[0mby\u001b[0m\u001b[0;34m=\u001b[0m\u001b[0mBy\u001b[0m\u001b[0;34m.\u001b[0m\u001b[0mID\u001b[0m\u001b[0;34m,\u001b[0m \u001b[0mvalue\u001b[0m\u001b[0;34m=\u001b[0m\u001b[0;32mNone\u001b[0m\u001b[0;34m)\u001b[0m\u001b[0;34m:\u001b[0m\u001b[0;34m\u001b[0m\u001b[0;34m\u001b[0m\u001b[0m\n",
      "\u001b[0;32m~/opt/anaconda3/lib/python3.7/site-packages/selenium/webdriver/remote/webdriver.py\u001b[0m in \u001b[0;36mexecute\u001b[0;34m(self, driver_command, params)\u001b[0m\n\u001b[1;32m    319\u001b[0m         \u001b[0mresponse\u001b[0m \u001b[0;34m=\u001b[0m \u001b[0mself\u001b[0m\u001b[0;34m.\u001b[0m\u001b[0mcommand_executor\u001b[0m\u001b[0;34m.\u001b[0m\u001b[0mexecute\u001b[0m\u001b[0;34m(\u001b[0m\u001b[0mdriver_command\u001b[0m\u001b[0;34m,\u001b[0m \u001b[0mparams\u001b[0m\u001b[0;34m)\u001b[0m\u001b[0;34m\u001b[0m\u001b[0;34m\u001b[0m\u001b[0m\n\u001b[1;32m    320\u001b[0m         \u001b[0;32mif\u001b[0m \u001b[0mresponse\u001b[0m\u001b[0;34m:\u001b[0m\u001b[0;34m\u001b[0m\u001b[0;34m\u001b[0m\u001b[0m\n\u001b[0;32m--> 321\u001b[0;31m             \u001b[0mself\u001b[0m\u001b[0;34m.\u001b[0m\u001b[0merror_handler\u001b[0m\u001b[0;34m.\u001b[0m\u001b[0mcheck_response\u001b[0m\u001b[0;34m(\u001b[0m\u001b[0mresponse\u001b[0m\u001b[0;34m)\u001b[0m\u001b[0;34m\u001b[0m\u001b[0;34m\u001b[0m\u001b[0m\n\u001b[0m\u001b[1;32m    322\u001b[0m             response['value'] = self._unwrap_value(\n\u001b[1;32m    323\u001b[0m                 response.get('value', None))\n",
      "\u001b[0;32m~/opt/anaconda3/lib/python3.7/site-packages/selenium/webdriver/remote/errorhandler.py\u001b[0m in \u001b[0;36mcheck_response\u001b[0;34m(self, response)\u001b[0m\n\u001b[1;32m    240\u001b[0m                 \u001b[0malert_text\u001b[0m \u001b[0;34m=\u001b[0m \u001b[0mvalue\u001b[0m\u001b[0;34m[\u001b[0m\u001b[0;34m'alert'\u001b[0m\u001b[0;34m]\u001b[0m\u001b[0;34m.\u001b[0m\u001b[0mget\u001b[0m\u001b[0;34m(\u001b[0m\u001b[0;34m'text'\u001b[0m\u001b[0;34m)\u001b[0m\u001b[0;34m\u001b[0m\u001b[0;34m\u001b[0m\u001b[0m\n\u001b[1;32m    241\u001b[0m             \u001b[0;32mraise\u001b[0m \u001b[0mexception_class\u001b[0m\u001b[0;34m(\u001b[0m\u001b[0mmessage\u001b[0m\u001b[0;34m,\u001b[0m \u001b[0mscreen\u001b[0m\u001b[0;34m,\u001b[0m \u001b[0mstacktrace\u001b[0m\u001b[0;34m,\u001b[0m \u001b[0malert_text\u001b[0m\u001b[0;34m)\u001b[0m\u001b[0;34m\u001b[0m\u001b[0;34m\u001b[0m\u001b[0m\n\u001b[0;32m--> 242\u001b[0;31m         \u001b[0;32mraise\u001b[0m \u001b[0mexception_class\u001b[0m\u001b[0;34m(\u001b[0m\u001b[0mmessage\u001b[0m\u001b[0;34m,\u001b[0m \u001b[0mscreen\u001b[0m\u001b[0;34m,\u001b[0m \u001b[0mstacktrace\u001b[0m\u001b[0;34m)\u001b[0m\u001b[0;34m\u001b[0m\u001b[0;34m\u001b[0m\u001b[0m\n\u001b[0m\u001b[1;32m    243\u001b[0m \u001b[0;34m\u001b[0m\u001b[0m\n\u001b[1;32m    244\u001b[0m     \u001b[0;32mdef\u001b[0m \u001b[0m_value_or_default\u001b[0m\u001b[0;34m(\u001b[0m\u001b[0mself\u001b[0m\u001b[0;34m,\u001b[0m \u001b[0mobj\u001b[0m\u001b[0;34m,\u001b[0m \u001b[0mkey\u001b[0m\u001b[0;34m,\u001b[0m \u001b[0mdefault\u001b[0m\u001b[0;34m)\u001b[0m\u001b[0;34m:\u001b[0m\u001b[0;34m\u001b[0m\u001b[0;34m\u001b[0m\u001b[0m\n",
      "\u001b[0;31mNoSuchElementException\u001b[0m: Message: no such element: Unable to locate element: {\"method\":\"css selector\",\"selector\":\".geekitem.overview\"}\n  (Session info: chrome=80.0.3987.122)\n"
     ]
    }
   ],
   "source": [
    "driver.find_element_by_class_name('geekitem.overview')"
   ]
  },
  {
   "cell_type": "code",
   "execution_count": 36,
   "metadata": {},
   "outputs": [
    {
     "ename": "NoSuchElementException",
     "evalue": "Message: no such element: Unable to locate element: {\"method\":\"css selector\",\"selector\":\".ng-binding\"}\n  (Session info: chrome=80.0.3987.122)\n",
     "output_type": "error",
     "traceback": [
      "\u001b[0;31m---------------------------------------------------------------------------\u001b[0m",
      "\u001b[0;31mNoSuchElementException\u001b[0m                    Traceback (most recent call last)",
      "\u001b[0;32m<ipython-input-36-a11ea41637d6>\u001b[0m in \u001b[0;36m<module>\u001b[0;34m\u001b[0m\n\u001b[0;32m----> 1\u001b[0;31m \u001b[0mdriver\u001b[0m\u001b[0;34m.\u001b[0m\u001b[0mfind_element_by_class_name\u001b[0m\u001b[0;34m(\u001b[0m\u001b[0;34m'game-header-title-info'\u001b[0m\u001b[0;34m)\u001b[0m\u001b[0;34m.\u001b[0m\u001b[0mfind_element_by_tag_name\u001b[0m\u001b[0;34m(\u001b[0m\u001b[0;34m'H1'\u001b[0m\u001b[0;34m)\u001b[0m\u001b[0;34m.\u001b[0m\u001b[0mfind_element_by_class_name\u001b[0m\u001b[0;34m(\u001b[0m\u001b[0;34m'ng-binding'\u001b[0m\u001b[0;34m)\u001b[0m\u001b[0;34m\u001b[0m\u001b[0;34m\u001b[0m\u001b[0m\n\u001b[0m",
      "\u001b[0;32m~/opt/anaconda3/lib/python3.7/site-packages/selenium/webdriver/remote/webelement.py\u001b[0m in \u001b[0;36mfind_element_by_class_name\u001b[0;34m(self, name)\u001b[0m\n\u001b[1;32m    396\u001b[0m             \u001b[0melement\u001b[0m \u001b[0;34m=\u001b[0m \u001b[0melement\u001b[0m\u001b[0;34m.\u001b[0m\u001b[0mfind_element_by_class_name\u001b[0m\u001b[0;34m(\u001b[0m\u001b[0;34m'foo'\u001b[0m\u001b[0;34m)\u001b[0m\u001b[0;34m\u001b[0m\u001b[0;34m\u001b[0m\u001b[0m\n\u001b[1;32m    397\u001b[0m         \"\"\"\n\u001b[0;32m--> 398\u001b[0;31m         \u001b[0;32mreturn\u001b[0m \u001b[0mself\u001b[0m\u001b[0;34m.\u001b[0m\u001b[0mfind_element\u001b[0m\u001b[0;34m(\u001b[0m\u001b[0mby\u001b[0m\u001b[0;34m=\u001b[0m\u001b[0mBy\u001b[0m\u001b[0;34m.\u001b[0m\u001b[0mCLASS_NAME\u001b[0m\u001b[0;34m,\u001b[0m \u001b[0mvalue\u001b[0m\u001b[0;34m=\u001b[0m\u001b[0mname\u001b[0m\u001b[0;34m)\u001b[0m\u001b[0;34m\u001b[0m\u001b[0;34m\u001b[0m\u001b[0m\n\u001b[0m\u001b[1;32m    399\u001b[0m \u001b[0;34m\u001b[0m\u001b[0m\n\u001b[1;32m    400\u001b[0m     \u001b[0;32mdef\u001b[0m \u001b[0mfind_elements_by_class_name\u001b[0m\u001b[0;34m(\u001b[0m\u001b[0mself\u001b[0m\u001b[0;34m,\u001b[0m \u001b[0mname\u001b[0m\u001b[0;34m)\u001b[0m\u001b[0;34m:\u001b[0m\u001b[0;34m\u001b[0m\u001b[0;34m\u001b[0m\u001b[0m\n",
      "\u001b[0;32m~/opt/anaconda3/lib/python3.7/site-packages/selenium/webdriver/remote/webelement.py\u001b[0m in \u001b[0;36mfind_element\u001b[0;34m(self, by, value)\u001b[0m\n\u001b[1;32m    657\u001b[0m \u001b[0;34m\u001b[0m\u001b[0m\n\u001b[1;32m    658\u001b[0m         return self._execute(Command.FIND_CHILD_ELEMENT,\n\u001b[0;32m--> 659\u001b[0;31m                              {\"using\": by, \"value\": value})['value']\n\u001b[0m\u001b[1;32m    660\u001b[0m \u001b[0;34m\u001b[0m\u001b[0m\n\u001b[1;32m    661\u001b[0m     \u001b[0;32mdef\u001b[0m \u001b[0mfind_elements\u001b[0m\u001b[0;34m(\u001b[0m\u001b[0mself\u001b[0m\u001b[0;34m,\u001b[0m \u001b[0mby\u001b[0m\u001b[0;34m=\u001b[0m\u001b[0mBy\u001b[0m\u001b[0;34m.\u001b[0m\u001b[0mID\u001b[0m\u001b[0;34m,\u001b[0m \u001b[0mvalue\u001b[0m\u001b[0;34m=\u001b[0m\u001b[0;32mNone\u001b[0m\u001b[0;34m)\u001b[0m\u001b[0;34m:\u001b[0m\u001b[0;34m\u001b[0m\u001b[0;34m\u001b[0m\u001b[0m\n",
      "\u001b[0;32m~/opt/anaconda3/lib/python3.7/site-packages/selenium/webdriver/remote/webelement.py\u001b[0m in \u001b[0;36m_execute\u001b[0;34m(self, command, params)\u001b[0m\n\u001b[1;32m    631\u001b[0m             \u001b[0mparams\u001b[0m \u001b[0;34m=\u001b[0m \u001b[0;34m{\u001b[0m\u001b[0;34m}\u001b[0m\u001b[0;34m\u001b[0m\u001b[0;34m\u001b[0m\u001b[0m\n\u001b[1;32m    632\u001b[0m         \u001b[0mparams\u001b[0m\u001b[0;34m[\u001b[0m\u001b[0;34m'id'\u001b[0m\u001b[0;34m]\u001b[0m \u001b[0;34m=\u001b[0m \u001b[0mself\u001b[0m\u001b[0;34m.\u001b[0m\u001b[0m_id\u001b[0m\u001b[0;34m\u001b[0m\u001b[0;34m\u001b[0m\u001b[0m\n\u001b[0;32m--> 633\u001b[0;31m         \u001b[0;32mreturn\u001b[0m \u001b[0mself\u001b[0m\u001b[0;34m.\u001b[0m\u001b[0m_parent\u001b[0m\u001b[0;34m.\u001b[0m\u001b[0mexecute\u001b[0m\u001b[0;34m(\u001b[0m\u001b[0mcommand\u001b[0m\u001b[0;34m,\u001b[0m \u001b[0mparams\u001b[0m\u001b[0;34m)\u001b[0m\u001b[0;34m\u001b[0m\u001b[0;34m\u001b[0m\u001b[0m\n\u001b[0m\u001b[1;32m    634\u001b[0m \u001b[0;34m\u001b[0m\u001b[0m\n\u001b[1;32m    635\u001b[0m     \u001b[0;32mdef\u001b[0m \u001b[0mfind_element\u001b[0m\u001b[0;34m(\u001b[0m\u001b[0mself\u001b[0m\u001b[0;34m,\u001b[0m \u001b[0mby\u001b[0m\u001b[0;34m=\u001b[0m\u001b[0mBy\u001b[0m\u001b[0;34m.\u001b[0m\u001b[0mID\u001b[0m\u001b[0;34m,\u001b[0m \u001b[0mvalue\u001b[0m\u001b[0;34m=\u001b[0m\u001b[0;32mNone\u001b[0m\u001b[0;34m)\u001b[0m\u001b[0;34m:\u001b[0m\u001b[0;34m\u001b[0m\u001b[0;34m\u001b[0m\u001b[0m\n",
      "\u001b[0;32m~/opt/anaconda3/lib/python3.7/site-packages/selenium/webdriver/remote/webdriver.py\u001b[0m in \u001b[0;36mexecute\u001b[0;34m(self, driver_command, params)\u001b[0m\n\u001b[1;32m    319\u001b[0m         \u001b[0mresponse\u001b[0m \u001b[0;34m=\u001b[0m \u001b[0mself\u001b[0m\u001b[0;34m.\u001b[0m\u001b[0mcommand_executor\u001b[0m\u001b[0;34m.\u001b[0m\u001b[0mexecute\u001b[0m\u001b[0;34m(\u001b[0m\u001b[0mdriver_command\u001b[0m\u001b[0;34m,\u001b[0m \u001b[0mparams\u001b[0m\u001b[0;34m)\u001b[0m\u001b[0;34m\u001b[0m\u001b[0;34m\u001b[0m\u001b[0m\n\u001b[1;32m    320\u001b[0m         \u001b[0;32mif\u001b[0m \u001b[0mresponse\u001b[0m\u001b[0;34m:\u001b[0m\u001b[0;34m\u001b[0m\u001b[0;34m\u001b[0m\u001b[0m\n\u001b[0;32m--> 321\u001b[0;31m             \u001b[0mself\u001b[0m\u001b[0;34m.\u001b[0m\u001b[0merror_handler\u001b[0m\u001b[0;34m.\u001b[0m\u001b[0mcheck_response\u001b[0m\u001b[0;34m(\u001b[0m\u001b[0mresponse\u001b[0m\u001b[0;34m)\u001b[0m\u001b[0;34m\u001b[0m\u001b[0;34m\u001b[0m\u001b[0m\n\u001b[0m\u001b[1;32m    322\u001b[0m             response['value'] = self._unwrap_value(\n\u001b[1;32m    323\u001b[0m                 response.get('value', None))\n",
      "\u001b[0;32m~/opt/anaconda3/lib/python3.7/site-packages/selenium/webdriver/remote/errorhandler.py\u001b[0m in \u001b[0;36mcheck_response\u001b[0;34m(self, response)\u001b[0m\n\u001b[1;32m    240\u001b[0m                 \u001b[0malert_text\u001b[0m \u001b[0;34m=\u001b[0m \u001b[0mvalue\u001b[0m\u001b[0;34m[\u001b[0m\u001b[0;34m'alert'\u001b[0m\u001b[0;34m]\u001b[0m\u001b[0;34m.\u001b[0m\u001b[0mget\u001b[0m\u001b[0;34m(\u001b[0m\u001b[0;34m'text'\u001b[0m\u001b[0;34m)\u001b[0m\u001b[0;34m\u001b[0m\u001b[0;34m\u001b[0m\u001b[0m\n\u001b[1;32m    241\u001b[0m             \u001b[0;32mraise\u001b[0m \u001b[0mexception_class\u001b[0m\u001b[0;34m(\u001b[0m\u001b[0mmessage\u001b[0m\u001b[0;34m,\u001b[0m \u001b[0mscreen\u001b[0m\u001b[0;34m,\u001b[0m \u001b[0mstacktrace\u001b[0m\u001b[0;34m,\u001b[0m \u001b[0malert_text\u001b[0m\u001b[0;34m)\u001b[0m\u001b[0;34m\u001b[0m\u001b[0;34m\u001b[0m\u001b[0m\n\u001b[0;32m--> 242\u001b[0;31m         \u001b[0;32mraise\u001b[0m \u001b[0mexception_class\u001b[0m\u001b[0;34m(\u001b[0m\u001b[0mmessage\u001b[0m\u001b[0;34m,\u001b[0m \u001b[0mscreen\u001b[0m\u001b[0;34m,\u001b[0m \u001b[0mstacktrace\u001b[0m\u001b[0;34m)\u001b[0m\u001b[0;34m\u001b[0m\u001b[0;34m\u001b[0m\u001b[0m\n\u001b[0m\u001b[1;32m    243\u001b[0m \u001b[0;34m\u001b[0m\u001b[0m\n\u001b[1;32m    244\u001b[0m     \u001b[0;32mdef\u001b[0m \u001b[0m_value_or_default\u001b[0m\u001b[0;34m(\u001b[0m\u001b[0mself\u001b[0m\u001b[0;34m,\u001b[0m \u001b[0mobj\u001b[0m\u001b[0;34m,\u001b[0m \u001b[0mkey\u001b[0m\u001b[0;34m,\u001b[0m \u001b[0mdefault\u001b[0m\u001b[0;34m)\u001b[0m\u001b[0;34m:\u001b[0m\u001b[0;34m\u001b[0m\u001b[0;34m\u001b[0m\u001b[0m\n",
      "\u001b[0;31mNoSuchElementException\u001b[0m: Message: no such element: Unable to locate element: {\"method\":\"css selector\",\"selector\":\".ng-binding\"}\n  (Session info: chrome=80.0.3987.122)\n"
     ]
    }
   ],
   "source": [
    "driver.find_element_by_class_name('game-header-title-info').find_element_by_tag_name('H1').find_element_by_class_name('ng-binding')"
   ]
  },
  {
   "cell_type": "code",
   "execution_count": 22,
   "metadata": {},
   "outputs": [
    {
     "ename": "NoSuchElementException",
     "evalue": "Message: no such element: Unable to locate element: {\"method\":\"css selector\",\"selector\":\".geekitem.overview\"}\n  (Session info: chrome=80.0.3987.122)\n",
     "output_type": "error",
     "traceback": [
      "\u001b[0;31m---------------------------------------------------------------------------\u001b[0m",
      "\u001b[0;31mNoSuchElementException\u001b[0m                    Traceback (most recent call last)",
      "\u001b[0;32m<ipython-input-22-5387ad3804c6>\u001b[0m in \u001b[0;36m<module>\u001b[0;34m\u001b[0m\n\u001b[0;32m----> 1\u001b[0;31m \u001b[0mdriver\u001b[0m\u001b[0;34m.\u001b[0m\u001b[0mfind_element_by_class_name\u001b[0m\u001b[0;34m(\u001b[0m\u001b[0;34m'geekitem.overview'\u001b[0m\u001b[0;34m)\u001b[0m\u001b[0;34m\u001b[0m\u001b[0;34m\u001b[0m\u001b[0m\n\u001b[0m",
      "\u001b[0;32m~/opt/anaconda3/lib/python3.7/site-packages/selenium/webdriver/remote/webdriver.py\u001b[0m in \u001b[0;36mfind_element_by_class_name\u001b[0;34m(self, name)\u001b[0m\n\u001b[1;32m    562\u001b[0m             \u001b[0melement\u001b[0m \u001b[0;34m=\u001b[0m \u001b[0mdriver\u001b[0m\u001b[0;34m.\u001b[0m\u001b[0mfind_element_by_class_name\u001b[0m\u001b[0;34m(\u001b[0m\u001b[0;34m'foo'\u001b[0m\u001b[0;34m)\u001b[0m\u001b[0;34m\u001b[0m\u001b[0;34m\u001b[0m\u001b[0m\n\u001b[1;32m    563\u001b[0m         \"\"\"\n\u001b[0;32m--> 564\u001b[0;31m         \u001b[0;32mreturn\u001b[0m \u001b[0mself\u001b[0m\u001b[0;34m.\u001b[0m\u001b[0mfind_element\u001b[0m\u001b[0;34m(\u001b[0m\u001b[0mby\u001b[0m\u001b[0;34m=\u001b[0m\u001b[0mBy\u001b[0m\u001b[0;34m.\u001b[0m\u001b[0mCLASS_NAME\u001b[0m\u001b[0;34m,\u001b[0m \u001b[0mvalue\u001b[0m\u001b[0;34m=\u001b[0m\u001b[0mname\u001b[0m\u001b[0;34m)\u001b[0m\u001b[0;34m\u001b[0m\u001b[0;34m\u001b[0m\u001b[0m\n\u001b[0m\u001b[1;32m    565\u001b[0m \u001b[0;34m\u001b[0m\u001b[0m\n\u001b[1;32m    566\u001b[0m     \u001b[0;32mdef\u001b[0m \u001b[0mfind_elements_by_class_name\u001b[0m\u001b[0;34m(\u001b[0m\u001b[0mself\u001b[0m\u001b[0;34m,\u001b[0m \u001b[0mname\u001b[0m\u001b[0;34m)\u001b[0m\u001b[0;34m:\u001b[0m\u001b[0;34m\u001b[0m\u001b[0;34m\u001b[0m\u001b[0m\n",
      "\u001b[0;32m~/opt/anaconda3/lib/python3.7/site-packages/selenium/webdriver/remote/webdriver.py\u001b[0m in \u001b[0;36mfind_element\u001b[0;34m(self, by, value)\u001b[0m\n\u001b[1;32m    976\u001b[0m         return self.execute(Command.FIND_ELEMENT, {\n\u001b[1;32m    977\u001b[0m             \u001b[0;34m'using'\u001b[0m\u001b[0;34m:\u001b[0m \u001b[0mby\u001b[0m\u001b[0;34m,\u001b[0m\u001b[0;34m\u001b[0m\u001b[0;34m\u001b[0m\u001b[0m\n\u001b[0;32m--> 978\u001b[0;31m             'value': value})['value']\n\u001b[0m\u001b[1;32m    979\u001b[0m \u001b[0;34m\u001b[0m\u001b[0m\n\u001b[1;32m    980\u001b[0m     \u001b[0;32mdef\u001b[0m \u001b[0mfind_elements\u001b[0m\u001b[0;34m(\u001b[0m\u001b[0mself\u001b[0m\u001b[0;34m,\u001b[0m \u001b[0mby\u001b[0m\u001b[0;34m=\u001b[0m\u001b[0mBy\u001b[0m\u001b[0;34m.\u001b[0m\u001b[0mID\u001b[0m\u001b[0;34m,\u001b[0m \u001b[0mvalue\u001b[0m\u001b[0;34m=\u001b[0m\u001b[0;32mNone\u001b[0m\u001b[0;34m)\u001b[0m\u001b[0;34m:\u001b[0m\u001b[0;34m\u001b[0m\u001b[0;34m\u001b[0m\u001b[0m\n",
      "\u001b[0;32m~/opt/anaconda3/lib/python3.7/site-packages/selenium/webdriver/remote/webdriver.py\u001b[0m in \u001b[0;36mexecute\u001b[0;34m(self, driver_command, params)\u001b[0m\n\u001b[1;32m    319\u001b[0m         \u001b[0mresponse\u001b[0m \u001b[0;34m=\u001b[0m \u001b[0mself\u001b[0m\u001b[0;34m.\u001b[0m\u001b[0mcommand_executor\u001b[0m\u001b[0;34m.\u001b[0m\u001b[0mexecute\u001b[0m\u001b[0;34m(\u001b[0m\u001b[0mdriver_command\u001b[0m\u001b[0;34m,\u001b[0m \u001b[0mparams\u001b[0m\u001b[0;34m)\u001b[0m\u001b[0;34m\u001b[0m\u001b[0;34m\u001b[0m\u001b[0m\n\u001b[1;32m    320\u001b[0m         \u001b[0;32mif\u001b[0m \u001b[0mresponse\u001b[0m\u001b[0;34m:\u001b[0m\u001b[0;34m\u001b[0m\u001b[0;34m\u001b[0m\u001b[0m\n\u001b[0;32m--> 321\u001b[0;31m             \u001b[0mself\u001b[0m\u001b[0;34m.\u001b[0m\u001b[0merror_handler\u001b[0m\u001b[0;34m.\u001b[0m\u001b[0mcheck_response\u001b[0m\u001b[0;34m(\u001b[0m\u001b[0mresponse\u001b[0m\u001b[0;34m)\u001b[0m\u001b[0;34m\u001b[0m\u001b[0;34m\u001b[0m\u001b[0m\n\u001b[0m\u001b[1;32m    322\u001b[0m             response['value'] = self._unwrap_value(\n\u001b[1;32m    323\u001b[0m                 response.get('value', None))\n",
      "\u001b[0;32m~/opt/anaconda3/lib/python3.7/site-packages/selenium/webdriver/remote/errorhandler.py\u001b[0m in \u001b[0;36mcheck_response\u001b[0;34m(self, response)\u001b[0m\n\u001b[1;32m    240\u001b[0m                 \u001b[0malert_text\u001b[0m \u001b[0;34m=\u001b[0m \u001b[0mvalue\u001b[0m\u001b[0;34m[\u001b[0m\u001b[0;34m'alert'\u001b[0m\u001b[0;34m]\u001b[0m\u001b[0;34m.\u001b[0m\u001b[0mget\u001b[0m\u001b[0;34m(\u001b[0m\u001b[0;34m'text'\u001b[0m\u001b[0;34m)\u001b[0m\u001b[0;34m\u001b[0m\u001b[0;34m\u001b[0m\u001b[0m\n\u001b[1;32m    241\u001b[0m             \u001b[0;32mraise\u001b[0m \u001b[0mexception_class\u001b[0m\u001b[0;34m(\u001b[0m\u001b[0mmessage\u001b[0m\u001b[0;34m,\u001b[0m \u001b[0mscreen\u001b[0m\u001b[0;34m,\u001b[0m \u001b[0mstacktrace\u001b[0m\u001b[0;34m,\u001b[0m \u001b[0malert_text\u001b[0m\u001b[0;34m)\u001b[0m\u001b[0;34m\u001b[0m\u001b[0;34m\u001b[0m\u001b[0m\n\u001b[0;32m--> 242\u001b[0;31m         \u001b[0;32mraise\u001b[0m \u001b[0mexception_class\u001b[0m\u001b[0;34m(\u001b[0m\u001b[0mmessage\u001b[0m\u001b[0;34m,\u001b[0m \u001b[0mscreen\u001b[0m\u001b[0;34m,\u001b[0m \u001b[0mstacktrace\u001b[0m\u001b[0;34m)\u001b[0m\u001b[0;34m\u001b[0m\u001b[0;34m\u001b[0m\u001b[0m\n\u001b[0m\u001b[1;32m    243\u001b[0m \u001b[0;34m\u001b[0m\u001b[0m\n\u001b[1;32m    244\u001b[0m     \u001b[0;32mdef\u001b[0m \u001b[0m_value_or_default\u001b[0m\u001b[0;34m(\u001b[0m\u001b[0mself\u001b[0m\u001b[0;34m,\u001b[0m \u001b[0mobj\u001b[0m\u001b[0;34m,\u001b[0m \u001b[0mkey\u001b[0m\u001b[0;34m,\u001b[0m \u001b[0mdefault\u001b[0m\u001b[0;34m)\u001b[0m\u001b[0;34m:\u001b[0m\u001b[0;34m\u001b[0m\u001b[0;34m\u001b[0m\u001b[0m\n",
      "\u001b[0;31mNoSuchElementException\u001b[0m: Message: no such element: Unable to locate element: {\"method\":\"css selector\",\"selector\":\".geekitem.overview\"}\n  (Session info: chrome=80.0.3987.122)\n"
     ]
    }
   ],
   "source": [
    "driver.find_element_by_class_name('geekitem.overview')"
   ]
  },
  {
   "cell_type": "code",
   "execution_count": null,
   "metadata": {},
   "outputs": [],
   "source": []
  },
  {
   "cell_type": "code",
   "execution_count": null,
   "metadata": {},
   "outputs": [],
   "source": []
  },
  {
   "cell_type": "markdown",
   "metadata": {},
   "source": [
    "## Average Rating"
   ]
  },
  {
   "cell_type": "markdown",
   "metadata": {},
   "source": [
    "## Number of Players"
   ]
  },
  {
   "cell_type": "markdown",
   "metadata": {},
   "source": [
    "## Number of Minutes"
   ]
  },
  {
   "cell_type": "markdown",
   "metadata": {},
   "source": [
    "## Weight"
   ]
  },
  {
   "cell_type": "code",
   "execution_count": null,
   "metadata": {},
   "outputs": [],
   "source": []
  },
  {
   "cell_type": "code",
   "execution_count": null,
   "metadata": {},
   "outputs": [],
   "source": []
  },
  {
   "cell_type": "code",
   "execution_count": null,
   "metadata": {},
   "outputs": [],
   "source": []
  },
  {
   "cell_type": "code",
   "execution_count": null,
   "metadata": {},
   "outputs": [],
   "source": []
  },
  {
   "cell_type": "code",
   "execution_count": 10,
   "metadata": {},
   "outputs": [
    {
     "data": {
      "text/plain": [
       "'Skip Navigation\\nAccessibility Feedback\\nToggle Sidebar\\nboardgame geek\\nMore Geek Sites\\nBrowse\\nForums\\nGeekLists\\nMarket\\nCommunity\\nHelp\\nSign In\\nJoin (it\\'s free)!\\nSearch Site\\nSearch\\nSkip Sidebar\\nTHE HOTNESS\\nCHANGE HOTNESS DISPLAY STYLE\\nGAMES\\nBrass: Birmingham\\nPublished\\n2018 · Rank: 4\\nChronicles of Crime: 1400\\nPublished\\n2021\\nGloomhaven\\nPublished\\n2017 · Rank: 1\\nTang Garden\\nPublished\\n2020 · Rank: 3424\\nChronicles of Crime: 2400\\nPublished\\n2021\\nRaiders of Scythia\\nPublished\\n2020\\nTerraforming Mars\\nPublished\\n2016 · Rank: 3\\nViscounts of the West Kingdom\\nPublished\\n2020\\nWingspan\\nPublished\\n2019 · Rank: 23\\nOn Mars\\nPublished\\n2020 · Rank: 174\\nChronicles of Crime: 1900\\nPublished\\n2021\\nMarvel Champions: The Card…\\nPublished\\n2019 · Rank: 106\\nRoot\\nPublished\\n2018 · Rank: 35\\nEclipse: Second Dawn for the…\\nPublished\\n2020 · Rank: 3843\\nArkham Horror: The Card Game\\nPublished\\n2016 · Rank: 20\\nRANK: OVERALL 267 STRATEGY 185\\n7.5\\nTapestry (2019)\\n7.1K Ratings & 1.5K Comments · GeekBuddy Analysis\\nGameplay\\n1–5 Players\\nCommunity: 1–4 — Best: 3\\n90–120 Min\\nPlaying Time\\nAge: 12+\\nCommunity: 12+\\nWeight: 2.85 / 5\\nComplexity Rating\\n\\'Complexity\\' Rating\\nResults\\nLearn more about complexity ratings\\nDesigner Jamey Stegmaier\\nArtist Andrew Bosley, Rom Brown\\nPublisher Stonemaier Games + 12 more\\nSee Full Credits\\nMy rating\\n( )\\n( )\\n( )\\n( )\\n( )\\n( )\\n( )\\n( )\\n( )\\n( )\\nBuy Add To Collection\\nLog Play\\n946\\nSubscribe\\nSubscribe Options\\nSettings Share\\nRSS Feed\\nEdit\\nOverview\\nRatings\\nForums\\nImages\\nVideos\\nFiles\\nStats\\nVersions\\nExpansions\\nMy Games\\nMarket\\nMore\\nInstructional Video\\nPlaythrough Video\\nAD\\nTapestry - $89.10 Miniature Market - Free Shipping Over $99 - Customer Holds Available - Guilt Free Gaming!\\nSponsor: miniaturemarket (See All)\\n331 IMAGES\\nDescription Edit\\nCLASSIFICATION  \\nEDIT\\nType\\nStrategy\\nView poll and results\\nCategory\\nCivilization\\nMechanisms\\nDice Rolling\\nHand Management\\nSolo / Solitaire Game\\nTech Trees / Tech Tracks\\nTile Placement\\n+ 2 more\\nFamily\\nSolitaire Games\\nAdvertisement\\nTapestry is a two-hour game for 1-5 players designed by Jamey Stegmaier.\\nCreate the civilization with the most storied history, starting at the beginning of humankind and reaching into the future. The paths you choose will vary greatly from real-world events or people — your civilization is unique!\\nIn Tapestry, you start from nothing and advance on any of the four advancement tracks (science, technology, exploration, and military) to earn progressively better benefits. You can focus on a specific track or take a more balanced approach. You will also improve your income, build your capital city, leverage your asymmetric abilities, earn victory points, and gain tapestry cards that will tell the story of your civilization.\\n+ More\\nOFFICIAL LINKS\\nTapestry at Stonemaier\\n(stonemaiergames.com)  \\nPropose a different link\\nADDITIONAL SUGGESTIONS\\nLanguage Dependence\\nLearn more about language dependence\\nModerate in-game text - needs crib sheet or paste ups\\nView poll and results\\nCOMMUNITY STATS\\nOwn:\\n9.9K\\nWishlist:\\n4.3K\\nFor Trade:\\nFind For Trade Matches\\n192\\nWant In Trade:\\nFind Want in Trade Matches\\n585\\nHas Parts:\\n4\\nWants Parts:\\n2\\nSee All Stats\\nBGG Item ID: 286096\\nBuy a Copy\\nSTORES\\n$99.00\\nSuggested retail\\n$70.47\\nAmazon.com\\nFrom $59.00\\nEbay listings (2)\\nGEEKMARKET - RECENT\\n€75\\nN Tapestry (English edition) (2019)\\n€89\\nN Tapestry (English edition) (2019)\\n£50\\nVG Tapestry (English edition) (2019)\\nSee All (86) Sell a Copy Price History\\nAdvertisement\\nVideos Add\\nHOT REVIEW\\n24:26\\nVideo:\\nTapestry Review - with Tom Vasel\\nGallery:\\nReview\\nsubmitted by:\\nTomVasel · 5 months ago · English\\n185 62\\nHOT \"HOW TO PLAY\"\\n25:56\\nVideo:\\nTapestry - How To Play\\nGallery:\\nInstructional\\nsubmitted by:\\nWatch It Played · 6 months ago · English\\n347 25\\nLATEST VIDEO\\nVideo:\\nTapestry - Brettspiel Unboxing\\nGallery:\\nUnboxing\\nsubmitted by:\\nMadhunter · 2 days ago · German\\n0 0\\nSee All (167)\\nIn-Depth Reviews Add\\nHOT REVIEWS\\n185 62\\nTapestry Review - with Tom Vasel\\nTomVasel (6,217 reviews) · 5 months ago · English\\n168 118\\n\"I so wanted to love you, Tapestry.\" An epistolary review.\\nhunteria (1 review) · 5 months ago\\nRECENT REVIEWS\\n1 0\\nJust Got Played reviews: Tapestry\\nsteckman (10 reviews) · 4 days ago · English\\n1 0\\nTapestry (Takebacks)\\noliverkinne (36 reviews) · 4 days ago · English\\n3 2\\nTapestry Review (Ups & Downs)\\nrob2kewl (300 reviews) · 18 days ago · English\\n0\\nTapestry - Recenzja\\nnunovix (964 reviews) · 19 days ago · Polish\\n0\\nZagrałem w: Tapestry\\nnunovix (964 reviews) · 20 days ago · Polish\\nAll Text Reviews (49) All Video Reviews (71)\\nFans Also Like\\nArchitects of the West Kingdom\\n80\\n759\\nPaladins of the West Kingdom\\n162\\n453\\nEverdell\\n59\\n1266\\nDinosaur Island\\n119\\n699\\nWingspan\\n23\\n1963\\nBlack Angel\\n763\\n309\\nSee All (28)\\nForums Go to Forum\\nSearch Forums\\nNew Post\\nHOT THREADS\\n14 19\\nTapestry Strategy, Part 1: Variance Management\\nStrategy Excalabur · 13 days ago\\n10 7\\nTapestry Strategy, Part 2: Opening Theory\\nStrategy Excalabur · 8 days ago\\nRECENT THREADS\\n0 4\\n1st game\\nRules philip69 · 2 hours ago\\n0 8\\nbenefits and bonus\\nRules philip69 · 6 hours ago\\n0 2\\nHow to get 2 income buildings out in Era 1 (solo)\\nStrategy Drizzzt · 9 hours ago\\n0 2\\nAI Singularity\\nStrategy ulrik · 1 day ago\\n0 7\\n2 questions\\nRules philip69 · 1 day ago\\nSee All (1,063)\\nFiles Upload\\nTOP FILES\\n77 26\\nPDF Tapestry Icon Reference and Glossary sheet v5\\nThis is a reference sheet that combines all icons and glossary in one place for…\\nAction Andy · 5 months ago · English\\n66 0\\nPDF Tapestry Rulebook\\nThis is the multiplayer rulebook for Tapestry.\\njameystegmaier · 6 months ago · English\\nRECENT FILES\\n4 0\\nPDF TAPESTRY TABLEAU SOLO\\nTableau pour enregistrer vos parties Solo de TAPESTRY\\nsylweb · 1 month ago · French\\n2 1\\nPDF TAPESTRY PLATEAU DES BOTS\\nTAPESTRY PLATEAU DES BOTS A IMPRIMER A LA TAILLE RÉELLE AU FORMAT A4\\nsylweb · 1 month ago · French\\nSee All (48)\\nCommunity Wiki Edit\\nMicrobadges:\\nUnofficial FAQ\\nFeatured Components:\\n1 individually numbered box (out of 25,000 first-printing English copies)\\n1 game board\\n1 landmark board\\n4-page rulebook\\n2 reference guides (identical)\\n18 prepainted landmark miniatures (28-70mm tall)\\n100 income building miniatures\\n16 asymmetric civilization mats\\n6 unique capital city mats\\n5 income mats\\n43 different tapestry cards\\n7 trap cards\\n48 unique territory tiles\\n15 unique space tiles\\n33 tech cards\\n3 custom dice\\n85 player tokens (cubes)\\n50 outpost tokens\\n1 custom insert\\n28 Automa cards (solo mode)\\n1 Automa mat\\n1 Automa rulebook\\n6 reference cards\\n+ More\\nMore of This Game\\n0\\nExpansions\\n13\\nVersions\\n1\\nAccessories\\n0\\nContains\\n0\\nContained in\\n0\\nReimplemented By\\n0\\nReimplements\\n0\\nVideo Game Adaptations\\n0\\nIntegrates With\\nCommunity Tags\\nNews & Links\\n12\\nWeb Links\\n1\\nBGG News\\n99\\nBGG Blog Posts\\n18\\nPodcasts\\nGeekLists with This Game\\nCard Sleeve Sizes for Games\\nTaeraresh · 6 years ago\\n6.3K 4.7K\\nRahdo Runs Through... Games!\\nrahdo · 8 years ago\\n3.2K 1.4K\\nProposed BoardGameArena.com games\\nsourisdudesert · 8 years ago\\n2.4K 1.8K\\nMarnaudo\\'s video reviews\\nmarnaudo · 9 years ago\\n1.6K 1.8K\\nSee All (493)\\nHome About Contact Privacy Terms Advertise Support BGG Feeds\\nGeekdo, BoardGameGeek, the Geekdo logo, and the BoardGameGeek logo are trademarks of BoardGameGeek, LLC.'"
      ]
     },
     "execution_count": 10,
     "metadata": {},
     "output_type": "execute_result"
    }
   ],
   "source": [
    "driver.find_element_by_class_name('ng-scope').text"
   ]
  },
  {
   "cell_type": "markdown",
   "metadata": {},
   "source": [
    "# Data Frame"
   ]
  },
  {
   "cell_type": "markdown",
   "metadata": {},
   "source": [
    "## ETL"
   ]
  },
  {
   "cell_type": "code",
   "execution_count": 434,
   "metadata": {},
   "outputs": [],
   "source": [
    "#fillna\n",
    "df.overall_ranking.fillna('0', inplace=True)"
   ]
  },
  {
   "cell_type": "code",
   "execution_count": 435,
   "metadata": {},
   "outputs": [],
   "source": [
    "#change type to integer\n",
    "df.overall_ranking = df.overall_ranking.astype('int64')"
   ]
  },
  {
   "cell_type": "code",
   "execution_count": 436,
   "metadata": {},
   "outputs": [],
   "source": [
    "#fix avg rating column\n",
    "df['avg_rating2']= df['avg_rating'].str.split(':', expand=True)[1].fillna('0 ')"
   ]
  },
  {
   "cell_type": "code",
   "execution_count": 437,
   "metadata": {},
   "outputs": [],
   "source": [
    "df['avg_rating2'] = df['avg_rating2'].str.split(' ', expand=True)[0].astype('float')"
   ]
  },
  {
   "cell_type": "code",
   "execution_count": null,
   "metadata": {},
   "outputs": [],
   "source": []
  },
  {
   "cell_type": "code",
   "execution_count": 440,
   "metadata": {},
   "outputs": [],
   "source": [
    "df.drop(columns = {'avg_rating'}, inplace=True)"
   ]
  },
  {
   "cell_type": "code",
   "execution_count": 286,
   "metadata": {},
   "outputs": [],
   "source": [
    "df.to_csv('board_games.csv')"
   ]
  },
  {
   "cell_type": "code",
   "execution_count": 447,
   "metadata": {},
   "outputs": [],
   "source": [
    "# df[(df['seller']=='')]"
   ]
  },
  {
   "cell_type": "markdown",
   "metadata": {},
   "source": [
    "### To Do: Get rid of empty sellers"
   ]
  },
  {
   "cell_type": "code",
   "execution_count": 441,
   "metadata": {},
   "outputs": [],
   "source": [
    "#For now ignore empty sellers\n",
    "df = df[~(df['seller']=='')]"
   ]
  },
  {
   "cell_type": "code",
   "execution_count": 442,
   "metadata": {},
   "outputs": [],
   "source": [
    "df.to_csv('board_game.csv')"
   ]
  },
  {
   "cell_type": "code",
   "execution_count": 354,
   "metadata": {},
   "outputs": [],
   "source": [
    "df.reset_index(inplace=True)"
   ]
  },
  {
   "cell_type": "code",
   "execution_count": 372,
   "metadata": {},
   "outputs": [],
   "source": [
    "df = df[~(df.overall_ranking==0)].sort_values(by=['overall_ranking'])"
   ]
  },
  {
   "cell_type": "code",
   "execution_count": 452,
   "metadata": {},
   "outputs": [],
   "source": [
    "#keep column at max capacirt\n",
    "#df.style.set_properties(subset=['board_game_listing'], **{'width': '300px'})"
   ]
  },
  {
   "cell_type": "code",
   "execution_count": 451,
   "metadata": {
    "scrolled": true
   },
   "outputs": [],
   "source": [
    "# df.sort_values(by=['overall_ranking']).head(50)"
   ]
  },
  {
   "cell_type": "markdown",
   "metadata": {},
   "source": [
    "### Fix Last Edited Column"
   ]
  },
  {
   "cell_type": "code",
   "execution_count": 471,
   "metadata": {},
   "outputs": [],
   "source": [
    "df_l =  df['last_edited'].str.split('\\n', expand=True)"
   ]
  },
  {
   "cell_type": "code",
   "execution_count": 473,
   "metadata": {},
   "outputs": [
    {
     "name": "stderr",
     "output_type": "stream",
     "text": [
      "/Users/johnrick/opt/anaconda3/lib/python3.7/site-packages/ipykernel_launcher.py:1: FutureWarning: The join_axes-keyword is deprecated. Use .reindex or .reindex_like on the result to achieve the same functionality.\n",
      "  \"\"\"Entry point for launching an IPython kernel.\n"
     ]
    }
   ],
   "source": [
    "df = pd.concat([df, df_l], axis=1, join_axes=[df.index])"
   ]
  },
  {
   "cell_type": "code",
   "execution_count": 478,
   "metadata": {},
   "outputs": [],
   "source": [
    "df.drop(columns = ['last_edited'],inplace=True)"
   ]
  },
  {
   "cell_type": "code",
   "execution_count": 481,
   "metadata": {},
   "outputs": [],
   "source": [
    "df['last_edited'] = None"
   ]
  },
  {
   "cell_type": "code",
   "execution_count": 489,
   "metadata": {
    "scrolled": true
   },
   "outputs": [],
   "source": [
    "df['posted']= None"
   ]
  },
  {
   "cell_type": "code",
   "execution_count": 492,
   "metadata": {},
   "outputs": [],
   "source": [
    "df.drop(columns = ['last_posted'],inplace=True)"
   ]
  },
  {
   "cell_type": "code",
   "execution_count": 501,
   "metadata": {},
   "outputs": [],
   "source": [
    "df['posted'] = df[0].apply(lambda x: x if x.startswith('Posted') else np.nan)"
   ]
  },
  {
   "cell_type": "code",
   "execution_count": 503,
   "metadata": {},
   "outputs": [],
   "source": [
    "df['posted'].fillna(df[1], inplace=True)"
   ]
  },
  {
   "cell_type": "code",
   "execution_count": 510,
   "metadata": {},
   "outputs": [],
   "source": [
    "#if x starts with ___, keep string. Otherwise NAN\n",
    "df['last_edited'] = df[0].apply(lambda x: x if x.startswith('Edited') else np.nan)"
   ]
  },
  {
   "cell_type": "code",
   "execution_count": 513,
   "metadata": {},
   "outputs": [],
   "source": [
    "df.drop(columns=['posteds',0,1,2,3], inplace=True)"
   ]
  },
  {
   "cell_type": "code",
   "execution_count": null,
   "metadata": {},
   "outputs": [],
   "source": []
  },
  {
   "cell_type": "code",
   "execution_count": 523,
   "metadata": {},
   "outputs": [
    {
     "data": {
      "text/plain": [
       "3      Edited Wed Jan 8, 2020 1:41 am\n",
       "4     Edited Wed Jan 22, 2020 5:22 pm\n",
       "5     Edited Fri Oct 25, 2019 6:41 pm\n",
       "6     Edited Fri Oct 25, 2019 6:41 pm\n",
       "8     Edited Sat Feb 15, 2020 4:54 pm\n",
       "9      Edited Tue Jan 7, 2020 8:39 pm\n",
       "10                                NaN\n",
       "11    Edited Wed Jan 8, 2020 12:17 pm\n",
       "13                                NaN\n",
       "14                                NaN\n",
       "15                                NaN\n",
       "16                                NaN\n",
       "17    Edited Fri Oct 25, 2019 6:44 pm\n",
       "18    Edited Fri Oct 25, 2019 6:44 pm\n",
       "19                                NaN\n",
       "20                                NaN\n",
       "21                                NaN\n",
       "22                                NaN\n",
       "23                                NaN\n",
       "24                                NaN\n",
       "25                                NaN\n",
       "26                                NaN\n",
       "27                                NaN\n",
       "28                                NaN\n",
       "29                                NaN\n",
       "Name: last_edited, dtype: object"
      ]
     },
     "execution_count": 523,
     "metadata": {},
     "output_type": "execute_result"
    }
   ],
   "source": [
    "df['last_edited'].head(25)"
   ]
  },
  {
   "cell_type": "code",
   "execution_count": 517,
   "metadata": {},
   "outputs": [],
   "source": [
    "import re"
   ]
  },
  {
   "cell_type": "code",
   "execution_count": 520,
   "metadata": {},
   "outputs": [],
   "source": [
    "re.search(r'\\w{3}-\\d{1,2}-\\d{4}', 'Edited Wed Jan 8, 2020 1:41 am')"
   ]
  },
  {
   "cell_type": "code",
   "execution_count": null,
   "metadata": {},
   "outputs": [],
   "source": [
    "\\w{3} \\d{1,2}, \\d{4}"
   ]
  },
  {
   "cell_type": "code",
   "execution_count": null,
   "metadata": {},
   "outputs": [],
   "source": [
    "[a-zA-Z]{3} [0-9]{1,2}, [0-9]{4}"
   ]
  },
  {
   "cell_type": "code",
   "execution_count": 530,
   "metadata": {},
   "outputs": [
    {
     "data": {
      "text/plain": [
       "3       Jan 8, 2020\n",
       "4      Jan 22, 2020\n",
       "5      Oct 25, 2019\n",
       "6      Oct 25, 2019\n",
       "8      Feb 15, 2020\n",
       "           ...     \n",
       "513             NaN\n",
       "514             NaN\n",
       "515             NaN\n",
       "516             NaN\n",
       "517             NaN\n",
       "Name: last_edited, Length: 471, dtype: object"
      ]
     },
     "execution_count": 530,
     "metadata": {},
     "output_type": "execute_result"
    }
   ],
   "source": [
    "#extracts only the date\n",
    "df['last_edited'].str.extract(r'([a-zA-Z]{3} [0-9]{1,2}, [0-9]{4})' , expand=False)\n"
   ]
  },
  {
   "cell_type": "code",
   "execution_count": 532,
   "metadata": {},
   "outputs": [],
   "source": [
    "df['last_edited'] = df['last_edited'].str.extract(r'([a-zA-Z]{3} [0-9]{1,2}, [0-9]{4})' , expand=False)"
   ]
  },
  {
   "cell_type": "code",
   "execution_count": 535,
   "metadata": {},
   "outputs": [],
   "source": [
    "df['posted'] = df['posted'].str.extract(r'([a-zA-Z]{3} [0-9]{1,2}, [0-9]{4})' , expand=False)"
   ]
  },
  {
   "cell_type": "code",
   "execution_count": 536,
   "metadata": {},
   "outputs": [
    {
     "data": {
      "text/html": [
       "<div>\n",
       "<style scoped>\n",
       "    .dataframe tbody tr th:only-of-type {\n",
       "        vertical-align: middle;\n",
       "    }\n",
       "\n",
       "    .dataframe tbody tr th {\n",
       "        vertical-align: top;\n",
       "    }\n",
       "\n",
       "    .dataframe thead th {\n",
       "        text-align: right;\n",
       "    }\n",
       "</style>\n",
       "<table border=\"1\" class=\"dataframe\">\n",
       "  <thead>\n",
       "    <tr style=\"text-align: right;\">\n",
       "      <th></th>\n",
       "      <th>name</th>\n",
       "      <th>board_game_link</th>\n",
       "      <th>board_game_listing</th>\n",
       "      <th>overall_ranking</th>\n",
       "      <th>seller</th>\n",
       "      <th>comments</th>\n",
       "      <th>avg_rating2</th>\n",
       "      <th>last_edited</th>\n",
       "      <th>posted</th>\n",
       "    </tr>\n",
       "  </thead>\n",
       "  <tbody>\n",
       "    <tr>\n",
       "      <td>3</td>\n",
       "      <td>Gloomhaven</td>\n",
       "      <td>https://boardgamegeek.com/boardgame/174430/glo...</td>\n",
       "      <td>https://boardgamegeek.com/geeklist/198692/item...</td>\n",
       "      <td>1</td>\n",
       "      <td>yetiboy</td>\n",
       "      <td>Gloomhaven Everything Bundle: 220$ Like new : ...</td>\n",
       "      <td>8.84</td>\n",
       "      <td>Jan 8, 2020</td>\n",
       "      <td>Sep 1, 2019</td>\n",
       "    </tr>\n",
       "    <tr>\n",
       "      <td>4</td>\n",
       "      <td>Zombies!!!</td>\n",
       "      <td>https://boardgamegeek.com/boardgame/2471/zombies</td>\n",
       "      <td>https://boardgamegeek.com/geeklist/198692/item...</td>\n",
       "      <td>5708</td>\n",
       "      <td>horsethiefbandit</td>\n",
       "      <td>Good used condition, $10 $5. Pickup in Union S...</td>\n",
       "      <td>5.82</td>\n",
       "      <td>Jan 22, 2020</td>\n",
       "      <td>Sep 3, 2019</td>\n",
       "    </tr>\n",
       "    <tr>\n",
       "      <td>5</td>\n",
       "      <td>Dead Man's Cabal</td>\n",
       "      <td>https://boardgamegeek.com/boardgame/264321/dea...</td>\n",
       "      <td>https://boardgamegeek.com/geeklist/198692/item...</td>\n",
       "      <td>4918</td>\n",
       "      <td>brendan126</td>\n",
       "      <td>$25\\nIncludes undeadening promo pack\\nCan meet...</td>\n",
       "      <td>6.94</td>\n",
       "      <td>Oct 25, 2019</td>\n",
       "      <td>Oct 1, 2019</td>\n",
       "    </tr>\n",
       "    <tr>\n",
       "      <td>6</td>\n",
       "      <td>Arraial</td>\n",
       "      <td>https://boardgamegeek.com/boardgame/246150/arr...</td>\n",
       "      <td>https://boardgamegeek.com/geeklist/198692/item...</td>\n",
       "      <td>3311</td>\n",
       "      <td>brendan126</td>\n",
       "      <td>$15\\nCan meet in Astoria or Manhattan</td>\n",
       "      <td>6.69</td>\n",
       "      <td>Oct 25, 2019</td>\n",
       "      <td>Oct 1, 2019</td>\n",
       "    </tr>\n",
       "    <tr>\n",
       "      <td>8</td>\n",
       "      <td>Flash Point: Fire Rescue</td>\n",
       "      <td>https://boardgamegeek.com/boardgame/100901/fla...</td>\n",
       "      <td>https://boardgamegeek.com/geeklist/198692/item...</td>\n",
       "      <td>307</td>\n",
       "      <td>Messier104</td>\n",
       "      <td>Also includes Flash Point: Extreme Danger and ...</td>\n",
       "      <td>7.22</td>\n",
       "      <td>Feb 15, 2020</td>\n",
       "      <td>Oct 8, 2019</td>\n",
       "    </tr>\n",
       "  </tbody>\n",
       "</table>\n",
       "</div>"
      ],
      "text/plain": [
       "                       name  \\\n",
       "3                Gloomhaven   \n",
       "4                Zombies!!!   \n",
       "5          Dead Man's Cabal   \n",
       "6                   Arraial   \n",
       "8  Flash Point: Fire Rescue   \n",
       "\n",
       "                                     board_game_link  \\\n",
       "3  https://boardgamegeek.com/boardgame/174430/glo...   \n",
       "4   https://boardgamegeek.com/boardgame/2471/zombies   \n",
       "5  https://boardgamegeek.com/boardgame/264321/dea...   \n",
       "6  https://boardgamegeek.com/boardgame/246150/arr...   \n",
       "8  https://boardgamegeek.com/boardgame/100901/fla...   \n",
       "\n",
       "                                  board_game_listing  overall_ranking  \\\n",
       "3  https://boardgamegeek.com/geeklist/198692/item...                1   \n",
       "4  https://boardgamegeek.com/geeklist/198692/item...             5708   \n",
       "5  https://boardgamegeek.com/geeklist/198692/item...             4918   \n",
       "6  https://boardgamegeek.com/geeklist/198692/item...             3311   \n",
       "8  https://boardgamegeek.com/geeklist/198692/item...              307   \n",
       "\n",
       "             seller                                           comments  \\\n",
       "3           yetiboy  Gloomhaven Everything Bundle: 220$ Like new : ...   \n",
       "4  horsethiefbandit  Good used condition, $10 $5. Pickup in Union S...   \n",
       "5        brendan126  $25\\nIncludes undeadening promo pack\\nCan meet...   \n",
       "6        brendan126              $15\\nCan meet in Astoria or Manhattan   \n",
       "8        Messier104  Also includes Flash Point: Extreme Danger and ...   \n",
       "\n",
       "   avg_rating2   last_edited       posted  \n",
       "3         8.84   Jan 8, 2020  Sep 1, 2019  \n",
       "4         5.82  Jan 22, 2020  Sep 3, 2019  \n",
       "5         6.94  Oct 25, 2019  Oct 1, 2019  \n",
       "6         6.69  Oct 25, 2019  Oct 1, 2019  \n",
       "8         7.22  Feb 15, 2020  Oct 8, 2019  "
      ]
     },
     "execution_count": 536,
     "metadata": {},
     "output_type": "execute_result"
    }
   ],
   "source": [
    "df.head()"
   ]
  },
  {
   "cell_type": "code",
   "execution_count": null,
   "metadata": {},
   "outputs": [],
   "source": [
    "# .style.set_properties(subset=['board_game_listing'], **{'width': '300px'})"
   ]
  },
  {
   "cell_type": "code",
   "execution_count": 543,
   "metadata": {},
   "outputs": [],
   "source": [
    "eric = df[df['seller'] == 'Eric615']"
   ]
  },
  {
   "cell_type": "code",
   "execution_count": 546,
   "metadata": {},
   "outputs": [
    {
     "data": {
      "text/html": [
       "<div>\n",
       "<style scoped>\n",
       "    .dataframe tbody tr th:only-of-type {\n",
       "        vertical-align: middle;\n",
       "    }\n",
       "\n",
       "    .dataframe tbody tr th {\n",
       "        vertical-align: top;\n",
       "    }\n",
       "\n",
       "    .dataframe thead th {\n",
       "        text-align: right;\n",
       "    }\n",
       "</style>\n",
       "<table border=\"1\" class=\"dataframe\">\n",
       "  <thead>\n",
       "    <tr style=\"text-align: right;\">\n",
       "      <th></th>\n",
       "      <th>name</th>\n",
       "      <th>board_game_link</th>\n",
       "      <th>board_game_listing</th>\n",
       "      <th>overall_ranking</th>\n",
       "      <th>seller</th>\n",
       "      <th>comments</th>\n",
       "      <th>avg_rating2</th>\n",
       "      <th>last_edited</th>\n",
       "      <th>posted</th>\n",
       "    </tr>\n",
       "  </thead>\n",
       "  <tbody>\n",
       "    <tr>\n",
       "      <td>480</td>\n",
       "      <td>T.I.M.E Stories</td>\n",
       "      <td>https://boardgamegeek.com/boardgame/146508/tim...</td>\n",
       "      <td>https://boardgamegeek.com/geeklist/198692/item...</td>\n",
       "      <td>99</td>\n",
       "      <td>Eric615</td>\n",
       "      <td>$25 - great shape; played once\\n\\nMeet in Lowe...</td>\n",
       "      <td>7.65</td>\n",
       "      <td>NaN</td>\n",
       "      <td>Feb 26, 2020</td>\n",
       "    </tr>\n",
       "    <tr>\n",
       "      <td>452</td>\n",
       "      <td>T.I.M.E Stories</td>\n",
       "      <td>https://boardgamegeek.com/boardgame/146508/tim...</td>\n",
       "      <td>https://boardgamegeek.com/geeklist/198692/item...</td>\n",
       "      <td>99</td>\n",
       "      <td>Eric615</td>\n",
       "      <td>$25 - great shape; played once\\n\\nMeet in Lowe...</td>\n",
       "      <td>7.65</td>\n",
       "      <td>NaN</td>\n",
       "      <td>NaN</td>\n",
       "    </tr>\n",
       "    <tr>\n",
       "      <td>511</td>\n",
       "      <td>Star Realms</td>\n",
       "      <td>https://boardgamegeek.com/boardgame/147020/sta...</td>\n",
       "      <td>https://boardgamegeek.com/geeklist/198692/item...</td>\n",
       "      <td>100</td>\n",
       "      <td>Eric615</td>\n",
       "      <td>$10 - NIS; includes additional NIS card pack\\n...</td>\n",
       "      <td>7.60</td>\n",
       "      <td>Feb 27, 2020</td>\n",
       "      <td>Feb 27, 2020</td>\n",
       "    </tr>\n",
       "    <tr>\n",
       "      <td>461</td>\n",
       "      <td>The Lord of the Rings: The Card Game</td>\n",
       "      <td>https://boardgamegeek.com/boardgame/77423/lord...</td>\n",
       "      <td>https://boardgamegeek.com/geeklist/198692/item...</td>\n",
       "      <td>121</td>\n",
       "      <td>Eric615</td>\n",
       "      <td>$20 - great condition; played once; comes with...</td>\n",
       "      <td>7.64</td>\n",
       "      <td>NaN</td>\n",
       "      <td>NaN</td>\n",
       "    </tr>\n",
       "    <tr>\n",
       "      <td>488</td>\n",
       "      <td>The Lord of the Rings: The Card Game</td>\n",
       "      <td>https://boardgamegeek.com/boardgame/77423/lord...</td>\n",
       "      <td>https://boardgamegeek.com/geeklist/198692/item...</td>\n",
       "      <td>121</td>\n",
       "      <td>Eric615</td>\n",
       "      <td>$20 - great condition; played once; comes with...</td>\n",
       "      <td>7.64</td>\n",
       "      <td>Feb 26, 2020</td>\n",
       "      <td>Feb 26, 2020</td>\n",
       "    </tr>\n",
       "    <tr>\n",
       "      <td>...</td>\n",
       "      <td>...</td>\n",
       "      <td>...</td>\n",
       "      <td>...</td>\n",
       "      <td>...</td>\n",
       "      <td>...</td>\n",
       "      <td>...</td>\n",
       "      <td>...</td>\n",
       "      <td>...</td>\n",
       "      <td>...</td>\n",
       "    </tr>\n",
       "    <tr>\n",
       "      <td>515</td>\n",
       "      <td>Exploding Kittens</td>\n",
       "      <td>https://boardgamegeek.com/boardgame/172225/exp...</td>\n",
       "      <td>https://boardgamegeek.com/geeklist/198692/item...</td>\n",
       "      <td>3509</td>\n",
       "      <td>Eric615</td>\n",
       "      <td>$5 - great condition; played only a couple o’ ...</td>\n",
       "      <td>5.99</td>\n",
       "      <td>NaN</td>\n",
       "      <td>Feb 27, 2020</td>\n",
       "    </tr>\n",
       "    <tr>\n",
       "      <td>479</td>\n",
       "      <td>Michael Strogoff</td>\n",
       "      <td>https://boardgamegeek.com/boardgame/224894/mic...</td>\n",
       "      <td>https://boardgamegeek.com/geeklist/198692/item...</td>\n",
       "      <td>3565</td>\n",
       "      <td>Eric615</td>\n",
       "      <td>$20 - great shape; played once\\n\\nMeet in Lowe...</td>\n",
       "      <td>6.82</td>\n",
       "      <td>NaN</td>\n",
       "      <td>Feb 26, 2020</td>\n",
       "    </tr>\n",
       "    <tr>\n",
       "      <td>451</td>\n",
       "      <td>Michael Strogoff</td>\n",
       "      <td>https://boardgamegeek.com/boardgame/224894/mic...</td>\n",
       "      <td>https://boardgamegeek.com/geeklist/198692/item...</td>\n",
       "      <td>3566</td>\n",
       "      <td>Eric615</td>\n",
       "      <td>$20 - great shape; played once\\n\\nMeet in Lowe...</td>\n",
       "      <td>6.82</td>\n",
       "      <td>NaN</td>\n",
       "      <td>NaN</td>\n",
       "    </tr>\n",
       "    <tr>\n",
       "      <td>446</td>\n",
       "      <td>Tortuga</td>\n",
       "      <td>https://boardgamegeek.com/boardgame/153939/tor...</td>\n",
       "      <td>https://boardgamegeek.com/geeklist/198692/item...</td>\n",
       "      <td>10997</td>\n",
       "      <td>Eric615</td>\n",
       "      <td>$10 - won in BGG contest years ago, still in s...</td>\n",
       "      <td>5.73</td>\n",
       "      <td>NaN</td>\n",
       "      <td>NaN</td>\n",
       "    </tr>\n",
       "    <tr>\n",
       "      <td>475</td>\n",
       "      <td>Tortuga</td>\n",
       "      <td>https://boardgamegeek.com/boardgame/153939/tor...</td>\n",
       "      <td>https://boardgamegeek.com/geeklist/198692/item...</td>\n",
       "      <td>10998</td>\n",
       "      <td>Eric615</td>\n",
       "      <td>$10 - won in BGG contest years ago, still in s...</td>\n",
       "      <td>5.73</td>\n",
       "      <td>Feb 26, 2020</td>\n",
       "      <td>Feb 26, 2020</td>\n",
       "    </tr>\n",
       "  </tbody>\n",
       "</table>\n",
       "<p>65 rows × 9 columns</p>\n",
       "</div>"
      ],
      "text/plain": [
       "                                     name  \\\n",
       "480                       T.I.M.E Stories   \n",
       "452                       T.I.M.E Stories   \n",
       "511                           Star Realms   \n",
       "461  The Lord of the Rings: The Card Game   \n",
       "488  The Lord of the Rings: The Card Game   \n",
       "..                                    ...   \n",
       "515                     Exploding Kittens   \n",
       "479                      Michael Strogoff   \n",
       "451                      Michael Strogoff   \n",
       "446                               Tortuga   \n",
       "475                               Tortuga   \n",
       "\n",
       "                                       board_game_link  \\\n",
       "480  https://boardgamegeek.com/boardgame/146508/tim...   \n",
       "452  https://boardgamegeek.com/boardgame/146508/tim...   \n",
       "511  https://boardgamegeek.com/boardgame/147020/sta...   \n",
       "461  https://boardgamegeek.com/boardgame/77423/lord...   \n",
       "488  https://boardgamegeek.com/boardgame/77423/lord...   \n",
       "..                                                 ...   \n",
       "515  https://boardgamegeek.com/boardgame/172225/exp...   \n",
       "479  https://boardgamegeek.com/boardgame/224894/mic...   \n",
       "451  https://boardgamegeek.com/boardgame/224894/mic...   \n",
       "446  https://boardgamegeek.com/boardgame/153939/tor...   \n",
       "475  https://boardgamegeek.com/boardgame/153939/tor...   \n",
       "\n",
       "                                    board_game_listing  overall_ranking  \\\n",
       "480  https://boardgamegeek.com/geeklist/198692/item...               99   \n",
       "452  https://boardgamegeek.com/geeklist/198692/item...               99   \n",
       "511  https://boardgamegeek.com/geeklist/198692/item...              100   \n",
       "461  https://boardgamegeek.com/geeklist/198692/item...              121   \n",
       "488  https://boardgamegeek.com/geeklist/198692/item...              121   \n",
       "..                                                 ...              ...   \n",
       "515  https://boardgamegeek.com/geeklist/198692/item...             3509   \n",
       "479  https://boardgamegeek.com/geeklist/198692/item...             3565   \n",
       "451  https://boardgamegeek.com/geeklist/198692/item...             3566   \n",
       "446  https://boardgamegeek.com/geeklist/198692/item...            10997   \n",
       "475  https://boardgamegeek.com/geeklist/198692/item...            10998   \n",
       "\n",
       "      seller                                           comments  avg_rating2  \\\n",
       "480  Eric615  $25 - great shape; played once\\n\\nMeet in Lowe...         7.65   \n",
       "452  Eric615  $25 - great shape; played once\\n\\nMeet in Lowe...         7.65   \n",
       "511  Eric615  $10 - NIS; includes additional NIS card pack\\n...         7.60   \n",
       "461  Eric615  $20 - great condition; played once; comes with...         7.64   \n",
       "488  Eric615  $20 - great condition; played once; comes with...         7.64   \n",
       "..       ...                                                ...          ...   \n",
       "515  Eric615  $5 - great condition; played only a couple o’ ...         5.99   \n",
       "479  Eric615  $20 - great shape; played once\\n\\nMeet in Lowe...         6.82   \n",
       "451  Eric615  $20 - great shape; played once\\n\\nMeet in Lowe...         6.82   \n",
       "446  Eric615  $10 - won in BGG contest years ago, still in s...         5.73   \n",
       "475  Eric615  $10 - won in BGG contest years ago, still in s...         5.73   \n",
       "\n",
       "      last_edited        posted  \n",
       "480           NaN  Feb 26, 2020  \n",
       "452           NaN           NaN  \n",
       "511  Feb 27, 2020  Feb 27, 2020  \n",
       "461           NaN           NaN  \n",
       "488  Feb 26, 2020  Feb 26, 2020  \n",
       "..            ...           ...  \n",
       "515           NaN  Feb 27, 2020  \n",
       "479           NaN  Feb 26, 2020  \n",
       "451           NaN           NaN  \n",
       "446           NaN           NaN  \n",
       "475  Feb 26, 2020  Feb 26, 2020  \n",
       "\n",
       "[65 rows x 9 columns]"
      ]
     },
     "execution_count": 546,
     "metadata": {},
     "output_type": "execute_result"
    }
   ],
   "source": [
    "eric.sort_values(by=['overall_ranking'], ascending=True)"
   ]
  },
  {
   "cell_type": "code",
   "execution_count": null,
   "metadata": {},
   "outputs": [],
   "source": []
  },
  {
   "cell_type": "code",
   "execution_count": null,
   "metadata": {},
   "outputs": [],
   "source": []
  },
  {
   "cell_type": "code",
   "execution_count": 466,
   "metadata": {},
   "outputs": [
    {
     "name": "stdout",
     "output_type": "stream",
     "text": [
      "'Edited Wed Jan 8, 2020 1:41 am\\nPosted Sun Sep 1, 2019 6:49 pm\\nSubscribe \\nComment Die Rolls'\n"
     ]
    }
   ],
   "source": [
    "print(repr(df['last_edited'][3]))"
   ]
  },
  {
   "cell_type": "markdown",
   "metadata": {},
   "source": [
    "# Check To See Deals"
   ]
  },
  {
   "cell_type": "code",
   "execution_count": 410,
   "metadata": {},
   "outputs": [],
   "source": [
    "feb_27 = df[df['last_edited'].str.contains('Feb 27')]"
   ]
  },
  {
   "cell_type": "code",
   "execution_count": null,
   "metadata": {},
   "outputs": [],
   "source": [
    "df.sort_values(by=['overall_ranking']).head(25)"
   ]
  },
  {
   "cell_type": "code",
   "execution_count": 413,
   "metadata": {},
   "outputs": [],
   "source": [
    "eric= feb_27[feb_27['seller']== 'Eric615']"
   ]
  },
  {
   "cell_type": "code",
   "execution_count": null,
   "metadata": {},
   "outputs": [],
   "source": [
    "df.sort_values(by=['overall_ranking']).head(25)"
   ]
  },
  {
   "cell_type": "code",
   "execution_count": 418,
   "metadata": {
    "scrolled": true
   },
   "outputs": [],
   "source": [
    "eric= eric.sort_values(by=['overall_ranking'])"
   ]
  },
  {
   "cell_type": "code",
   "execution_count": 430,
   "metadata": {},
   "outputs": [
    {
     "data": {
      "text/html": [
       "<div>\n",
       "<style scoped>\n",
       "    .dataframe tbody tr th:only-of-type {\n",
       "        vertical-align: middle;\n",
       "    }\n",
       "\n",
       "    .dataframe tbody tr th {\n",
       "        vertical-align: top;\n",
       "    }\n",
       "\n",
       "    .dataframe thead th {\n",
       "        text-align: right;\n",
       "    }\n",
       "</style>\n",
       "<table border=\"1\" class=\"dataframe\">\n",
       "  <thead>\n",
       "    <tr style=\"text-align: right;\">\n",
       "      <th></th>\n",
       "      <th>name</th>\n",
       "      <th>board_game_link</th>\n",
       "      <th>board_game_listing</th>\n",
       "      <th>overall_ranking</th>\n",
       "      <th>seller</th>\n",
       "      <th>comments</th>\n",
       "      <th>last_edited</th>\n",
       "      <th>avg_rating2</th>\n",
       "    </tr>\n",
       "  </thead>\n",
       "  <tbody>\n",
       "    <tr>\n",
       "      <td>511</td>\n",
       "      <td>Star Realms</td>\n",
       "      <td>https://boardgamegeek.com/boardgame/147020/sta...</td>\n",
       "      <td>https://boardgamegeek.com/geeklist/198692/item...</td>\n",
       "      <td>100</td>\n",
       "      <td>Eric615</td>\n",
       "      <td>$10 - NIS; includes additional NIS card pack\\n...</td>\n",
       "      <td>Edited Thu Feb 27, 2020 6:13 pm\\nPosted Thu Fe...</td>\n",
       "      <td>7.60</td>\n",
       "    </tr>\n",
       "    <tr>\n",
       "      <td>505</td>\n",
       "      <td>Black Sonata</td>\n",
       "      <td>https://boardgamegeek.com/boardgame/231218/bla...</td>\n",
       "      <td>https://boardgamegeek.com/geeklist/198692/item...</td>\n",
       "      <td>1704</td>\n",
       "      <td>Eric615</td>\n",
       "      <td>$20 - great condition; played once\\n\\nMeet in ...</td>\n",
       "      <td>Edited Thu Feb 27, 2020 4:40 pm\\nPosted Thu Fe...</td>\n",
       "      <td>7.53</td>\n",
       "    </tr>\n",
       "    <tr>\n",
       "      <td>503</td>\n",
       "      <td>Jaipur</td>\n",
       "      <td>https://boardgamegeek.com/boardgame/54043/jaipur</td>\n",
       "      <td>https://boardgamegeek.com/geeklist/198692/item...</td>\n",
       "      <td>123</td>\n",
       "      <td>Eric615</td>\n",
       "      <td>$15 - great condition; played once\\n\\nMeet in ...</td>\n",
       "      <td>Posted Thu Feb 27, 2020 3:22 pm\\nSubscribe \\nC...</td>\n",
       "      <td>7.51</td>\n",
       "    </tr>\n",
       "    <tr>\n",
       "      <td>474</td>\n",
       "      <td>Sentinels of the Multiverse</td>\n",
       "      <td>https://boardgamegeek.com/boardgame/102652/sen...</td>\n",
       "      <td>https://boardgamegeek.com/geeklist/198692/item...</td>\n",
       "      <td>344</td>\n",
       "      <td>Eric615</td>\n",
       "      <td>$20 - great condition; played once\\n\\nMeet in ...</td>\n",
       "      <td>Edited Thu Feb 27, 2020 4:34 pm\\nPosted Wed Fe...</td>\n",
       "      <td>7.25</td>\n",
       "    </tr>\n",
       "    <tr>\n",
       "      <td>517</td>\n",
       "      <td>Karuba</td>\n",
       "      <td>https://boardgamegeek.com/boardgame/183251/karuba</td>\n",
       "      <td>https://boardgamegeek.com/geeklist/198692/item...</td>\n",
       "      <td>439</td>\n",
       "      <td>Eric615</td>\n",
       "      <td>$20 - great condition\\n\\nMeet in Lower East Si...</td>\n",
       "      <td>Posted Thu Feb 27, 2020 8:13 pm\\nSubscribe \\nC...</td>\n",
       "      <td>7.21</td>\n",
       "    </tr>\n",
       "    <tr>\n",
       "      <td>483</td>\n",
       "      <td>Zombicide</td>\n",
       "      <td>https://boardgamegeek.com/boardgame/113924/zom...</td>\n",
       "      <td>https://boardgamegeek.com/geeklist/198692/item...</td>\n",
       "      <td>440</td>\n",
       "      <td>Eric615</td>\n",
       "      <td>$40 - great condition; played once\\n\\nMeet in ...</td>\n",
       "      <td>Edited Thu Feb 27, 2020 4:35 pm\\nPosted Wed Fe...</td>\n",
       "      <td>7.18</td>\n",
       "    </tr>\n",
       "    <tr>\n",
       "      <td>502</td>\n",
       "      <td>Friday</td>\n",
       "      <td>https://boardgamegeek.com/boardgame/43570/friday</td>\n",
       "      <td>https://boardgamegeek.com/geeklist/198692/item...</td>\n",
       "      <td>367</td>\n",
       "      <td>Eric615</td>\n",
       "      <td>$10 - good shape; played a few times\\n\\nMeet i...</td>\n",
       "      <td>Posted Thu Feb 27, 2020 3:18 pm\\nSubscribe \\nC...</td>\n",
       "      <td>7.17</td>\n",
       "    </tr>\n",
       "    <tr>\n",
       "      <td>485</td>\n",
       "      <td>Castaways</td>\n",
       "      <td>https://boardgamegeek.com/boardgame/71906/cast...</td>\n",
       "      <td>https://boardgamegeek.com/geeklist/198692/item...</td>\n",
       "      <td>1389</td>\n",
       "      <td>Eric615</td>\n",
       "      <td>$20 - great condition; played once\\n\\nMeet in ...</td>\n",
       "      <td>Edited Thu Feb 27, 2020 4:35 pm\\nPosted Wed Fe...</td>\n",
       "      <td>7.01</td>\n",
       "    </tr>\n",
       "    <tr>\n",
       "      <td>507</td>\n",
       "      <td>Eight-Minute Empire: Legends</td>\n",
       "      <td>https://boardgamegeek.com/boardgame/142326/eig...</td>\n",
       "      <td>https://boardgamegeek.com/geeklist/198692/item...</td>\n",
       "      <td>811</td>\n",
       "      <td>Eric615</td>\n",
       "      <td>$20 - great condition\\n\\nMeet in Lower East Si...</td>\n",
       "      <td>Posted Thu Feb 27, 2020 4:37 pm\\nSubscribe \\nC...</td>\n",
       "      <td>6.99</td>\n",
       "    </tr>\n",
       "    <tr>\n",
       "      <td>504</td>\n",
       "      <td>Hostage Negotiator</td>\n",
       "      <td>https://boardgamegeek.com/boardgame/134253/hos...</td>\n",
       "      <td>https://boardgamegeek.com/geeklist/198692/item...</td>\n",
       "      <td>948</td>\n",
       "      <td>Eric615</td>\n",
       "      <td>$20 - includes Abductor pack (NIS) and ks upgr...</td>\n",
       "      <td>Posted Thu Feb 27, 2020 3:26 pm\\nSubscribe \\nC...</td>\n",
       "      <td>6.97</td>\n",
       "    </tr>\n",
       "    <tr>\n",
       "      <td>512</td>\n",
       "      <td>Qwixx</td>\n",
       "      <td>https://boardgamegeek.com/boardgame/131260/qwixx</td>\n",
       "      <td>https://boardgamegeek.com/geeklist/198692/item...</td>\n",
       "      <td>743</td>\n",
       "      <td>Eric615</td>\n",
       "      <td>$5 - great condition; opened but never played;...</td>\n",
       "      <td>Posted Thu Feb 27, 2020 5:24 pm\\nSubscribe \\nC...</td>\n",
       "      <td>6.89</td>\n",
       "    </tr>\n",
       "    <tr>\n",
       "      <td>514</td>\n",
       "      <td>Lost Legacy: The Starship</td>\n",
       "      <td>https://boardgamegeek.com/boardgame/158339/los...</td>\n",
       "      <td>https://boardgamegeek.com/geeklist/198692/item...</td>\n",
       "      <td>1575</td>\n",
       "      <td>Eric615</td>\n",
       "      <td>+ Lost Legacy: Flying Garden\\n\\n$10 for the pa...</td>\n",
       "      <td>Posted Thu Feb 27, 2020 5:33 pm\\nSubscribe \\nC...</td>\n",
       "      <td>6.64</td>\n",
       "    </tr>\n",
       "    <tr>\n",
       "      <td>513</td>\n",
       "      <td>The Battle for Hill 218</td>\n",
       "      <td>https://boardgamegeek.com/boardgame/32484/batt...</td>\n",
       "      <td>https://boardgamegeek.com/geeklist/198692/item...</td>\n",
       "      <td>1841</td>\n",
       "      <td>Eric615</td>\n",
       "      <td>$10 - box very slightly worn; cards in perfect...</td>\n",
       "      <td>Posted Thu Feb 27, 2020 5:26 pm\\nSubscribe \\nC...</td>\n",
       "      <td>6.64</td>\n",
       "    </tr>\n",
       "    <tr>\n",
       "      <td>509</td>\n",
       "      <td>Walk the Plank!</td>\n",
       "      <td>https://boardgamegeek.com/boardgame/35505/walk...</td>\n",
       "      <td>https://boardgamegeek.com/geeklist/198692/item...</td>\n",
       "      <td>2055</td>\n",
       "      <td>Eric615</td>\n",
       "      <td>$10 - great condition; opened but never played...</td>\n",
       "      <td>Posted Thu Feb 27, 2020 5:18 pm\\nSubscribe \\nC...</td>\n",
       "      <td>6.60</td>\n",
       "    </tr>\n",
       "    <tr>\n",
       "      <td>510</td>\n",
       "      <td>Tales &amp; Games: The Three Little Pigs</td>\n",
       "      <td>https://boardgamegeek.com/boardgame/135649/tal...</td>\n",
       "      <td>https://boardgamegeek.com/geeklist/198692/item...</td>\n",
       "      <td>2236</td>\n",
       "      <td>Eric615</td>\n",
       "      <td>$10 - great condition; opened but never played...</td>\n",
       "      <td>Posted Thu Feb 27, 2020 5:20 pm\\nSubscribe \\nC...</td>\n",
       "      <td>6.49</td>\n",
       "    </tr>\n",
       "    <tr>\n",
       "      <td>516</td>\n",
       "      <td>Gloom</td>\n",
       "      <td>https://boardgamegeek.com/boardgame/12692/gloom</td>\n",
       "      <td>https://boardgamegeek.com/geeklist/198692/item...</td>\n",
       "      <td>1655</td>\n",
       "      <td>Eric615</td>\n",
       "      <td>$5 - great condition; never played\\n\\nMeet in ...</td>\n",
       "      <td>Posted Thu Feb 27, 2020 5:47 pm\\nSubscribe \\nC...</td>\n",
       "      <td>6.35</td>\n",
       "    </tr>\n",
       "    <tr>\n",
       "      <td>508</td>\n",
       "      <td>Tiny Epic Defenders</td>\n",
       "      <td>https://boardgamegeek.com/boardgame/155708/tin...</td>\n",
       "      <td>https://boardgamegeek.com/geeklist/198692/item...</td>\n",
       "      <td>2296</td>\n",
       "      <td>Eric615</td>\n",
       "      <td>$10 - great shape; played once\\n\\nMeet in Lowe...</td>\n",
       "      <td>Posted Thu Feb 27, 2020 4:41 pm\\nSubscribe \\nC...</td>\n",
       "      <td>6.33</td>\n",
       "    </tr>\n",
       "    <tr>\n",
       "      <td>515</td>\n",
       "      <td>Exploding Kittens</td>\n",
       "      <td>https://boardgamegeek.com/boardgame/172225/exp...</td>\n",
       "      <td>https://boardgamegeek.com/geeklist/198692/item...</td>\n",
       "      <td>3509</td>\n",
       "      <td>Eric615</td>\n",
       "      <td>$5 - great condition; played only a couple o’ ...</td>\n",
       "      <td>Posted Thu Feb 27, 2020 5:43 pm\\nSubscribe \\nC...</td>\n",
       "      <td>5.99</td>\n",
       "    </tr>\n",
       "  </tbody>\n",
       "</table>\n",
       "</div>"
      ],
      "text/plain": [
       "                                     name  \\\n",
       "511                           Star Realms   \n",
       "505                          Black Sonata   \n",
       "503                                Jaipur   \n",
       "474           Sentinels of the Multiverse   \n",
       "517                                Karuba   \n",
       "483                             Zombicide   \n",
       "502                                Friday   \n",
       "485                             Castaways   \n",
       "507          Eight-Minute Empire: Legends   \n",
       "504                    Hostage Negotiator   \n",
       "512                                 Qwixx   \n",
       "514             Lost Legacy: The Starship   \n",
       "513               The Battle for Hill 218   \n",
       "509                       Walk the Plank!   \n",
       "510  Tales & Games: The Three Little Pigs   \n",
       "516                                 Gloom   \n",
       "508                   Tiny Epic Defenders   \n",
       "515                     Exploding Kittens   \n",
       "\n",
       "                                       board_game_link  \\\n",
       "511  https://boardgamegeek.com/boardgame/147020/sta...   \n",
       "505  https://boardgamegeek.com/boardgame/231218/bla...   \n",
       "503   https://boardgamegeek.com/boardgame/54043/jaipur   \n",
       "474  https://boardgamegeek.com/boardgame/102652/sen...   \n",
       "517  https://boardgamegeek.com/boardgame/183251/karuba   \n",
       "483  https://boardgamegeek.com/boardgame/113924/zom...   \n",
       "502   https://boardgamegeek.com/boardgame/43570/friday   \n",
       "485  https://boardgamegeek.com/boardgame/71906/cast...   \n",
       "507  https://boardgamegeek.com/boardgame/142326/eig...   \n",
       "504  https://boardgamegeek.com/boardgame/134253/hos...   \n",
       "512   https://boardgamegeek.com/boardgame/131260/qwixx   \n",
       "514  https://boardgamegeek.com/boardgame/158339/los...   \n",
       "513  https://boardgamegeek.com/boardgame/32484/batt...   \n",
       "509  https://boardgamegeek.com/boardgame/35505/walk...   \n",
       "510  https://boardgamegeek.com/boardgame/135649/tal...   \n",
       "516    https://boardgamegeek.com/boardgame/12692/gloom   \n",
       "508  https://boardgamegeek.com/boardgame/155708/tin...   \n",
       "515  https://boardgamegeek.com/boardgame/172225/exp...   \n",
       "\n",
       "                                    board_game_listing  overall_ranking  \\\n",
       "511  https://boardgamegeek.com/geeklist/198692/item...              100   \n",
       "505  https://boardgamegeek.com/geeklist/198692/item...             1704   \n",
       "503  https://boardgamegeek.com/geeklist/198692/item...              123   \n",
       "474  https://boardgamegeek.com/geeklist/198692/item...              344   \n",
       "517  https://boardgamegeek.com/geeklist/198692/item...              439   \n",
       "483  https://boardgamegeek.com/geeklist/198692/item...              440   \n",
       "502  https://boardgamegeek.com/geeklist/198692/item...              367   \n",
       "485  https://boardgamegeek.com/geeklist/198692/item...             1389   \n",
       "507  https://boardgamegeek.com/geeklist/198692/item...              811   \n",
       "504  https://boardgamegeek.com/geeklist/198692/item...              948   \n",
       "512  https://boardgamegeek.com/geeklist/198692/item...              743   \n",
       "514  https://boardgamegeek.com/geeklist/198692/item...             1575   \n",
       "513  https://boardgamegeek.com/geeklist/198692/item...             1841   \n",
       "509  https://boardgamegeek.com/geeklist/198692/item...             2055   \n",
       "510  https://boardgamegeek.com/geeklist/198692/item...             2236   \n",
       "516  https://boardgamegeek.com/geeklist/198692/item...             1655   \n",
       "508  https://boardgamegeek.com/geeklist/198692/item...             2296   \n",
       "515  https://boardgamegeek.com/geeklist/198692/item...             3509   \n",
       "\n",
       "      seller                                           comments  \\\n",
       "511  Eric615  $10 - NIS; includes additional NIS card pack\\n...   \n",
       "505  Eric615  $20 - great condition; played once\\n\\nMeet in ...   \n",
       "503  Eric615  $15 - great condition; played once\\n\\nMeet in ...   \n",
       "474  Eric615  $20 - great condition; played once\\n\\nMeet in ...   \n",
       "517  Eric615  $20 - great condition\\n\\nMeet in Lower East Si...   \n",
       "483  Eric615  $40 - great condition; played once\\n\\nMeet in ...   \n",
       "502  Eric615  $10 - good shape; played a few times\\n\\nMeet i...   \n",
       "485  Eric615  $20 - great condition; played once\\n\\nMeet in ...   \n",
       "507  Eric615  $20 - great condition\\n\\nMeet in Lower East Si...   \n",
       "504  Eric615  $20 - includes Abductor pack (NIS) and ks upgr...   \n",
       "512  Eric615  $5 - great condition; opened but never played;...   \n",
       "514  Eric615  + Lost Legacy: Flying Garden\\n\\n$10 for the pa...   \n",
       "513  Eric615  $10 - box very slightly worn; cards in perfect...   \n",
       "509  Eric615  $10 - great condition; opened but never played...   \n",
       "510  Eric615  $10 - great condition; opened but never played...   \n",
       "516  Eric615  $5 - great condition; never played\\n\\nMeet in ...   \n",
       "508  Eric615  $10 - great shape; played once\\n\\nMeet in Lowe...   \n",
       "515  Eric615  $5 - great condition; played only a couple o’ ...   \n",
       "\n",
       "                                           last_edited  avg_rating2  \n",
       "511  Edited Thu Feb 27, 2020 6:13 pm\\nPosted Thu Fe...         7.60  \n",
       "505  Edited Thu Feb 27, 2020 4:40 pm\\nPosted Thu Fe...         7.53  \n",
       "503  Posted Thu Feb 27, 2020 3:22 pm\\nSubscribe \\nC...         7.51  \n",
       "474  Edited Thu Feb 27, 2020 4:34 pm\\nPosted Wed Fe...         7.25  \n",
       "517  Posted Thu Feb 27, 2020 8:13 pm\\nSubscribe \\nC...         7.21  \n",
       "483  Edited Thu Feb 27, 2020 4:35 pm\\nPosted Wed Fe...         7.18  \n",
       "502  Posted Thu Feb 27, 2020 3:18 pm\\nSubscribe \\nC...         7.17  \n",
       "485  Edited Thu Feb 27, 2020 4:35 pm\\nPosted Wed Fe...         7.01  \n",
       "507  Posted Thu Feb 27, 2020 4:37 pm\\nSubscribe \\nC...         6.99  \n",
       "504  Posted Thu Feb 27, 2020 3:26 pm\\nSubscribe \\nC...         6.97  \n",
       "512  Posted Thu Feb 27, 2020 5:24 pm\\nSubscribe \\nC...         6.89  \n",
       "514  Posted Thu Feb 27, 2020 5:33 pm\\nSubscribe \\nC...         6.64  \n",
       "513  Posted Thu Feb 27, 2020 5:26 pm\\nSubscribe \\nC...         6.64  \n",
       "509  Posted Thu Feb 27, 2020 5:18 pm\\nSubscribe \\nC...         6.60  \n",
       "510  Posted Thu Feb 27, 2020 5:20 pm\\nSubscribe \\nC...         6.49  \n",
       "516  Posted Thu Feb 27, 2020 5:47 pm\\nSubscribe \\nC...         6.35  \n",
       "508  Posted Thu Feb 27, 2020 4:41 pm\\nSubscribe \\nC...         6.33  \n",
       "515  Posted Thu Feb 27, 2020 5:43 pm\\nSubscribe \\nC...         5.99  "
      ]
     },
     "execution_count": 430,
     "metadata": {},
     "output_type": "execute_result"
    }
   ],
   "source": [
    "eric.sort_values(by=['avg_rating2'], ascending=False)"
   ]
  },
  {
   "cell_type": "code",
   "execution_count": 420,
   "metadata": {
    "scrolled": true
   },
   "outputs": [
    {
     "data": {
      "text/html": [
       "<style  type=\"text/css\" >\n",
       "    #T_e0efc498_5a27_11ea_bf0f_acde48001122row0_col2 {\n",
       "            width:  300px;\n",
       "        }    #T_e0efc498_5a27_11ea_bf0f_acde48001122row1_col2 {\n",
       "            width:  300px;\n",
       "        }    #T_e0efc498_5a27_11ea_bf0f_acde48001122row2_col2 {\n",
       "            width:  300px;\n",
       "        }    #T_e0efc498_5a27_11ea_bf0f_acde48001122row3_col2 {\n",
       "            width:  300px;\n",
       "        }    #T_e0efc498_5a27_11ea_bf0f_acde48001122row4_col2 {\n",
       "            width:  300px;\n",
       "        }    #T_e0efc498_5a27_11ea_bf0f_acde48001122row5_col2 {\n",
       "            width:  300px;\n",
       "        }    #T_e0efc498_5a27_11ea_bf0f_acde48001122row6_col2 {\n",
       "            width:  300px;\n",
       "        }    #T_e0efc498_5a27_11ea_bf0f_acde48001122row7_col2 {\n",
       "            width:  300px;\n",
       "        }    #T_e0efc498_5a27_11ea_bf0f_acde48001122row8_col2 {\n",
       "            width:  300px;\n",
       "        }    #T_e0efc498_5a27_11ea_bf0f_acde48001122row9_col2 {\n",
       "            width:  300px;\n",
       "        }    #T_e0efc498_5a27_11ea_bf0f_acde48001122row10_col2 {\n",
       "            width:  300px;\n",
       "        }    #T_e0efc498_5a27_11ea_bf0f_acde48001122row11_col2 {\n",
       "            width:  300px;\n",
       "        }    #T_e0efc498_5a27_11ea_bf0f_acde48001122row12_col2 {\n",
       "            width:  300px;\n",
       "        }    #T_e0efc498_5a27_11ea_bf0f_acde48001122row13_col2 {\n",
       "            width:  300px;\n",
       "        }    #T_e0efc498_5a27_11ea_bf0f_acde48001122row14_col2 {\n",
       "            width:  300px;\n",
       "        }    #T_e0efc498_5a27_11ea_bf0f_acde48001122row15_col2 {\n",
       "            width:  300px;\n",
       "        }    #T_e0efc498_5a27_11ea_bf0f_acde48001122row16_col2 {\n",
       "            width:  300px;\n",
       "        }    #T_e0efc498_5a27_11ea_bf0f_acde48001122row17_col2 {\n",
       "            width:  300px;\n",
       "        }</style><table id=\"T_e0efc498_5a27_11ea_bf0f_acde48001122\" ><thead>    <tr>        <th class=\"blank level0\" ></th>        <th class=\"col_heading level0 col0\" >name</th>        <th class=\"col_heading level0 col1\" >board_game_link</th>        <th class=\"col_heading level0 col2\" >board_game_listing</th>        <th class=\"col_heading level0 col3\" >overall_ranking</th>        <th class=\"col_heading level0 col4\" >seller</th>        <th class=\"col_heading level0 col5\" >comments</th>        <th class=\"col_heading level0 col6\" >last_edited</th>        <th class=\"col_heading level0 col7\" >avg_rating2</th>    </tr></thead><tbody>\n",
       "                <tr>\n",
       "                        <th id=\"T_e0efc498_5a27_11ea_bf0f_acde48001122level0_row0\" class=\"row_heading level0 row0\" >511</th>\n",
       "                        <td id=\"T_e0efc498_5a27_11ea_bf0f_acde48001122row0_col0\" class=\"data row0 col0\" >Star Realms</td>\n",
       "                        <td id=\"T_e0efc498_5a27_11ea_bf0f_acde48001122row0_col1\" class=\"data row0 col1\" >https://boardgamegeek.com/boardgame/147020/star-realms</td>\n",
       "                        <td id=\"T_e0efc498_5a27_11ea_bf0f_acde48001122row0_col2\" class=\"data row0 col2\" >https://boardgamegeek.com/geeklist/198692/item/7564067#item7564067</td>\n",
       "                        <td id=\"T_e0efc498_5a27_11ea_bf0f_acde48001122row0_col3\" class=\"data row0 col3\" >100</td>\n",
       "                        <td id=\"T_e0efc498_5a27_11ea_bf0f_acde48001122row0_col4\" class=\"data row0 col4\" >Eric615</td>\n",
       "                        <td id=\"T_e0efc498_5a27_11ea_bf0f_acde48001122row0_col5\" class=\"data row0 col5\" >$10 - NIS; includes additional NIS card pack\n",
       "\n",
       "Meet in Lower East Side, right off F train</td>\n",
       "                        <td id=\"T_e0efc498_5a27_11ea_bf0f_acde48001122row0_col6\" class=\"data row0 col6\" >Edited Thu Feb 27, 2020 6:13 pm\n",
       "Posted Thu Feb 27, 2020 5:22 pm\n",
       "Subscribe \n",
       "Comment Die Rolls</td>\n",
       "                        <td id=\"T_e0efc498_5a27_11ea_bf0f_acde48001122row0_col7\" class=\"data row0 col7\" >7.6</td>\n",
       "            </tr>\n",
       "            <tr>\n",
       "                        <th id=\"T_e0efc498_5a27_11ea_bf0f_acde48001122level0_row1\" class=\"row_heading level0 row1\" >503</th>\n",
       "                        <td id=\"T_e0efc498_5a27_11ea_bf0f_acde48001122row1_col0\" class=\"data row1 col0\" >Jaipur</td>\n",
       "                        <td id=\"T_e0efc498_5a27_11ea_bf0f_acde48001122row1_col1\" class=\"data row1 col1\" >https://boardgamegeek.com/boardgame/54043/jaipur</td>\n",
       "                        <td id=\"T_e0efc498_5a27_11ea_bf0f_acde48001122row1_col2\" class=\"data row1 col2\" >https://boardgamegeek.com/geeklist/198692/item/7563924#item7563924</td>\n",
       "                        <td id=\"T_e0efc498_5a27_11ea_bf0f_acde48001122row1_col3\" class=\"data row1 col3\" >123</td>\n",
       "                        <td id=\"T_e0efc498_5a27_11ea_bf0f_acde48001122row1_col4\" class=\"data row1 col4\" >Eric615</td>\n",
       "                        <td id=\"T_e0efc498_5a27_11ea_bf0f_acde48001122row1_col5\" class=\"data row1 col5\" >$15 - great condition; played once\n",
       "\n",
       "Meet in Lower East Side, right off F train</td>\n",
       "                        <td id=\"T_e0efc498_5a27_11ea_bf0f_acde48001122row1_col6\" class=\"data row1 col6\" >Posted Thu Feb 27, 2020 3:22 pm\n",
       "Subscribe \n",
       "Comment Die Rolls</td>\n",
       "                        <td id=\"T_e0efc498_5a27_11ea_bf0f_acde48001122row1_col7\" class=\"data row1 col7\" >7.51</td>\n",
       "            </tr>\n",
       "            <tr>\n",
       "                        <th id=\"T_e0efc498_5a27_11ea_bf0f_acde48001122level0_row2\" class=\"row_heading level0 row2\" >474</th>\n",
       "                        <td id=\"T_e0efc498_5a27_11ea_bf0f_acde48001122row2_col0\" class=\"data row2 col0\" >Sentinels of the Multiverse</td>\n",
       "                        <td id=\"T_e0efc498_5a27_11ea_bf0f_acde48001122row2_col1\" class=\"data row2 col1\" >https://boardgamegeek.com/boardgame/102652/sentinels-multiverse</td>\n",
       "                        <td id=\"T_e0efc498_5a27_11ea_bf0f_acde48001122row2_col2\" class=\"data row2 col2\" >https://boardgamegeek.com/geeklist/198692/item/7562537#item7562537</td>\n",
       "                        <td id=\"T_e0efc498_5a27_11ea_bf0f_acde48001122row2_col3\" class=\"data row2 col3\" >344</td>\n",
       "                        <td id=\"T_e0efc498_5a27_11ea_bf0f_acde48001122row2_col4\" class=\"data row2 col4\" >Eric615</td>\n",
       "                        <td id=\"T_e0efc498_5a27_11ea_bf0f_acde48001122row2_col5\" class=\"data row2 col5\" >$20 - great condition; played once\n",
       "\n",
       "Meet in Lower East Side, right off F train</td>\n",
       "                        <td id=\"T_e0efc498_5a27_11ea_bf0f_acde48001122row2_col6\" class=\"data row2 col6\" >Edited Thu Feb 27, 2020 4:34 pm\n",
       "Posted Wed Feb 26, 2020 3:09 pm\n",
       "Subscribe \n",
       "Comment Die Rolls</td>\n",
       "                        <td id=\"T_e0efc498_5a27_11ea_bf0f_acde48001122row2_col7\" class=\"data row2 col7\" >7.25</td>\n",
       "            </tr>\n",
       "            <tr>\n",
       "                        <th id=\"T_e0efc498_5a27_11ea_bf0f_acde48001122level0_row3\" class=\"row_heading level0 row3\" >502</th>\n",
       "                        <td id=\"T_e0efc498_5a27_11ea_bf0f_acde48001122row3_col0\" class=\"data row3 col0\" >Friday</td>\n",
       "                        <td id=\"T_e0efc498_5a27_11ea_bf0f_acde48001122row3_col1\" class=\"data row3 col1\" >https://boardgamegeek.com/boardgame/43570/friday</td>\n",
       "                        <td id=\"T_e0efc498_5a27_11ea_bf0f_acde48001122row3_col2\" class=\"data row3 col2\" >https://boardgamegeek.com/geeklist/198692/item/7563915#item7563915</td>\n",
       "                        <td id=\"T_e0efc498_5a27_11ea_bf0f_acde48001122row3_col3\" class=\"data row3 col3\" >367</td>\n",
       "                        <td id=\"T_e0efc498_5a27_11ea_bf0f_acde48001122row3_col4\" class=\"data row3 col4\" >Eric615</td>\n",
       "                        <td id=\"T_e0efc498_5a27_11ea_bf0f_acde48001122row3_col5\" class=\"data row3 col5\" >$10 - good shape; played a few times\n",
       "\n",
       "Meet in Lower East Side, right off F train</td>\n",
       "                        <td id=\"T_e0efc498_5a27_11ea_bf0f_acde48001122row3_col6\" class=\"data row3 col6\" >Posted Thu Feb 27, 2020 3:18 pm\n",
       "Subscribe \n",
       "Comment Die Rolls</td>\n",
       "                        <td id=\"T_e0efc498_5a27_11ea_bf0f_acde48001122row3_col7\" class=\"data row3 col7\" >7.17</td>\n",
       "            </tr>\n",
       "            <tr>\n",
       "                        <th id=\"T_e0efc498_5a27_11ea_bf0f_acde48001122level0_row4\" class=\"row_heading level0 row4\" >517</th>\n",
       "                        <td id=\"T_e0efc498_5a27_11ea_bf0f_acde48001122row4_col0\" class=\"data row4 col0\" >Karuba</td>\n",
       "                        <td id=\"T_e0efc498_5a27_11ea_bf0f_acde48001122row4_col1\" class=\"data row4 col1\" >https://boardgamegeek.com/boardgame/183251/karuba</td>\n",
       "                        <td id=\"T_e0efc498_5a27_11ea_bf0f_acde48001122row4_col2\" class=\"data row4 col2\" >https://boardgamegeek.com/geeklist/198692/item/7564237#item7564237</td>\n",
       "                        <td id=\"T_e0efc498_5a27_11ea_bf0f_acde48001122row4_col3\" class=\"data row4 col3\" >439</td>\n",
       "                        <td id=\"T_e0efc498_5a27_11ea_bf0f_acde48001122row4_col4\" class=\"data row4 col4\" >Eric615</td>\n",
       "                        <td id=\"T_e0efc498_5a27_11ea_bf0f_acde48001122row4_col5\" class=\"data row4 col5\" >$20 - great condition\n",
       "\n",
       "Meet in Lower East Side, right off F train</td>\n",
       "                        <td id=\"T_e0efc498_5a27_11ea_bf0f_acde48001122row4_col6\" class=\"data row4 col6\" >Posted Thu Feb 27, 2020 8:13 pm\n",
       "Subscribe \n",
       "Comment Die Rolls</td>\n",
       "                        <td id=\"T_e0efc498_5a27_11ea_bf0f_acde48001122row4_col7\" class=\"data row4 col7\" >7.21</td>\n",
       "            </tr>\n",
       "            <tr>\n",
       "                        <th id=\"T_e0efc498_5a27_11ea_bf0f_acde48001122level0_row5\" class=\"row_heading level0 row5\" >483</th>\n",
       "                        <td id=\"T_e0efc498_5a27_11ea_bf0f_acde48001122row5_col0\" class=\"data row5 col0\" >Zombicide</td>\n",
       "                        <td id=\"T_e0efc498_5a27_11ea_bf0f_acde48001122row5_col1\" class=\"data row5 col1\" >https://boardgamegeek.com/boardgame/113924/zombicide</td>\n",
       "                        <td id=\"T_e0efc498_5a27_11ea_bf0f_acde48001122row5_col2\" class=\"data row5 col2\" >https://boardgamegeek.com/geeklist/198692/item/7562636#item7562636</td>\n",
       "                        <td id=\"T_e0efc498_5a27_11ea_bf0f_acde48001122row5_col3\" class=\"data row5 col3\" >440</td>\n",
       "                        <td id=\"T_e0efc498_5a27_11ea_bf0f_acde48001122row5_col4\" class=\"data row5 col4\" >Eric615</td>\n",
       "                        <td id=\"T_e0efc498_5a27_11ea_bf0f_acde48001122row5_col5\" class=\"data row5 col5\" >$40 - great condition; played once\n",
       "\n",
       "Meet in Lower East Side, right off F train</td>\n",
       "                        <td id=\"T_e0efc498_5a27_11ea_bf0f_acde48001122row5_col6\" class=\"data row5 col6\" >Edited Thu Feb 27, 2020 4:35 pm\n",
       "Posted Wed Feb 26, 2020 3:57 pm\n",
       "Subscribe \n",
       "Comment Die Rolls</td>\n",
       "                        <td id=\"T_e0efc498_5a27_11ea_bf0f_acde48001122row5_col7\" class=\"data row5 col7\" >7.18</td>\n",
       "            </tr>\n",
       "            <tr>\n",
       "                        <th id=\"T_e0efc498_5a27_11ea_bf0f_acde48001122level0_row6\" class=\"row_heading level0 row6\" >512</th>\n",
       "                        <td id=\"T_e0efc498_5a27_11ea_bf0f_acde48001122row6_col0\" class=\"data row6 col0\" >Qwixx</td>\n",
       "                        <td id=\"T_e0efc498_5a27_11ea_bf0f_acde48001122row6_col1\" class=\"data row6 col1\" >https://boardgamegeek.com/boardgame/131260/qwixx</td>\n",
       "                        <td id=\"T_e0efc498_5a27_11ea_bf0f_acde48001122row6_col2\" class=\"data row6 col2\" >https://boardgamegeek.com/geeklist/198692/item/7564068#item7564068</td>\n",
       "                        <td id=\"T_e0efc498_5a27_11ea_bf0f_acde48001122row6_col3\" class=\"data row6 col3\" >743</td>\n",
       "                        <td id=\"T_e0efc498_5a27_11ea_bf0f_acde48001122row6_col4\" class=\"data row6 col4\" >Eric615</td>\n",
       "                        <td id=\"T_e0efc498_5a27_11ea_bf0f_acde48001122row6_col5\" class=\"data row6 col5\" >$5 - great condition; opened but never played; score-pad still in shrink\n",
       "\n",
       "Meet in Lower East Side, right off F train</td>\n",
       "                        <td id=\"T_e0efc498_5a27_11ea_bf0f_acde48001122row6_col6\" class=\"data row6 col6\" >Posted Thu Feb 27, 2020 5:24 pm\n",
       "Subscribe \n",
       "Comment Die Rolls</td>\n",
       "                        <td id=\"T_e0efc498_5a27_11ea_bf0f_acde48001122row6_col7\" class=\"data row6 col7\" >6.89</td>\n",
       "            </tr>\n",
       "            <tr>\n",
       "                        <th id=\"T_e0efc498_5a27_11ea_bf0f_acde48001122level0_row7\" class=\"row_heading level0 row7\" >507</th>\n",
       "                        <td id=\"T_e0efc498_5a27_11ea_bf0f_acde48001122row7_col0\" class=\"data row7 col0\" >Eight-Minute Empire: Legends</td>\n",
       "                        <td id=\"T_e0efc498_5a27_11ea_bf0f_acde48001122row7_col1\" class=\"data row7 col1\" >https://boardgamegeek.com/boardgame/142326/eight-minute-empire-legends</td>\n",
       "                        <td id=\"T_e0efc498_5a27_11ea_bf0f_acde48001122row7_col2\" class=\"data row7 col2\" >https://boardgamegeek.com/geeklist/198692/item/7564024#item7564024</td>\n",
       "                        <td id=\"T_e0efc498_5a27_11ea_bf0f_acde48001122row7_col3\" class=\"data row7 col3\" >811</td>\n",
       "                        <td id=\"T_e0efc498_5a27_11ea_bf0f_acde48001122row7_col4\" class=\"data row7 col4\" >Eric615</td>\n",
       "                        <td id=\"T_e0efc498_5a27_11ea_bf0f_acde48001122row7_col5\" class=\"data row7 col5\" >$20 - great condition\n",
       "\n",
       "Meet in Lower East Side, right off F train</td>\n",
       "                        <td id=\"T_e0efc498_5a27_11ea_bf0f_acde48001122row7_col6\" class=\"data row7 col6\" >Posted Thu Feb 27, 2020 4:37 pm\n",
       "Subscribe \n",
       "Comment Die Rolls</td>\n",
       "                        <td id=\"T_e0efc498_5a27_11ea_bf0f_acde48001122row7_col7\" class=\"data row7 col7\" >6.99</td>\n",
       "            </tr>\n",
       "            <tr>\n",
       "                        <th id=\"T_e0efc498_5a27_11ea_bf0f_acde48001122level0_row8\" class=\"row_heading level0 row8\" >504</th>\n",
       "                        <td id=\"T_e0efc498_5a27_11ea_bf0f_acde48001122row8_col0\" class=\"data row8 col0\" >Hostage Negotiator</td>\n",
       "                        <td id=\"T_e0efc498_5a27_11ea_bf0f_acde48001122row8_col1\" class=\"data row8 col1\" >https://boardgamegeek.com/boardgame/134253/hostage-negotiator</td>\n",
       "                        <td id=\"T_e0efc498_5a27_11ea_bf0f_acde48001122row8_col2\" class=\"data row8 col2\" >https://boardgamegeek.com/geeklist/198692/item/7563927#item7563927</td>\n",
       "                        <td id=\"T_e0efc498_5a27_11ea_bf0f_acde48001122row8_col3\" class=\"data row8 col3\" >948</td>\n",
       "                        <td id=\"T_e0efc498_5a27_11ea_bf0f_acde48001122row8_col4\" class=\"data row8 col4\" >Eric615</td>\n",
       "                        <td id=\"T_e0efc498_5a27_11ea_bf0f_acde48001122row8_col5\" class=\"data row8 col5\" >$20 - includes Abductor pack (NIS) and ks upgrades; played once\n",
       "\n",
       "Meet in Lower East Side, right off F train</td>\n",
       "                        <td id=\"T_e0efc498_5a27_11ea_bf0f_acde48001122row8_col6\" class=\"data row8 col6\" >Posted Thu Feb 27, 2020 3:26 pm\n",
       "Subscribe \n",
       "Comment Die Rolls</td>\n",
       "                        <td id=\"T_e0efc498_5a27_11ea_bf0f_acde48001122row8_col7\" class=\"data row8 col7\" >6.97</td>\n",
       "            </tr>\n",
       "            <tr>\n",
       "                        <th id=\"T_e0efc498_5a27_11ea_bf0f_acde48001122level0_row9\" class=\"row_heading level0 row9\" >485</th>\n",
       "                        <td id=\"T_e0efc498_5a27_11ea_bf0f_acde48001122row9_col0\" class=\"data row9 col0\" >Castaways</td>\n",
       "                        <td id=\"T_e0efc498_5a27_11ea_bf0f_acde48001122row9_col1\" class=\"data row9 col1\" >https://boardgamegeek.com/boardgame/71906/castaways</td>\n",
       "                        <td id=\"T_e0efc498_5a27_11ea_bf0f_acde48001122row9_col2\" class=\"data row9 col2\" >https://boardgamegeek.com/geeklist/198692/item/7562646#item7562646</td>\n",
       "                        <td id=\"T_e0efc498_5a27_11ea_bf0f_acde48001122row9_col3\" class=\"data row9 col3\" >1389</td>\n",
       "                        <td id=\"T_e0efc498_5a27_11ea_bf0f_acde48001122row9_col4\" class=\"data row9 col4\" >Eric615</td>\n",
       "                        <td id=\"T_e0efc498_5a27_11ea_bf0f_acde48001122row9_col5\" class=\"data row9 col5\" >$20 - great condition; played once\n",
       "\n",
       "Meet in Lower East Side, right off F train</td>\n",
       "                        <td id=\"T_e0efc498_5a27_11ea_bf0f_acde48001122row9_col6\" class=\"data row9 col6\" >Edited Thu Feb 27, 2020 4:35 pm\n",
       "Posted Wed Feb 26, 2020 4:04 pm\n",
       "Subscribe \n",
       "Comment Die Rolls</td>\n",
       "                        <td id=\"T_e0efc498_5a27_11ea_bf0f_acde48001122row9_col7\" class=\"data row9 col7\" >7.01</td>\n",
       "            </tr>\n",
       "            <tr>\n",
       "                        <th id=\"T_e0efc498_5a27_11ea_bf0f_acde48001122level0_row10\" class=\"row_heading level0 row10\" >514</th>\n",
       "                        <td id=\"T_e0efc498_5a27_11ea_bf0f_acde48001122row10_col0\" class=\"data row10 col0\" >Lost Legacy: The Starship</td>\n",
       "                        <td id=\"T_e0efc498_5a27_11ea_bf0f_acde48001122row10_col1\" class=\"data row10 col1\" >https://boardgamegeek.com/boardgame/158339/lost-legacy-starship</td>\n",
       "                        <td id=\"T_e0efc498_5a27_11ea_bf0f_acde48001122row10_col2\" class=\"data row10 col2\" >https://boardgamegeek.com/geeklist/198692/item/7564076#item7564076</td>\n",
       "                        <td id=\"T_e0efc498_5a27_11ea_bf0f_acde48001122row10_col3\" class=\"data row10 col3\" >1575</td>\n",
       "                        <td id=\"T_e0efc498_5a27_11ea_bf0f_acde48001122row10_col4\" class=\"data row10 col4\" >Eric615</td>\n",
       "                        <td id=\"T_e0efc498_5a27_11ea_bf0f_acde48001122row10_col5\" class=\"data row10 col5\" >+ Lost Legacy: Flying Garden\n",
       "\n",
       "$10 for the pair - both NIS\n",
       "\n",
       "Meet in Lower East Side, right off F train</td>\n",
       "                        <td id=\"T_e0efc498_5a27_11ea_bf0f_acde48001122row10_col6\" class=\"data row10 col6\" >Posted Thu Feb 27, 2020 5:33 pm\n",
       "Subscribe \n",
       "Comment Die Rolls</td>\n",
       "                        <td id=\"T_e0efc498_5a27_11ea_bf0f_acde48001122row10_col7\" class=\"data row10 col7\" >6.64</td>\n",
       "            </tr>\n",
       "            <tr>\n",
       "                        <th id=\"T_e0efc498_5a27_11ea_bf0f_acde48001122level0_row11\" class=\"row_heading level0 row11\" >516</th>\n",
       "                        <td id=\"T_e0efc498_5a27_11ea_bf0f_acde48001122row11_col0\" class=\"data row11 col0\" >Gloom</td>\n",
       "                        <td id=\"T_e0efc498_5a27_11ea_bf0f_acde48001122row11_col1\" class=\"data row11 col1\" >https://boardgamegeek.com/boardgame/12692/gloom</td>\n",
       "                        <td id=\"T_e0efc498_5a27_11ea_bf0f_acde48001122row11_col2\" class=\"data row11 col2\" >https://boardgamegeek.com/geeklist/198692/item/7564084#item7564084</td>\n",
       "                        <td id=\"T_e0efc498_5a27_11ea_bf0f_acde48001122row11_col3\" class=\"data row11 col3\" >1655</td>\n",
       "                        <td id=\"T_e0efc498_5a27_11ea_bf0f_acde48001122row11_col4\" class=\"data row11 col4\" >Eric615</td>\n",
       "                        <td id=\"T_e0efc498_5a27_11ea_bf0f_acde48001122row11_col5\" class=\"data row11 col5\" >$5 - great condition; never played\n",
       "\n",
       "Meet in Lower East Side, right off F train</td>\n",
       "                        <td id=\"T_e0efc498_5a27_11ea_bf0f_acde48001122row11_col6\" class=\"data row11 col6\" >Posted Thu Feb 27, 2020 5:47 pm\n",
       "Subscribe \n",
       "Comment Die Rolls</td>\n",
       "                        <td id=\"T_e0efc498_5a27_11ea_bf0f_acde48001122row11_col7\" class=\"data row11 col7\" >6.35</td>\n",
       "            </tr>\n",
       "            <tr>\n",
       "                        <th id=\"T_e0efc498_5a27_11ea_bf0f_acde48001122level0_row12\" class=\"row_heading level0 row12\" >505</th>\n",
       "                        <td id=\"T_e0efc498_5a27_11ea_bf0f_acde48001122row12_col0\" class=\"data row12 col0\" >Black Sonata</td>\n",
       "                        <td id=\"T_e0efc498_5a27_11ea_bf0f_acde48001122row12_col1\" class=\"data row12 col1\" >https://boardgamegeek.com/boardgame/231218/black-sonata</td>\n",
       "                        <td id=\"T_e0efc498_5a27_11ea_bf0f_acde48001122row12_col2\" class=\"data row12 col2\" >https://boardgamegeek.com/geeklist/198692/item/7563976#item7563976</td>\n",
       "                        <td id=\"T_e0efc498_5a27_11ea_bf0f_acde48001122row12_col3\" class=\"data row12 col3\" >1704</td>\n",
       "                        <td id=\"T_e0efc498_5a27_11ea_bf0f_acde48001122row12_col4\" class=\"data row12 col4\" >Eric615</td>\n",
       "                        <td id=\"T_e0efc498_5a27_11ea_bf0f_acde48001122row12_col5\" class=\"data row12 col5\" >$20 - great condition; played once\n",
       "\n",
       "Meet in Lower East Side, right off F train</td>\n",
       "                        <td id=\"T_e0efc498_5a27_11ea_bf0f_acde48001122row12_col6\" class=\"data row12 col6\" >Edited Thu Feb 27, 2020 4:40 pm\n",
       "Posted Thu Feb 27, 2020 4:14 pm\n",
       "Subscribe \n",
       "Comment Die Rolls</td>\n",
       "                        <td id=\"T_e0efc498_5a27_11ea_bf0f_acde48001122row12_col7\" class=\"data row12 col7\" >7.53</td>\n",
       "            </tr>\n",
       "            <tr>\n",
       "                        <th id=\"T_e0efc498_5a27_11ea_bf0f_acde48001122level0_row13\" class=\"row_heading level0 row13\" >513</th>\n",
       "                        <td id=\"T_e0efc498_5a27_11ea_bf0f_acde48001122row13_col0\" class=\"data row13 col0\" >The Battle for Hill 218</td>\n",
       "                        <td id=\"T_e0efc498_5a27_11ea_bf0f_acde48001122row13_col1\" class=\"data row13 col1\" >https://boardgamegeek.com/boardgame/32484/battle-hill-218</td>\n",
       "                        <td id=\"T_e0efc498_5a27_11ea_bf0f_acde48001122row13_col2\" class=\"data row13 col2\" >https://boardgamegeek.com/geeklist/198692/item/7564070#item7564070</td>\n",
       "                        <td id=\"T_e0efc498_5a27_11ea_bf0f_acde48001122row13_col3\" class=\"data row13 col3\" >1841</td>\n",
       "                        <td id=\"T_e0efc498_5a27_11ea_bf0f_acde48001122row13_col4\" class=\"data row13 col4\" >Eric615</td>\n",
       "                        <td id=\"T_e0efc498_5a27_11ea_bf0f_acde48001122row13_col5\" class=\"data row13 col5\" >$10 - box very slightly worn; cards in perfect condition\n",
       "\n",
       "Meet in Lower East Side, right off F train</td>\n",
       "                        <td id=\"T_e0efc498_5a27_11ea_bf0f_acde48001122row13_col6\" class=\"data row13 col6\" >Posted Thu Feb 27, 2020 5:26 pm\n",
       "Subscribe \n",
       "Comment Die Rolls</td>\n",
       "                        <td id=\"T_e0efc498_5a27_11ea_bf0f_acde48001122row13_col7\" class=\"data row13 col7\" >6.64</td>\n",
       "            </tr>\n",
       "            <tr>\n",
       "                        <th id=\"T_e0efc498_5a27_11ea_bf0f_acde48001122level0_row14\" class=\"row_heading level0 row14\" >509</th>\n",
       "                        <td id=\"T_e0efc498_5a27_11ea_bf0f_acde48001122row14_col0\" class=\"data row14 col0\" >Walk the Plank!</td>\n",
       "                        <td id=\"T_e0efc498_5a27_11ea_bf0f_acde48001122row14_col1\" class=\"data row14 col1\" >https://boardgamegeek.com/boardgame/35505/walk-plank</td>\n",
       "                        <td id=\"T_e0efc498_5a27_11ea_bf0f_acde48001122row14_col2\" class=\"data row14 col2\" >https://boardgamegeek.com/geeklist/198692/item/7564064#item7564064</td>\n",
       "                        <td id=\"T_e0efc498_5a27_11ea_bf0f_acde48001122row14_col3\" class=\"data row14 col3\" >2055</td>\n",
       "                        <td id=\"T_e0efc498_5a27_11ea_bf0f_acde48001122row14_col4\" class=\"data row14 col4\" >Eric615</td>\n",
       "                        <td id=\"T_e0efc498_5a27_11ea_bf0f_acde48001122row14_col5\" class=\"data row14 col5\" >$10 - great condition; opened but never played\n",
       "\n",
       "Meet in Lower East Side, right off F train</td>\n",
       "                        <td id=\"T_e0efc498_5a27_11ea_bf0f_acde48001122row14_col6\" class=\"data row14 col6\" >Posted Thu Feb 27, 2020 5:18 pm\n",
       "Subscribe \n",
       "Comment Die Rolls</td>\n",
       "                        <td id=\"T_e0efc498_5a27_11ea_bf0f_acde48001122row14_col7\" class=\"data row14 col7\" >6.6</td>\n",
       "            </tr>\n",
       "            <tr>\n",
       "                        <th id=\"T_e0efc498_5a27_11ea_bf0f_acde48001122level0_row15\" class=\"row_heading level0 row15\" >510</th>\n",
       "                        <td id=\"T_e0efc498_5a27_11ea_bf0f_acde48001122row15_col0\" class=\"data row15 col0\" >Tales & Games: The Three Little Pigs</td>\n",
       "                        <td id=\"T_e0efc498_5a27_11ea_bf0f_acde48001122row15_col1\" class=\"data row15 col1\" >https://boardgamegeek.com/boardgame/135649/tales-games-three-little-pigs</td>\n",
       "                        <td id=\"T_e0efc498_5a27_11ea_bf0f_acde48001122row15_col2\" class=\"data row15 col2\" >https://boardgamegeek.com/geeklist/198692/item/7564066#item7564066</td>\n",
       "                        <td id=\"T_e0efc498_5a27_11ea_bf0f_acde48001122row15_col3\" class=\"data row15 col3\" >2236</td>\n",
       "                        <td id=\"T_e0efc498_5a27_11ea_bf0f_acde48001122row15_col4\" class=\"data row15 col4\" >Eric615</td>\n",
       "                        <td id=\"T_e0efc498_5a27_11ea_bf0f_acde48001122row15_col5\" class=\"data row15 col5\" >$10 - great condition; opened but never played\n",
       "\n",
       "Meet in Lower East Side, right off F train</td>\n",
       "                        <td id=\"T_e0efc498_5a27_11ea_bf0f_acde48001122row15_col6\" class=\"data row15 col6\" >Posted Thu Feb 27, 2020 5:20 pm\n",
       "Subscribe \n",
       "Comment Die Rolls</td>\n",
       "                        <td id=\"T_e0efc498_5a27_11ea_bf0f_acde48001122row15_col7\" class=\"data row15 col7\" >6.49</td>\n",
       "            </tr>\n",
       "            <tr>\n",
       "                        <th id=\"T_e0efc498_5a27_11ea_bf0f_acde48001122level0_row16\" class=\"row_heading level0 row16\" >508</th>\n",
       "                        <td id=\"T_e0efc498_5a27_11ea_bf0f_acde48001122row16_col0\" class=\"data row16 col0\" >Tiny Epic Defenders</td>\n",
       "                        <td id=\"T_e0efc498_5a27_11ea_bf0f_acde48001122row16_col1\" class=\"data row16 col1\" >https://boardgamegeek.com/boardgame/155708/tiny-epic-defenders</td>\n",
       "                        <td id=\"T_e0efc498_5a27_11ea_bf0f_acde48001122row16_col2\" class=\"data row16 col2\" >https://boardgamegeek.com/geeklist/198692/item/7564030#item7564030</td>\n",
       "                        <td id=\"T_e0efc498_5a27_11ea_bf0f_acde48001122row16_col3\" class=\"data row16 col3\" >2296</td>\n",
       "                        <td id=\"T_e0efc498_5a27_11ea_bf0f_acde48001122row16_col4\" class=\"data row16 col4\" >Eric615</td>\n",
       "                        <td id=\"T_e0efc498_5a27_11ea_bf0f_acde48001122row16_col5\" class=\"data row16 col5\" >$10 - great shape; played once\n",
       "\n",
       "Meet in Lower East Side, right off F train</td>\n",
       "                        <td id=\"T_e0efc498_5a27_11ea_bf0f_acde48001122row16_col6\" class=\"data row16 col6\" >Posted Thu Feb 27, 2020 4:41 pm\n",
       "Subscribe \n",
       "Comment Die Rolls</td>\n",
       "                        <td id=\"T_e0efc498_5a27_11ea_bf0f_acde48001122row16_col7\" class=\"data row16 col7\" >6.33</td>\n",
       "            </tr>\n",
       "            <tr>\n",
       "                        <th id=\"T_e0efc498_5a27_11ea_bf0f_acde48001122level0_row17\" class=\"row_heading level0 row17\" >515</th>\n",
       "                        <td id=\"T_e0efc498_5a27_11ea_bf0f_acde48001122row17_col0\" class=\"data row17 col0\" >Exploding Kittens</td>\n",
       "                        <td id=\"T_e0efc498_5a27_11ea_bf0f_acde48001122row17_col1\" class=\"data row17 col1\" >https://boardgamegeek.com/boardgame/172225/exploding-kittens</td>\n",
       "                        <td id=\"T_e0efc498_5a27_11ea_bf0f_acde48001122row17_col2\" class=\"data row17 col2\" >https://boardgamegeek.com/geeklist/198692/item/7564082#item7564082</td>\n",
       "                        <td id=\"T_e0efc498_5a27_11ea_bf0f_acde48001122row17_col3\" class=\"data row17 col3\" >3509</td>\n",
       "                        <td id=\"T_e0efc498_5a27_11ea_bf0f_acde48001122row17_col4\" class=\"data row17 col4\" >Eric615</td>\n",
       "                        <td id=\"T_e0efc498_5a27_11ea_bf0f_acde48001122row17_col5\" class=\"data row17 col5\" >$5 - great condition; played only a couple o’ times\n",
       "\n",
       "Meet in Lower East Side, right off F train</td>\n",
       "                        <td id=\"T_e0efc498_5a27_11ea_bf0f_acde48001122row17_col6\" class=\"data row17 col6\" >Posted Thu Feb 27, 2020 5:43 pm\n",
       "Subscribe \n",
       "Comment Die Rolls</td>\n",
       "                        <td id=\"T_e0efc498_5a27_11ea_bf0f_acde48001122row17_col7\" class=\"data row17 col7\" >5.99</td>\n",
       "            </tr>\n",
       "    </tbody></table>"
      ],
      "text/plain": [
       "<pandas.io.formats.style.Styler at 0x1205c09d0>"
      ]
     },
     "execution_count": 420,
     "metadata": {},
     "output_type": "execute_result"
    }
   ],
   "source": [
    "eric.style.set_properties(subset=['board_game_listing'], **{'width': '300px'})\n"
   ]
  },
  {
   "cell_type": "code",
   "execution_count": null,
   "metadata": {},
   "outputs": [],
   "source": [
    "\n"
   ]
  },
  {
   "cell_type": "code",
   "execution_count": null,
   "metadata": {},
   "outputs": [],
   "source": []
  },
  {
   "cell_type": "code",
   "execution_count": null,
   "metadata": {},
   "outputs": [],
   "source": []
  },
  {
   "cell_type": "code",
   "execution_count": null,
   "metadata": {},
   "outputs": [],
   "source": []
  },
  {
   "cell_type": "code",
   "execution_count": null,
   "metadata": {},
   "outputs": [],
   "source": []
  },
  {
   "cell_type": "code",
   "execution_count": 400,
   "metadata": {},
   "outputs": [],
   "source": [
    "top_games = df[['name','seller','board_game_listing']]"
   ]
  },
  {
   "cell_type": "code",
   "execution_count": 401,
   "metadata": {},
   "outputs": [
    {
     "data": {
      "text/html": [
       "<div>\n",
       "<style scoped>\n",
       "    .dataframe tbody tr th:only-of-type {\n",
       "        vertical-align: middle;\n",
       "    }\n",
       "\n",
       "    .dataframe tbody tr th {\n",
       "        vertical-align: top;\n",
       "    }\n",
       "\n",
       "    .dataframe thead th {\n",
       "        text-align: right;\n",
       "    }\n",
       "</style>\n",
       "<table border=\"1\" class=\"dataframe\">\n",
       "  <thead>\n",
       "    <tr style=\"text-align: right;\">\n",
       "      <th></th>\n",
       "      <th>name</th>\n",
       "      <th>seller</th>\n",
       "      <th>board_game_listing</th>\n",
       "    </tr>\n",
       "  </thead>\n",
       "  <tbody>\n",
       "    <tr>\n",
       "      <td>3</td>\n",
       "      <td>Gloomhaven</td>\n",
       "      <td>yetiboy</td>\n",
       "      <td>https://boardgamegeek.com/geeklist/198692/item...</td>\n",
       "    </tr>\n",
       "    <tr>\n",
       "      <td>4</td>\n",
       "      <td>Zombies!!!</td>\n",
       "      <td>horsethiefbandit</td>\n",
       "      <td>https://boardgamegeek.com/geeklist/198692/item...</td>\n",
       "    </tr>\n",
       "    <tr>\n",
       "      <td>5</td>\n",
       "      <td>Dead Man's Cabal</td>\n",
       "      <td>brendan126</td>\n",
       "      <td>https://boardgamegeek.com/geeklist/198692/item...</td>\n",
       "    </tr>\n",
       "    <tr>\n",
       "      <td>6</td>\n",
       "      <td>Arraial</td>\n",
       "      <td>brendan126</td>\n",
       "      <td>https://boardgamegeek.com/geeklist/198692/item...</td>\n",
       "    </tr>\n",
       "    <tr>\n",
       "      <td>8</td>\n",
       "      <td>Flash Point: Fire Rescue</td>\n",
       "      <td>Messier104</td>\n",
       "      <td>https://boardgamegeek.com/geeklist/198692/item...</td>\n",
       "    </tr>\n",
       "    <tr>\n",
       "      <td>...</td>\n",
       "      <td>...</td>\n",
       "      <td>...</td>\n",
       "      <td>...</td>\n",
       "    </tr>\n",
       "    <tr>\n",
       "      <td>513</td>\n",
       "      <td>The Battle for Hill 218</td>\n",
       "      <td>Eric615</td>\n",
       "      <td>https://boardgamegeek.com/geeklist/198692/item...</td>\n",
       "    </tr>\n",
       "    <tr>\n",
       "      <td>514</td>\n",
       "      <td>Lost Legacy: The Starship</td>\n",
       "      <td>Eric615</td>\n",
       "      <td>https://boardgamegeek.com/geeklist/198692/item...</td>\n",
       "    </tr>\n",
       "    <tr>\n",
       "      <td>515</td>\n",
       "      <td>Exploding Kittens</td>\n",
       "      <td>Eric615</td>\n",
       "      <td>https://boardgamegeek.com/geeklist/198692/item...</td>\n",
       "    </tr>\n",
       "    <tr>\n",
       "      <td>516</td>\n",
       "      <td>Gloom</td>\n",
       "      <td>Eric615</td>\n",
       "      <td>https://boardgamegeek.com/geeklist/198692/item...</td>\n",
       "    </tr>\n",
       "    <tr>\n",
       "      <td>517</td>\n",
       "      <td>Karuba</td>\n",
       "      <td>Eric615</td>\n",
       "      <td>https://boardgamegeek.com/geeklist/198692/item...</td>\n",
       "    </tr>\n",
       "  </tbody>\n",
       "</table>\n",
       "<p>471 rows × 3 columns</p>\n",
       "</div>"
      ],
      "text/plain": [
       "                          name            seller  \\\n",
       "3                   Gloomhaven           yetiboy   \n",
       "4                   Zombies!!!  horsethiefbandit   \n",
       "5             Dead Man's Cabal        brendan126   \n",
       "6                      Arraial        brendan126   \n",
       "8     Flash Point: Fire Rescue        Messier104   \n",
       "..                         ...               ...   \n",
       "513    The Battle for Hill 218           Eric615   \n",
       "514  Lost Legacy: The Starship           Eric615   \n",
       "515          Exploding Kittens           Eric615   \n",
       "516                      Gloom           Eric615   \n",
       "517                     Karuba           Eric615   \n",
       "\n",
       "                                    board_game_listing  \n",
       "3    https://boardgamegeek.com/geeklist/198692/item...  \n",
       "4    https://boardgamegeek.com/geeklist/198692/item...  \n",
       "5    https://boardgamegeek.com/geeklist/198692/item...  \n",
       "6    https://boardgamegeek.com/geeklist/198692/item...  \n",
       "8    https://boardgamegeek.com/geeklist/198692/item...  \n",
       "..                                                 ...  \n",
       "513  https://boardgamegeek.com/geeklist/198692/item...  \n",
       "514  https://boardgamegeek.com/geeklist/198692/item...  \n",
       "515  https://boardgamegeek.com/geeklist/198692/item...  \n",
       "516  https://boardgamegeek.com/geeklist/198692/item...  \n",
       "517  https://boardgamegeek.com/geeklist/198692/item...  \n",
       "\n",
       "[471 rows x 3 columns]"
      ]
     },
     "execution_count": 401,
     "metadata": {},
     "output_type": "execute_result"
    }
   ],
   "source": [
    "top_games"
   ]
  },
  {
   "cell_type": "code",
   "execution_count": null,
   "metadata": {},
   "outputs": [],
   "source": []
  },
  {
   "cell_type": "code",
   "execution_count": 379,
   "metadata": {
    "collapsed": true
   },
   "outputs": [
    {
     "name": "stdout",
     "output_type": "stream",
     "text": [
      "https://boardgamegeek.com/geeklist/198692/item/7135171#item7135171\n",
      "https://boardgamegeek.com/geeklist/198692/item/7549673#item7549673\n",
      "https://boardgamegeek.com/geeklist/198692/item/7330748#item7330748\n",
      "https://boardgamegeek.com/geeklist/198692/item/7454131#item7454131\n",
      "https://boardgamegeek.com/geeklist/198692/item/7513950#item7513950\n",
      "https://boardgamegeek.com/geeklist/198692/item/7530537#item7530537\n",
      "https://boardgamegeek.com/geeklist/198692/item/7332346#item7332346\n",
      "https://boardgamegeek.com/geeklist/198692/item/7284203#item7284203\n",
      "https://boardgamegeek.com/geeklist/198692/item/7554628#item7554628\n",
      "https://boardgamegeek.com/geeklist/198692/item/7450171#item7450171\n",
      "https://boardgamegeek.com/geeklist/198692/item/7330740#item7330740\n",
      "https://boardgamegeek.com/geeklist/198692/item/7372076#item7372076\n",
      "https://boardgamegeek.com/geeklist/198692/item/7345770#item7345770\n",
      "https://boardgamegeek.com/geeklist/198692/item/7381269#item7381269\n",
      "https://boardgamegeek.com/geeklist/198692/item/7411793#item7411793\n",
      "https://boardgamegeek.com/geeklist/198692/item/7505143#item7505143\n",
      "https://boardgamegeek.com/geeklist/198692/item/7366676#item7366676\n",
      "https://boardgamegeek.com/geeklist/198692/item/7561073#item7561073\n",
      "https://boardgamegeek.com/geeklist/198692/item/7465096#item7465096\n",
      "https://boardgamegeek.com/geeklist/198692/item/7465083#item7465083\n",
      "https://boardgamegeek.com/geeklist/198692/item/7541895#item7541895\n",
      "https://boardgamegeek.com/geeklist/198692/item/7410885#item7410885\n",
      "https://boardgamegeek.com/geeklist/198692/item/7314051#item7314051\n",
      "https://boardgamegeek.com/geeklist/198692/item/7562614#item7562614\n",
      "https://boardgamegeek.com/geeklist/198692/item/7553304#item7553304\n"
     ]
    }
   ],
   "source": [
    "for i in top_games[:25]:\n",
    "    print(i)"
   ]
  },
  {
   "cell_type": "code",
   "execution_count": null,
   "metadata": {},
   "outputs": [],
   "source": []
  },
  {
   "cell_type": "code",
   "execution_count": null,
   "metadata": {},
   "outputs": [],
   "source": []
  },
  {
   "cell_type": "markdown",
   "metadata": {},
   "source": [
    "# Things To Do"
   ]
  },
  {
   "cell_type": "markdown",
   "metadata": {},
   "source": [
    "#Scraping- Fix missing seller for unranked games\n",
    "\n",
    "#Find way to get into SQL\n",
    "\n",
    "#Scraping or ETL- Make sure you don't scrape if I already have it.\n",
    "#or grab everything and keep the last item, drop last\n",
    "\n",
    "#Make posted and edited rows date objects"
   ]
  },
  {
   "cell_type": "code",
   "execution_count": null,
   "metadata": {},
   "outputs": [],
   "source": []
  }
 ],
 "metadata": {
  "kernelspec": {
   "display_name": "Python 3",
   "language": "python",
   "name": "python3"
  },
  "language_info": {
   "codemirror_mode": {
    "name": "ipython",
    "version": 3
   },
   "file_extension": ".py",
   "mimetype": "text/x-python",
   "name": "python",
   "nbconvert_exporter": "python",
   "pygments_lexer": "ipython3",
   "version": "3.7.4"
  },
  "toc": {
   "base_numbering": 1,
   "nav_menu": {},
   "number_sections": true,
   "sideBar": true,
   "skip_h1_title": false,
   "title_cell": "Table of Contents",
   "title_sidebar": "Contents",
   "toc_cell": false,
   "toc_position": {
    "height": "calc(100% - 180px)",
    "left": "10px",
    "top": "150px",
    "width": "198px"
   },
   "toc_section_display": true,
   "toc_window_display": true
  }
 },
 "nbformat": 4,
 "nbformat_minor": 2
}
