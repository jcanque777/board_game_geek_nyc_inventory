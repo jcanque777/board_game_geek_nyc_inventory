{
 "cells": [
  {
   "cell_type": "code",
   "execution_count": 1,
   "metadata": {},
   "outputs": [],
   "source": [
    "import pandas as pd\n",
    "import numpy as np\n",
    "\n",
    "from selenium.webdriver.support import expected_conditions as EC\n",
    "from selenium.common.exceptions import TimeoutException\n",
    "from selenium.webdriver.support.ui import WebDriverWait\n",
    "from selenium.webdriver.common.keys import Keys\n",
    "from selenium.webdriver.common.by import By\n",
    "from selenium import webdriver\n",
    "\n",
    "from bs4 import BeautifulSoup \n",
    "import requests \n",
    "\n",
    "from tqdm import tnrange, tqdm_notebook as tqdm\n",
    "import time\n",
    "import random\n",
    "from copy import deepcopy\n",
    "\n",
    "import pickle"
   ]
  },
  {
   "cell_type": "code",
   "execution_count": 5,
   "metadata": {},
   "outputs": [],
   "source": [
    "df = pd.read_pickle('bgg_full_df_600.pkl')"
   ]
  },
  {
   "cell_type": "code",
   "execution_count": 41,
   "metadata": {},
   "outputs": [
    {
     "data": {
      "text/html": [
       "<div>\n",
       "<style scoped>\n",
       "    .dataframe tbody tr th:only-of-type {\n",
       "        vertical-align: middle;\n",
       "    }\n",
       "\n",
       "    .dataframe tbody tr th {\n",
       "        vertical-align: top;\n",
       "    }\n",
       "\n",
       "    .dataframe thead th {\n",
       "        text-align: right;\n",
       "    }\n",
       "</style>\n",
       "<table border=\"1\" class=\"dataframe\">\n",
       "  <thead>\n",
       "    <tr style=\"text-align: right;\">\n",
       "      <th></th>\n",
       "      <th>0</th>\n",
       "      <th>1</th>\n",
       "      <th>2</th>\n",
       "      <th>name</th>\n",
       "      <th>overall_rank</th>\n",
       "      <th>category_rank</th>\n",
       "      <th>no_of_players</th>\n",
       "      <th>playing_time</th>\n",
       "      <th>complexity</th>\n",
       "      <th>prices</th>\n",
       "      <th>categories</th>\n",
       "      <th>mechanism</th>\n",
       "      <th>category_rank_cat</th>\n",
       "      <th>no_of_players_suggested</th>\n",
       "      <th>no_of_players_best_rec</th>\n",
       "    </tr>\n",
       "  </thead>\n",
       "  <tbody>\n",
       "    <tr>\n",
       "      <td>0</td>\n",
       "      <td>7.1</td>\n",
       "      <td>Thurn and Taxis (2006)</td>\n",
       "      <td>17K Ratings &amp; 3.9K Comments · GeekBuddy Analysis</td>\n",
       "      <td>7.1\\nThurn and Taxis (2006)\\n17K Ratings &amp; 3.9...</td>\n",
       "      <td>402</td>\n",
       "      <td>281</td>\n",
       "      <td>2–4 Players\\nCommunity: 2–4 — Best: 3–4</td>\n",
       "      <td>60 Min\\nPlaying Time</td>\n",
       "      <td>Weight: 2.26 / 5\\nComplexity Rating\\n'Complexi...</td>\n",
       "      <td>STORES\\n(unavailable)\\nAmazon.com\\nEbay listings</td>\n",
       "      <td>Categories\\nPost-Napoleonic\\nTransportation</td>\n",
       "      <td>Mechanisms\\nCard Drafting\\nHand Management\\nNe...</td>\n",
       "      <td>STRATEGY</td>\n",
       "      <td>2–4 Players</td>\n",
       "      <td>3–4</td>\n",
       "    </tr>\n",
       "    <tr>\n",
       "      <td>1</td>\n",
       "      <td>7.5</td>\n",
       "      <td>Cosmic Encounter (2008)</td>\n",
       "      <td>26K Ratings &amp; 5.4K Comments · GeekBuddy Analysis</td>\n",
       "      <td>7.5\\nCosmic Encounter (2008)\\n26K Ratings &amp; 5....</td>\n",
       "      <td>130</td>\n",
       "      <td>50</td>\n",
       "      <td>3–5 Players\\nCommunity: 4–5+ — Best: 5</td>\n",
       "      <td>60–120 Min\\nPlaying Time</td>\n",
       "      <td>Weight: 2.57 / 5\\nComplexity Rating\\n'Complexi...</td>\n",
       "      <td>STORES\\n$59.95\\nSuggested retail\\n$53.95\\nAmaz...</td>\n",
       "      <td>Categories\\nBluffing\\nNegotiation\\nScience Fic...</td>\n",
       "      <td>Mechanisms\\nAlliances\\nAuction/Bidding\\nHand M...</td>\n",
       "      <td>THEMATIC</td>\n",
       "      <td>3–5 Players</td>\n",
       "      <td>5</td>\n",
       "    </tr>\n",
       "    <tr>\n",
       "      <td>2</td>\n",
       "      <td>7.1</td>\n",
       "      <td>Eminent Domain (2011)</td>\n",
       "      <td>9K Ratings &amp; 2.3K Comments · GeekBuddy Analysis</td>\n",
       "      <td>7.1\\nEminent Domain (2011)\\n9K Ratings &amp; 2.3K ...</td>\n",
       "      <td>515</td>\n",
       "      <td>334</td>\n",
       "      <td>2–4 Players\\nCommunity: 2–4 — Best: 3</td>\n",
       "      <td>45 Min\\nPlaying Time</td>\n",
       "      <td>Weight: 2.50 / 5\\nComplexity Rating\\n'Complexi...</td>\n",
       "      <td>STORES\\n$39.99\\nSuggested retail\\n$29.82\\nAmaz...</td>\n",
       "      <td>Categories\\nCard Game\\nCivilization\\nScience F...</td>\n",
       "      <td>Mechanisms\\nCard Drafting\\nDeck, Bag, and Pool...</td>\n",
       "      <td>STRATEGY</td>\n",
       "      <td>2–4 Players</td>\n",
       "      <td>3</td>\n",
       "    </tr>\n",
       "    <tr>\n",
       "      <td>3</td>\n",
       "      <td>7.9</td>\n",
       "      <td>Yokohama (2016)</td>\n",
       "      <td>7.4K Ratings &amp; 1.4K Comments · GeekBuddy Analysis</td>\n",
       "      <td>7.9\\nYokohama (2016)\\n7.4K Ratings &amp; 1.4K Comm...</td>\n",
       "      <td>93</td>\n",
       "      <td>65</td>\n",
       "      <td>2–4 Players\\nCommunity: 2–4 — Best: 3</td>\n",
       "      <td>90 Min\\nPlaying Time</td>\n",
       "      <td>Weight: 3.31 / 5\\nComplexity Rating\\n'Complexi...</td>\n",
       "      <td>STORES\\n$59.95\\nSuggested retail\\n$51.61\\nAmaz...</td>\n",
       "      <td>Category\\nEconomic</td>\n",
       "      <td>Mechanisms\\nContracts\\nEnd Game Bonuses\\nGrid ...</td>\n",
       "      <td>STRATEGY</td>\n",
       "      <td>2–4 Players</td>\n",
       "      <td>3</td>\n",
       "    </tr>\n",
       "    <tr>\n",
       "      <td>4</td>\n",
       "      <td>8.3</td>\n",
       "      <td>Great Western Trail (2016)</td>\n",
       "      <td>24K Ratings &amp; 3.3K Comments · GeekBuddy Analysis</td>\n",
       "      <td>8.3\\nGreat Western Trail (2016)\\n24K Ratings &amp;...</td>\n",
       "      <td>10</td>\n",
       "      <td>10</td>\n",
       "      <td>2–4 Players\\nCommunity: 2–4 — Best: 3</td>\n",
       "      <td>75–150 Min\\nPlaying Time</td>\n",
       "      <td>Weight: 3.70 / 5\\nComplexity Rating\\n'Complexi...</td>\n",
       "      <td>STORES\\n(unavailable)\\nAmazon.com\\nEbay listings</td>\n",
       "      <td>Categories\\nAmerican West\\nAnimals</td>\n",
       "      <td>Mechanisms\\nDeck, Bag, and Pool Building\\nHand...</td>\n",
       "      <td>STRATEGY</td>\n",
       "      <td>2–4 Players</td>\n",
       "      <td>3</td>\n",
       "    </tr>\n",
       "  </tbody>\n",
       "</table>\n",
       "</div>"
      ],
      "text/plain": [
       "     0                           1  \\\n",
       "0  7.1      Thurn and Taxis (2006)   \n",
       "1  7.5     Cosmic Encounter (2008)   \n",
       "2  7.1       Eminent Domain (2011)   \n",
       "3  7.9             Yokohama (2016)   \n",
       "4  8.3  Great Western Trail (2016)   \n",
       "\n",
       "                                                   2  \\\n",
       "0   17K Ratings & 3.9K Comments · GeekBuddy Analysis   \n",
       "1   26K Ratings & 5.4K Comments · GeekBuddy Analysis   \n",
       "2    9K Ratings & 2.3K Comments · GeekBuddy Analysis   \n",
       "3  7.4K Ratings & 1.4K Comments · GeekBuddy Analysis   \n",
       "4   24K Ratings & 3.3K Comments · GeekBuddy Analysis   \n",
       "\n",
       "                                                name overall_rank  \\\n",
       "0  7.1\\nThurn and Taxis (2006)\\n17K Ratings & 3.9...          402   \n",
       "1  7.5\\nCosmic Encounter (2008)\\n26K Ratings & 5....          130   \n",
       "2  7.1\\nEminent Domain (2011)\\n9K Ratings & 2.3K ...          515   \n",
       "3  7.9\\nYokohama (2016)\\n7.4K Ratings & 1.4K Comm...           93   \n",
       "4  8.3\\nGreat Western Trail (2016)\\n24K Ratings &...           10   \n",
       "\n",
       "  category_rank                            no_of_players  \\\n",
       "0           281  2–4 Players\\nCommunity: 2–4 — Best: 3–4   \n",
       "1            50   3–5 Players\\nCommunity: 4–5+ — Best: 5   \n",
       "2           334    2–4 Players\\nCommunity: 2–4 — Best: 3   \n",
       "3            65    2–4 Players\\nCommunity: 2–4 — Best: 3   \n",
       "4            10    2–4 Players\\nCommunity: 2–4 — Best: 3   \n",
       "\n",
       "               playing_time  \\\n",
       "0      60 Min\\nPlaying Time   \n",
       "1  60–120 Min\\nPlaying Time   \n",
       "2      45 Min\\nPlaying Time   \n",
       "3      90 Min\\nPlaying Time   \n",
       "4  75–150 Min\\nPlaying Time   \n",
       "\n",
       "                                          complexity  \\\n",
       "0  Weight: 2.26 / 5\\nComplexity Rating\\n'Complexi...   \n",
       "1  Weight: 2.57 / 5\\nComplexity Rating\\n'Complexi...   \n",
       "2  Weight: 2.50 / 5\\nComplexity Rating\\n'Complexi...   \n",
       "3  Weight: 3.31 / 5\\nComplexity Rating\\n'Complexi...   \n",
       "4  Weight: 3.70 / 5\\nComplexity Rating\\n'Complexi...   \n",
       "\n",
       "                                              prices  \\\n",
       "0   STORES\\n(unavailable)\\nAmazon.com\\nEbay listings   \n",
       "1  STORES\\n$59.95\\nSuggested retail\\n$53.95\\nAmaz...   \n",
       "2  STORES\\n$39.99\\nSuggested retail\\n$29.82\\nAmaz...   \n",
       "3  STORES\\n$59.95\\nSuggested retail\\n$51.61\\nAmaz...   \n",
       "4   STORES\\n(unavailable)\\nAmazon.com\\nEbay listings   \n",
       "\n",
       "                                          categories  \\\n",
       "0        Categories\\nPost-Napoleonic\\nTransportation   \n",
       "1  Categories\\nBluffing\\nNegotiation\\nScience Fic...   \n",
       "2  Categories\\nCard Game\\nCivilization\\nScience F...   \n",
       "3                                 Category\\nEconomic   \n",
       "4                 Categories\\nAmerican West\\nAnimals   \n",
       "\n",
       "                                           mechanism category_rank_cat  \\\n",
       "0  Mechanisms\\nCard Drafting\\nHand Management\\nNe...          STRATEGY   \n",
       "1  Mechanisms\\nAlliances\\nAuction/Bidding\\nHand M...          THEMATIC   \n",
       "2  Mechanisms\\nCard Drafting\\nDeck, Bag, and Pool...          STRATEGY   \n",
       "3  Mechanisms\\nContracts\\nEnd Game Bonuses\\nGrid ...          STRATEGY   \n",
       "4  Mechanisms\\nDeck, Bag, and Pool Building\\nHand...          STRATEGY   \n",
       "\n",
       "  no_of_players_suggested no_of_players_best_rec  \n",
       "0             2–4 Players                    3–4  \n",
       "1             3–5 Players                      5  \n",
       "2             2–4 Players                      3  \n",
       "3             2–4 Players                      3  \n",
       "4             2–4 Players                      3  "
      ]
     },
     "execution_count": 41,
     "metadata": {},
     "output_type": "execute_result"
    }
   ],
   "source": [
    "df.head()"
   ]
  },
  {
   "cell_type": "code",
   "execution_count": 9,
   "metadata": {},
   "outputs": [],
   "source": [
    "names = df['name'].str.split('\\n', expand =True)"
   ]
  },
  {
   "cell_type": "code",
   "execution_count": 11,
   "metadata": {},
   "outputs": [],
   "source": [
    "df = names.merge(df, how='inner', left_index=True, right_index=True)"
   ]
  },
  {
   "cell_type": "code",
   "execution_count": 19,
   "metadata": {},
   "outputs": [],
   "source": [
    "df['overall_rank'] = df['overall_rank'].str.split(' ', expand =True)[1]"
   ]
  },
  {
   "cell_type": "code",
   "execution_count": 27,
   "metadata": {},
   "outputs": [],
   "source": [
    "df['category_rank_cat'] = df['category_rank'].str.split(' ', expand= True)[0]"
   ]
  },
  {
   "cell_type": "code",
   "execution_count": 28,
   "metadata": {},
   "outputs": [],
   "source": [
    "df['category_rank'] = df['category_rank'].str.split(' ', expand= True)[1]"
   ]
  },
  {
   "cell_type": "code",
   "execution_count": 34,
   "metadata": {},
   "outputs": [],
   "source": [
    "df['no_of_players_suggested'] = df['no_of_players'].str.split('\\n', expand =True)[0]"
   ]
  },
  {
   "cell_type": "code",
   "execution_count": 40,
   "metadata": {},
   "outputs": [],
   "source": [
    "df['no_of_players_best_rec']= df['no_of_players'].str.split('\\n', expand =True)[1].str.split('Best: ', expand =True)[1]"
   ]
  },
  {
   "cell_type": "code",
   "execution_count": 47,
   "metadata": {},
   "outputs": [],
   "source": [
    "df['playing_time'] = df['playing_time'].str.split('\\n', expand = True)[0]"
   ]
  },
  {
   "cell_type": "code",
   "execution_count": 52,
   "metadata": {},
   "outputs": [],
   "source": [
    "df['complexity'] = df['complexity'].str.split('\\n', expand =True)[0]"
   ]
  },
  {
   "cell_type": "code",
   "execution_count": 55,
   "metadata": {},
   "outputs": [
    {
     "data": {
      "text/plain": [
       "0          [Categories, Post-Napoleonic, Transportation]\n",
       "1      [Categories, Bluffing, Negotiation, Science Fi...\n",
       "2      [Categories, Card Game, Civilization, Science ...\n",
       "3                                   [Category, Economic]\n",
       "4                   [Categories, American West, Animals]\n",
       "                             ...                        \n",
       "594                    [Categories, Card Game, Medieval]\n",
       "595    [Categories, Card Game, Civilization, Economic...\n",
       "596                  [Categories, Wargame, World War II]\n",
       "597    [Categories, Economic, Pike and Shot, Renaissa...\n",
       "598           [Categories, Card Game, Deduction, Memory]\n",
       "Name: categories, Length: 599, dtype: object"
      ]
     },
     "execution_count": 55,
     "metadata": {},
     "output_type": "execute_result"
    }
   ],
   "source": [
    "df['categories'].str.split('\\n')"
   ]
  },
  {
   "cell_type": "code",
   "execution_count": null,
   "metadata": {},
   "outputs": [],
   "source": []
  }
 ],
 "metadata": {
  "kernelspec": {
   "display_name": "Python 3",
   "language": "python",
   "name": "python3"
  },
  "language_info": {
   "codemirror_mode": {
    "name": "ipython",
    "version": 3
   },
   "file_extension": ".py",
   "mimetype": "text/x-python",
   "name": "python",
   "nbconvert_exporter": "python",
   "pygments_lexer": "ipython3",
   "version": "3.7.4"
  },
  "toc": {
   "base_numbering": 1,
   "nav_menu": {},
   "number_sections": true,
   "sideBar": true,
   "skip_h1_title": false,
   "title_cell": "Table of Contents",
   "title_sidebar": "Contents",
   "toc_cell": false,
   "toc_position": {},
   "toc_section_display": true,
   "toc_window_display": false
  }
 },
 "nbformat": 4,
 "nbformat_minor": 2
}
